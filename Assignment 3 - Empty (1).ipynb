{
 "cells": [
  {
   "cell_type": "markdown",
   "id": "43554d37",
   "metadata": {},
   "source": [
    "# Turing Machine and Deep Learning 2023\n",
    "\n",
    "## Assignment Unupervised ML\n",
    "\n",
    "This notebook is meant for you to review and reflect on the content of Lecture 3, which was mainly about unsupervised learning problems. As with last week, this notebook should not be too much quantitative work (lines of code) but keep in mind that running this notebook may take a longer time than you may be used to for python programs (*training good models take time!*) \n",
    "\n",
    "### Handing in your Assignment\n",
    "\n",
    "Git is an invaluable resource to researchers and developers, and thus for this course, all course material will be (additionally) shared on GitHub. Though there is a tiny bit of a learning curve, this is worth the effort. To hand in your assignment (applicable to all weeks):\n",
    "\n",
    "1. Create a folder called \"Week 2\" and copy this notebook and any other files or data that may be needed.\n",
    "2. Finish the notebook and commit and push regularly. Your final commit before the deadline will be graded. \n",
    "\n",
    "\n",
    "### Grading\n",
    "\n",
    "Each one of the (sub-)questions below will be graded either 0 (insufficient), 1 (sufficient) or 2 (good). If $N$ is the number of sub-questions, and $p_i$ is your score for sub-question $i$, your total grade $G$ for this assignment is:\n",
    "$$G=\\frac{1}{2 N}\\sum_{i=0}^{N}p_i$$"
   ]
  },
  {
   "cell_type": "code",
   "execution_count": 1,
   "id": "52fbab8b",
   "metadata": {
    "ExecuteTime": {
     "end_time": "2024-03-20T19:11:48.425127300Z",
     "start_time": "2024-03-20T19:11:48.368217100Z"
    }
   },
   "outputs": [],
   "source": [
    "# load common libraries\n",
    "import numpy as np                 # maths\n",
    "import matplotlib.pyplot as plt    # plotting\n",
    "import pandas as pd                # data manipulation\n",
    "from tqdm import tqdm              # loading bar\n",
    "from time import perf_counter      # timer"
   ]
  },
  {
   "cell_type": "markdown",
   "id": "bf4c3a0a",
   "metadata": {},
   "source": [
    "# Q1 Loading and preprocessing data\n",
    "\n",
    "In this repository, you should find a file called `tmdb_5000_movies.csv` which is information from a subset of movies on The Movie Database."
   ]
  },
  {
   "cell_type": "markdown",
   "id": "40715541",
   "metadata": {},
   "source": [
    "### Q.1.1 \n",
    "Use pandas to read in the csv file (refer to [read_csv](https://pandas.pydata.org/docs/reference/api/pandas.read_csv.html) if you're unfamiliar)."
   ]
  },
  {
   "cell_type": "code",
   "execution_count": 3,
   "id": "c10a5202",
   "metadata": {
    "ExecuteTime": {
     "end_time": "2024-03-20T19:13:49.077995500Z",
     "start_time": "2024-03-20T19:13:48.836324900Z"
    }
   },
   "outputs": [
    {
     "data": {
      "text/plain": "         budget                                             genres  \\\n0     237000000  [{\"id\": 28, \"name\": \"Action\"}, {\"id\": 12, \"nam...   \n1     300000000  [{\"id\": 12, \"name\": \"Adventure\"}, {\"id\": 14, \"...   \n2     245000000  [{\"id\": 28, \"name\": \"Action\"}, {\"id\": 12, \"nam...   \n3     250000000  [{\"id\": 28, \"name\": \"Action\"}, {\"id\": 80, \"nam...   \n4     260000000  [{\"id\": 28, \"name\": \"Action\"}, {\"id\": 12, \"nam...   \n...         ...                                                ...   \n4798     220000  [{\"id\": 28, \"name\": \"Action\"}, {\"id\": 80, \"nam...   \n4799       9000  [{\"id\": 35, \"name\": \"Comedy\"}, {\"id\": 10749, \"...   \n4800          0  [{\"id\": 35, \"name\": \"Comedy\"}, {\"id\": 18, \"nam...   \n4801          0                                                 []   \n4802          0                [{\"id\": 99, \"name\": \"Documentary\"}]   \n\n                                               homepage      id  \\\n0                           http://www.avatarmovie.com/   19995   \n1          http://disney.go.com/disneypictures/pirates/     285   \n2           http://www.sonypictures.com/movies/spectre/  206647   \n3                    http://www.thedarkknightrises.com/   49026   \n4                  http://movies.disney.com/john-carter   49529   \n...                                                 ...     ...   \n4798                                                NaN    9367   \n4799                                                NaN   72766   \n4800  http://www.hallmarkchannel.com/signedsealeddel...  231617   \n4801                        http://shanghaicalling.com/  126186   \n4802                                                NaN   25975   \n\n                                               keywords original_language  \\\n0     [{\"id\": 1463, \"name\": \"culture clash\"}, {\"id\":...                en   \n1     [{\"id\": 270, \"name\": \"ocean\"}, {\"id\": 726, \"na...                en   \n2     [{\"id\": 470, \"name\": \"spy\"}, {\"id\": 818, \"name...                en   \n3     [{\"id\": 849, \"name\": \"dc comics\"}, {\"id\": 853,...                en   \n4     [{\"id\": 818, \"name\": \"based on novel\"}, {\"id\":...                en   \n...                                                 ...               ...   \n4798  [{\"id\": 5616, \"name\": \"united states\\u2013mexi...                es   \n4799                                                 []                en   \n4800  [{\"id\": 248, \"name\": \"date\"}, {\"id\": 699, \"nam...                en   \n4801                                                 []                en   \n4802  [{\"id\": 1523, \"name\": \"obsession\"}, {\"id\": 224...                en   \n\n                                original_title  \\\n0                                       Avatar   \n1     Pirates of the Caribbean: At World's End   \n2                                      Spectre   \n3                        The Dark Knight Rises   \n4                                  John Carter   \n...                                        ...   \n4798                               El Mariachi   \n4799                                 Newlyweds   \n4800                 Signed, Sealed, Delivered   \n4801                          Shanghai Calling   \n4802                         My Date with Drew   \n\n                                               overview  popularity  \\\n0     In the 22nd century, a paraplegic Marine is di...  150.437577   \n1     Captain Barbossa, long believed to be dead, ha...  139.082615   \n2     A cryptic message from Bond’s past sends him o...  107.376788   \n3     Following the death of District Attorney Harve...  112.312950   \n4     John Carter is a war-weary, former military ca...   43.926995   \n...                                                 ...         ...   \n4798  El Mariachi just wants to play his guitar and ...   14.269792   \n4799  A newlywed couple's honeymoon is upended by th...    0.642552   \n4800  \"Signed, Sealed, Delivered\" introduces a dedic...    1.444476   \n4801  When ambitious New York attorney Sam is sent t...    0.857008   \n4802  Ever since the second grade when he first saw ...    1.929883   \n\n                                   production_companies  \\\n0     [{\"name\": \"Ingenious Film Partners\", \"id\": 289...   \n1     [{\"name\": \"Walt Disney Pictures\", \"id\": 2}, {\"...   \n2     [{\"name\": \"Columbia Pictures\", \"id\": 5}, {\"nam...   \n3     [{\"name\": \"Legendary Pictures\", \"id\": 923}, {\"...   \n4           [{\"name\": \"Walt Disney Pictures\", \"id\": 2}]   \n...                                                 ...   \n4798           [{\"name\": \"Columbia Pictures\", \"id\": 5}]   \n4799                                                 []   \n4800  [{\"name\": \"Front Street Pictures\", \"id\": 3958}...   \n4801                                                 []   \n4802  [{\"name\": \"rusty bear entertainment\", \"id\": 87...   \n\n                                   production_countries release_date  \\\n0     [{\"iso_3166_1\": \"US\", \"name\": \"United States o...   2009-12-10   \n1     [{\"iso_3166_1\": \"US\", \"name\": \"United States o...   2007-05-19   \n2     [{\"iso_3166_1\": \"GB\", \"name\": \"United Kingdom\"...   2015-10-26   \n3     [{\"iso_3166_1\": \"US\", \"name\": \"United States o...   2012-07-16   \n4     [{\"iso_3166_1\": \"US\", \"name\": \"United States o...   2012-03-07   \n...                                                 ...          ...   \n4798  [{\"iso_3166_1\": \"MX\", \"name\": \"Mexico\"}, {\"iso...   1992-09-04   \n4799                                                 []   2011-12-26   \n4800  [{\"iso_3166_1\": \"US\", \"name\": \"United States o...   2013-10-13   \n4801  [{\"iso_3166_1\": \"US\", \"name\": \"United States o...   2012-05-03   \n4802  [{\"iso_3166_1\": \"US\", \"name\": \"United States o...   2005-08-05   \n\n         revenue  runtime                                   spoken_languages  \\\n0     2787965087    162.0  [{\"iso_639_1\": \"en\", \"name\": \"English\"}, {\"iso...   \n1      961000000    169.0           [{\"iso_639_1\": \"en\", \"name\": \"English\"}]   \n2      880674609    148.0  [{\"iso_639_1\": \"fr\", \"name\": \"Fran\\u00e7ais\"},...   \n3     1084939099    165.0           [{\"iso_639_1\": \"en\", \"name\": \"English\"}]   \n4      284139100    132.0           [{\"iso_639_1\": \"en\", \"name\": \"English\"}]   \n...          ...      ...                                                ...   \n4798     2040920     81.0      [{\"iso_639_1\": \"es\", \"name\": \"Espa\\u00f1ol\"}]   \n4799           0     85.0                                                 []   \n4800           0    120.0           [{\"iso_639_1\": \"en\", \"name\": \"English\"}]   \n4801           0     98.0           [{\"iso_639_1\": \"en\", \"name\": \"English\"}]   \n4802           0     90.0           [{\"iso_639_1\": \"en\", \"name\": \"English\"}]   \n\n        status                                            tagline  \\\n0     Released                        Enter the World of Pandora.   \n1     Released     At the end of the world, the adventure begins.   \n2     Released                              A Plan No One Escapes   \n3     Released                                    The Legend Ends   \n4     Released               Lost in our world, found in another.   \n...        ...                                                ...   \n4798  Released  He didn't come looking for trouble, but troubl...   \n4799  Released  A newlywed couple's honeymoon is upended by th...   \n4800  Released                                                NaN   \n4801  Released                           A New Yorker in Shanghai   \n4802  Released                                                NaN   \n\n                                         title  vote_average  vote_count  \n0                                       Avatar           7.2       11800  \n1     Pirates of the Caribbean: At World's End           6.9        4500  \n2                                      Spectre           6.3        4466  \n3                        The Dark Knight Rises           7.6        9106  \n4                                  John Carter           6.1        2124  \n...                                        ...           ...         ...  \n4798                               El Mariachi           6.6         238  \n4799                                 Newlyweds           5.9           5  \n4800                 Signed, Sealed, Delivered           7.0           6  \n4801                          Shanghai Calling           5.7           7  \n4802                         My Date with Drew           6.3          16  \n\n[4803 rows x 20 columns]",
      "text/html": "<div>\n<style scoped>\n    .dataframe tbody tr th:only-of-type {\n        vertical-align: middle;\n    }\n\n    .dataframe tbody tr th {\n        vertical-align: top;\n    }\n\n    .dataframe thead th {\n        text-align: right;\n    }\n</style>\n<table border=\"1\" class=\"dataframe\">\n  <thead>\n    <tr style=\"text-align: right;\">\n      <th></th>\n      <th>budget</th>\n      <th>genres</th>\n      <th>homepage</th>\n      <th>id</th>\n      <th>keywords</th>\n      <th>original_language</th>\n      <th>original_title</th>\n      <th>overview</th>\n      <th>popularity</th>\n      <th>production_companies</th>\n      <th>production_countries</th>\n      <th>release_date</th>\n      <th>revenue</th>\n      <th>runtime</th>\n      <th>spoken_languages</th>\n      <th>status</th>\n      <th>tagline</th>\n      <th>title</th>\n      <th>vote_average</th>\n      <th>vote_count</th>\n    </tr>\n  </thead>\n  <tbody>\n    <tr>\n      <th>0</th>\n      <td>237000000</td>\n      <td>[{\"id\": 28, \"name\": \"Action\"}, {\"id\": 12, \"nam...</td>\n      <td>http://www.avatarmovie.com/</td>\n      <td>19995</td>\n      <td>[{\"id\": 1463, \"name\": \"culture clash\"}, {\"id\":...</td>\n      <td>en</td>\n      <td>Avatar</td>\n      <td>In the 22nd century, a paraplegic Marine is di...</td>\n      <td>150.437577</td>\n      <td>[{\"name\": \"Ingenious Film Partners\", \"id\": 289...</td>\n      <td>[{\"iso_3166_1\": \"US\", \"name\": \"United States o...</td>\n      <td>2009-12-10</td>\n      <td>2787965087</td>\n      <td>162.0</td>\n      <td>[{\"iso_639_1\": \"en\", \"name\": \"English\"}, {\"iso...</td>\n      <td>Released</td>\n      <td>Enter the World of Pandora.</td>\n      <td>Avatar</td>\n      <td>7.2</td>\n      <td>11800</td>\n    </tr>\n    <tr>\n      <th>1</th>\n      <td>300000000</td>\n      <td>[{\"id\": 12, \"name\": \"Adventure\"}, {\"id\": 14, \"...</td>\n      <td>http://disney.go.com/disneypictures/pirates/</td>\n      <td>285</td>\n      <td>[{\"id\": 270, \"name\": \"ocean\"}, {\"id\": 726, \"na...</td>\n      <td>en</td>\n      <td>Pirates of the Caribbean: At World's End</td>\n      <td>Captain Barbossa, long believed to be dead, ha...</td>\n      <td>139.082615</td>\n      <td>[{\"name\": \"Walt Disney Pictures\", \"id\": 2}, {\"...</td>\n      <td>[{\"iso_3166_1\": \"US\", \"name\": \"United States o...</td>\n      <td>2007-05-19</td>\n      <td>961000000</td>\n      <td>169.0</td>\n      <td>[{\"iso_639_1\": \"en\", \"name\": \"English\"}]</td>\n      <td>Released</td>\n      <td>At the end of the world, the adventure begins.</td>\n      <td>Pirates of the Caribbean: At World's End</td>\n      <td>6.9</td>\n      <td>4500</td>\n    </tr>\n    <tr>\n      <th>2</th>\n      <td>245000000</td>\n      <td>[{\"id\": 28, \"name\": \"Action\"}, {\"id\": 12, \"nam...</td>\n      <td>http://www.sonypictures.com/movies/spectre/</td>\n      <td>206647</td>\n      <td>[{\"id\": 470, \"name\": \"spy\"}, {\"id\": 818, \"name...</td>\n      <td>en</td>\n      <td>Spectre</td>\n      <td>A cryptic message from Bond’s past sends him o...</td>\n      <td>107.376788</td>\n      <td>[{\"name\": \"Columbia Pictures\", \"id\": 5}, {\"nam...</td>\n      <td>[{\"iso_3166_1\": \"GB\", \"name\": \"United Kingdom\"...</td>\n      <td>2015-10-26</td>\n      <td>880674609</td>\n      <td>148.0</td>\n      <td>[{\"iso_639_1\": \"fr\", \"name\": \"Fran\\u00e7ais\"},...</td>\n      <td>Released</td>\n      <td>A Plan No One Escapes</td>\n      <td>Spectre</td>\n      <td>6.3</td>\n      <td>4466</td>\n    </tr>\n    <tr>\n      <th>3</th>\n      <td>250000000</td>\n      <td>[{\"id\": 28, \"name\": \"Action\"}, {\"id\": 80, \"nam...</td>\n      <td>http://www.thedarkknightrises.com/</td>\n      <td>49026</td>\n      <td>[{\"id\": 849, \"name\": \"dc comics\"}, {\"id\": 853,...</td>\n      <td>en</td>\n      <td>The Dark Knight Rises</td>\n      <td>Following the death of District Attorney Harve...</td>\n      <td>112.312950</td>\n      <td>[{\"name\": \"Legendary Pictures\", \"id\": 923}, {\"...</td>\n      <td>[{\"iso_3166_1\": \"US\", \"name\": \"United States o...</td>\n      <td>2012-07-16</td>\n      <td>1084939099</td>\n      <td>165.0</td>\n      <td>[{\"iso_639_1\": \"en\", \"name\": \"English\"}]</td>\n      <td>Released</td>\n      <td>The Legend Ends</td>\n      <td>The Dark Knight Rises</td>\n      <td>7.6</td>\n      <td>9106</td>\n    </tr>\n    <tr>\n      <th>4</th>\n      <td>260000000</td>\n      <td>[{\"id\": 28, \"name\": \"Action\"}, {\"id\": 12, \"nam...</td>\n      <td>http://movies.disney.com/john-carter</td>\n      <td>49529</td>\n      <td>[{\"id\": 818, \"name\": \"based on novel\"}, {\"id\":...</td>\n      <td>en</td>\n      <td>John Carter</td>\n      <td>John Carter is a war-weary, former military ca...</td>\n      <td>43.926995</td>\n      <td>[{\"name\": \"Walt Disney Pictures\", \"id\": 2}]</td>\n      <td>[{\"iso_3166_1\": \"US\", \"name\": \"United States o...</td>\n      <td>2012-03-07</td>\n      <td>284139100</td>\n      <td>132.0</td>\n      <td>[{\"iso_639_1\": \"en\", \"name\": \"English\"}]</td>\n      <td>Released</td>\n      <td>Lost in our world, found in another.</td>\n      <td>John Carter</td>\n      <td>6.1</td>\n      <td>2124</td>\n    </tr>\n    <tr>\n      <th>...</th>\n      <td>...</td>\n      <td>...</td>\n      <td>...</td>\n      <td>...</td>\n      <td>...</td>\n      <td>...</td>\n      <td>...</td>\n      <td>...</td>\n      <td>...</td>\n      <td>...</td>\n      <td>...</td>\n      <td>...</td>\n      <td>...</td>\n      <td>...</td>\n      <td>...</td>\n      <td>...</td>\n      <td>...</td>\n      <td>...</td>\n      <td>...</td>\n      <td>...</td>\n    </tr>\n    <tr>\n      <th>4798</th>\n      <td>220000</td>\n      <td>[{\"id\": 28, \"name\": \"Action\"}, {\"id\": 80, \"nam...</td>\n      <td>NaN</td>\n      <td>9367</td>\n      <td>[{\"id\": 5616, \"name\": \"united states\\u2013mexi...</td>\n      <td>es</td>\n      <td>El Mariachi</td>\n      <td>El Mariachi just wants to play his guitar and ...</td>\n      <td>14.269792</td>\n      <td>[{\"name\": \"Columbia Pictures\", \"id\": 5}]</td>\n      <td>[{\"iso_3166_1\": \"MX\", \"name\": \"Mexico\"}, {\"iso...</td>\n      <td>1992-09-04</td>\n      <td>2040920</td>\n      <td>81.0</td>\n      <td>[{\"iso_639_1\": \"es\", \"name\": \"Espa\\u00f1ol\"}]</td>\n      <td>Released</td>\n      <td>He didn't come looking for trouble, but troubl...</td>\n      <td>El Mariachi</td>\n      <td>6.6</td>\n      <td>238</td>\n    </tr>\n    <tr>\n      <th>4799</th>\n      <td>9000</td>\n      <td>[{\"id\": 35, \"name\": \"Comedy\"}, {\"id\": 10749, \"...</td>\n      <td>NaN</td>\n      <td>72766</td>\n      <td>[]</td>\n      <td>en</td>\n      <td>Newlyweds</td>\n      <td>A newlywed couple's honeymoon is upended by th...</td>\n      <td>0.642552</td>\n      <td>[]</td>\n      <td>[]</td>\n      <td>2011-12-26</td>\n      <td>0</td>\n      <td>85.0</td>\n      <td>[]</td>\n      <td>Released</td>\n      <td>A newlywed couple's honeymoon is upended by th...</td>\n      <td>Newlyweds</td>\n      <td>5.9</td>\n      <td>5</td>\n    </tr>\n    <tr>\n      <th>4800</th>\n      <td>0</td>\n      <td>[{\"id\": 35, \"name\": \"Comedy\"}, {\"id\": 18, \"nam...</td>\n      <td>http://www.hallmarkchannel.com/signedsealeddel...</td>\n      <td>231617</td>\n      <td>[{\"id\": 248, \"name\": \"date\"}, {\"id\": 699, \"nam...</td>\n      <td>en</td>\n      <td>Signed, Sealed, Delivered</td>\n      <td>\"Signed, Sealed, Delivered\" introduces a dedic...</td>\n      <td>1.444476</td>\n      <td>[{\"name\": \"Front Street Pictures\", \"id\": 3958}...</td>\n      <td>[{\"iso_3166_1\": \"US\", \"name\": \"United States o...</td>\n      <td>2013-10-13</td>\n      <td>0</td>\n      <td>120.0</td>\n      <td>[{\"iso_639_1\": \"en\", \"name\": \"English\"}]</td>\n      <td>Released</td>\n      <td>NaN</td>\n      <td>Signed, Sealed, Delivered</td>\n      <td>7.0</td>\n      <td>6</td>\n    </tr>\n    <tr>\n      <th>4801</th>\n      <td>0</td>\n      <td>[]</td>\n      <td>http://shanghaicalling.com/</td>\n      <td>126186</td>\n      <td>[]</td>\n      <td>en</td>\n      <td>Shanghai Calling</td>\n      <td>When ambitious New York attorney Sam is sent t...</td>\n      <td>0.857008</td>\n      <td>[]</td>\n      <td>[{\"iso_3166_1\": \"US\", \"name\": \"United States o...</td>\n      <td>2012-05-03</td>\n      <td>0</td>\n      <td>98.0</td>\n      <td>[{\"iso_639_1\": \"en\", \"name\": \"English\"}]</td>\n      <td>Released</td>\n      <td>A New Yorker in Shanghai</td>\n      <td>Shanghai Calling</td>\n      <td>5.7</td>\n      <td>7</td>\n    </tr>\n    <tr>\n      <th>4802</th>\n      <td>0</td>\n      <td>[{\"id\": 99, \"name\": \"Documentary\"}]</td>\n      <td>NaN</td>\n      <td>25975</td>\n      <td>[{\"id\": 1523, \"name\": \"obsession\"}, {\"id\": 224...</td>\n      <td>en</td>\n      <td>My Date with Drew</td>\n      <td>Ever since the second grade when he first saw ...</td>\n      <td>1.929883</td>\n      <td>[{\"name\": \"rusty bear entertainment\", \"id\": 87...</td>\n      <td>[{\"iso_3166_1\": \"US\", \"name\": \"United States o...</td>\n      <td>2005-08-05</td>\n      <td>0</td>\n      <td>90.0</td>\n      <td>[{\"iso_639_1\": \"en\", \"name\": \"English\"}]</td>\n      <td>Released</td>\n      <td>NaN</td>\n      <td>My Date with Drew</td>\n      <td>6.3</td>\n      <td>16</td>\n    </tr>\n  </tbody>\n</table>\n<p>4803 rows × 20 columns</p>\n</div>"
     },
     "execution_count": 3,
     "metadata": {},
     "output_type": "execute_result"
    }
   ],
   "source": [
    "df = pd.read_csv('tmdb_5000_movies TMDL 2024.csv')\n",
    "df"
   ]
  },
  {
   "cell_type": "markdown",
   "id": "1915f1f7",
   "metadata": {},
   "source": [
    "View information about the dataset including datatypes and null values"
   ]
  },
  {
   "cell_type": "code",
   "execution_count": 4,
   "id": "c173d066",
   "metadata": {
    "ExecuteTime": {
     "end_time": "2024-03-20T19:13:57.043502900Z",
     "start_time": "2024-03-20T19:13:56.994315100Z"
    }
   },
   "outputs": [
    {
     "name": "stdout",
     "output_type": "stream",
     "text": [
      "<class 'pandas.core.frame.DataFrame'>\n",
      "RangeIndex: 4803 entries, 0 to 4802\n",
      "Data columns (total 20 columns):\n",
      " #   Column                Non-Null Count  Dtype  \n",
      "---  ------                --------------  -----  \n",
      " 0   budget                4803 non-null   int64  \n",
      " 1   genres                4803 non-null   object \n",
      " 2   homepage              1712 non-null   object \n",
      " 3   id                    4803 non-null   int64  \n",
      " 4   keywords              4803 non-null   object \n",
      " 5   original_language     4803 non-null   object \n",
      " 6   original_title        4803 non-null   object \n",
      " 7   overview              4800 non-null   object \n",
      " 8   popularity            4803 non-null   float64\n",
      " 9   production_companies  4803 non-null   object \n",
      " 10  production_countries  4803 non-null   object \n",
      " 11  release_date          4802 non-null   object \n",
      " 12  revenue               4803 non-null   int64  \n",
      " 13  runtime               4801 non-null   float64\n",
      " 14  spoken_languages      4803 non-null   object \n",
      " 15  status                4803 non-null   object \n",
      " 16  tagline               3959 non-null   object \n",
      " 17  title                 4803 non-null   object \n",
      " 18  vote_average          4803 non-null   float64\n",
      " 19  vote_count            4803 non-null   int64  \n",
      "dtypes: float64(3), int64(4), object(13)\n",
      "memory usage: 750.6+ KB\n"
     ]
    }
   ],
   "source": [
    "df.info()"
   ]
  },
  {
   "cell_type": "markdown",
   "id": "4e64a24f",
   "metadata": {},
   "source": [
    "**Q.1.1.2** What columns have null values above? How would you be able to estimate the missing values?"
   ]
  },
  {
   "cell_type": "markdown",
   "id": "2660fe51",
   "metadata": {},
   "source": [
    "*Columns: \n",
    "2 homepage, this means there is no URL to the website.\n",
    "7 overview, has 3 null values, these could be added by hand, or removed\n",
    "11 release_date, since in this column there is only 1 null value, we might remove it\n",
    "13 runtime, only 2 null, so might do the same as with 11\n",
    "16 tagline, containing the tagline for the movie.\n",
    "\n",
    "Both 2 and 16 have enough missing values that plainly deleting it might be unjustified. But since both of them contain non-numerical values, (both objects are text and the first is a url) it does not make sense to estimate them. \n"
   ]
  },
  {
   "cell_type": "markdown",
   "id": "83863820",
   "metadata": {},
   "source": [
    "### Q1.2\n",
    "For this notebook, we're only interested in a few columns, specifically title, overview and genres. Set df to only contain those columns."
   ]
  },
  {
   "cell_type": "code",
   "execution_count": 7,
   "id": "4e3f0439",
   "metadata": {
    "ExecuteTime": {
     "end_time": "2024-03-20T19:25:45.305012700Z",
     "start_time": "2024-03-20T19:25:45.257455700Z"
    }
   },
   "outputs": [
    {
     "name": "stdout",
     "output_type": "stream",
     "text": [
      "<class 'pandas.core.frame.DataFrame'>\n",
      "RangeIndex: 4803 entries, 0 to 4802\n",
      "Data columns (total 3 columns):\n",
      " #   Column    Non-Null Count  Dtype \n",
      "---  ------    --------------  ----- \n",
      " 0   title     4803 non-null   object\n",
      " 1   overview  4800 non-null   object\n",
      " 2   genres    4803 non-null   object\n",
      "dtypes: object(3)\n",
      "memory usage: 112.7+ KB\n"
     ]
    }
   ],
   "source": [
    "df = df[[\"title\", \"overview\", \"genres\"]]\n",
    "df.info() # print out df info to verify"
   ]
  },
  {
   "cell_type": "markdown",
   "id": "b596e86b",
   "metadata": {},
   "source": [
    "### Q1.3\n",
    "We see that some movies do not have an overview. Drop them from the table and reset the index (set `drop=True`)."
   ]
  },
  {
   "cell_type": "code",
   "execution_count": 8,
   "id": "a06e4f6a",
   "metadata": {
    "ExecuteTime": {
     "end_time": "2024-03-20T19:28:49.246687100Z",
     "start_time": "2024-03-20T19:28:49.215355300Z"
    }
   },
   "outputs": [],
   "source": [
    "df = df.dropna(subset=[\"overview\"]).reset_index(drop=True)"
   ]
  },
  {
   "cell_type": "markdown",
   "id": "759df3a2",
   "metadata": {},
   "source": [
    "# Q2 One-hot encodings\n",
    "The following code processes the genres (which you see above are list of dictionaries) and encodes them into one-hot labels.\n",
    "\n",
    "Remember, since we cannot do maths on text strings, we must change these words to numbers. Here, we create one-hot encodings for the genres. Assume we have three genres $[G_1, G_2, G_3]$. If a movie $M_1$ is tagged with genre $G_1$, the encoding is $[1,0,0]$. If another movie $M_2$ is tagged with $G2$, the encoding becomes $[0,1,0]$. Other encodings are possible as well, but one-hot encoding quite common and useful for many other tasks. In this case, if a movie is tagged with more than one genre, we'll just take a random one and encode that into a one-hot label.\n",
    "\n",
    "### Q2.1 Processing genres\n",
    "\n",
    "Finish the following code that processes genres into one-hot encodings."
   ]
  },
  {
   "cell_type": "code",
   "execution_count": null,
   "id": "dba05feb",
   "metadata": {},
   "outputs": [],
   "source": [
    "np.random.seed(0)\n",
    "\n",
    "def process_genre_string(gs):\n",
    "    \"\"\" Processes genres into a single item from a list\"\"\"\n",
    "    gs = eval(gs)\n",
    "    gs = [x['name'] for x in gs]\n",
    "    genre = \"Unknown\"\n",
    "    if gs:\n",
    "        genre = np.random.choice(gs) # choose random entry\n",
    "    return genre\n",
    "\n",
    "# TODO: Fill in\n",
    "def encode_labels(label, unique_labels):\n",
    "    \"\"\" Encodes text labels into a one-hot encoded list\n",
    "        with possibly more than one one-hot per list.\n",
    "        :param label: the label you want to one-hot encode\n",
    "        :unique_labels: the vocabulary\n",
    "    \"\"\"\n",
    "    out = np.zeros(...)\n",
    "    out[...] = ...\n",
    "    return out\n",
    "\n",
    "# save genres\n",
    "processed_genres = []\n",
    "for index, row in df.iterrows():\n",
    "    processed_genres.append(...)\n",
    "\n",
    "# sort and remove duplicates to get vocabulary\n",
    "unique_genres = sorted(list(set(processed_genres)))\n",
    "\n",
    "# add to dataframe as new column\n",
    "df[\"proc_genres\"] = processed_genres\n",
    "\n",
    "# one-hot encode genres\n",
    "enocded_labels = []\n",
    "for index, row in tqdm(df.iterrows(), total=len(df)):\n",
    "    enocded_labels.append(...)\n",
    "\n",
    "df[\"one_hot_genres\"] = ..."
   ]
  },
  {
   "cell_type": "markdown",
   "id": "d17501a9",
   "metadata": {},
   "source": [
    "Verify that one-hot encodings are indeed as expected"
   ]
  },
  {
   "cell_type": "code",
   "execution_count": null,
   "id": "3b64854b",
   "metadata": {},
   "outputs": [],
   "source": [
    "df[\"one_hot_genres\"][0]"
   ]
  },
  {
   "cell_type": "markdown",
   "id": "b0a83ece",
   "metadata": {},
   "source": [
    "### Q2.2 Processing Overviews\n",
    "Next, we process the overviews. First, we remove all punctuation for the sake of simplicity and change each overview to use only lowercase. Then we need to see how long the overviews are in terms of numbers of words. We can do this with a histogram.\n",
    "\n",
    "**Q2.2.1** Finish the following code"
   ]
  },
  {
   "cell_type": "code",
   "execution_count": null,
   "id": "bfd51c53",
   "metadata": {},
   "outputs": [],
   "source": [
    "import re\n",
    "def remove_punctuation(text):\n",
    "    \"\"\" Only retains letters, numbers, underscores and whitespace \"\"\"\n",
    "    pattern = r'[^\\w\\s]'\n",
    "    return re.sub(pattern, '', text)\n",
    "\n",
    "processed_overviews = []\n",
    "\n",
    "# loop over df, remove punctuation, make words lowercase and add it to a new column\n",
    "...\n",
    "df[\"proc_overview\"] = ...\n",
    "\n",
    "# get the word lengths of each overview and store it in a list \n",
    "overview_lens = []\n",
    "...\n",
    "\n",
    "# for the sake of simplicity, add these values as a column to the df\n",
    "df[\"overview_len\"] = ...\n",
    "plt.hist(...)\n",
    "plt.show()"
   ]
  },
  {
   "cell_type": "markdown",
   "id": "58138594",
   "metadata": {},
   "source": [
    "**Q2.2.2** What is the shortest overview? What is the longest? In the next step, we need to decide on a standard length of all overviews -- this means dropping overviews less than some value, and truncating longer ones. What length would you choose to minimize the number of movies dropped and maximize the information (words) stored in the overviews?"
   ]
  },
  {
   "cell_type": "markdown",
   "id": "3b87f1af",
   "metadata": {},
   "source": [
    "*Your text answer here*"
   ]
  },
  {
   "cell_type": "markdown",
   "id": "54e6cb90",
   "metadata": {},
   "source": [
    "### Q2.2.3\n",
    "Let's choose overviews of length 15 words. What this means is we need to discard movies that have overviews less than 15 (there are other ways of dealing with it, but this should be fine for now) and truncate the higher ones to the first 15 words."
   ]
  },
  {
   "cell_type": "code",
   "execution_count": null,
   "id": "70854211",
   "metadata": {},
   "outputs": [],
   "source": [
    "token_len = 15 # number of words\n",
    "# only select rows where overview len is more than or equal to token_len\n",
    "df = df[...]\n",
    "\n",
    "# split each proc_overview into a list of words, select the first token_len words, \n",
    "# and add the list of words back into df[\"proc_overview\"]\n",
    "df[\"proc_overview\"] = ...\n",
    "\n",
    "# print to verify\n",
    "df"
   ]
  },
  {
   "cell_type": "markdown",
   "id": "26e092dd",
   "metadata": {},
   "source": [
    "### Q2.2.3 Finding the vocabulary length\n",
    "\n",
    "In order to one-hot encode words, we need to find how many words there are in total, just like in the case of genres. Get all the words, remove duplicates, and sort. Find and print the length of your vocabulary."
   ]
  },
  {
   "cell_type": "code",
   "execution_count": null,
   "id": "a71a750b",
   "metadata": {},
   "outputs": [],
   "source": [
    "# hint: store all words for all movies in a set, change it to a list and sort\n",
    "\n",
    "vocab_len = len(...)\n",
    "print(vocab_len)"
   ]
  },
  {
   "cell_type": "markdown",
   "id": "f276b825",
   "metadata": {},
   "source": [
    "### Q2.2.4 Encoding the labels\n",
    "\n",
    "In the case of genres, we one-hot encoded the outputs by taking a single random genre. However, an alternative method is to add up the one-hot encodings to form some kind of histogram. For example, if we have an overview \"a brown dog\", and our vocab is \\[a brown, big, cabbage, dog, goat, cow, turkey\\], the one-hot vector would be \\[1,1,0,0,1,0,0,0\\]. If our overview is \"a big brown dog\", the one-hot vector would be \\[1,1,1,0,1,0,0,0\\]. If our overview is \"a big big brown dog\", the one-hot vector would be \\[1,1,2,0,1,0,0,0\\]. You can use the `encode_labels` function that you defined earlier."
   ]
  },
  {
   "cell_type": "code",
   "execution_count": null,
   "id": "d212192f",
   "metadata": {},
   "outputs": [],
   "source": [
    "# this code is just a hint, if you want you can do it as you please\n",
    "# as long as the output remains the same\n",
    "encoded_labels = []\n",
    "for index, row in tqdm(df.iterrows(), total=len(df)):\n",
    "    sentence_encode = [] # set of encodings for this overview\n",
    "    for word in row[\"proc_overview\"]:\n",
    "        sentence_encode.append(...) # get encoding for this word\n",
    "    sentence_encode = ... # sum over axis=1\n",
    "    encoded_labels.append(...)\n",
    "\n",
    "df[\"one_hot_overview\"] = ...\n",
    "df['one_hot_overview'] # print to verify"
   ]
  },
  {
   "cell_type": "markdown",
   "id": "7c62e127",
   "metadata": {},
   "source": [
    "**Q2.2.5** Each vector is a vector of floating point (64-bit) numbers. Assuming each float takes up exactly 16-bytes, how many bytes does this take to store (theoretically)?"
   ]
  },
  {
   "cell_type": "markdown",
   "id": "193b8235",
   "metadata": {},
   "source": [
    "*Your answer here*"
   ]
  },
  {
   "cell_type": "markdown",
   "id": "1f3b3700",
   "metadata": {},
   "source": [
    "# Q3 Principal Component Analysis\n",
    "\n",
    "**Q3.1** Using the overview encoded into one-hot encodings, perform PCA and plot this into a 2-D image as a scatter plot."
   ]
  },
  {
   "cell_type": "code",
   "execution_count": null,
   "id": "832f2be7",
   "metadata": {},
   "outputs": [],
   "source": [
    "# import PCA decomposition class from sklearn\n",
    "from sklearn.decomposition import PCA\n",
    "\n",
    "# we did exactly this in the lecture notebook"
   ]
  },
  {
   "cell_type": "markdown",
   "id": "a63054b6",
   "metadata": {},
   "source": [
    "**Q3.2** Do you see any interpretable structure in the above plot (\"interpretable\" $\\rightarrow$ the patterns are explainable)."
   ]
  },
  {
   "cell_type": "markdown",
   "id": "a9409e7b",
   "metadata": {},
   "source": [
    "*Your text answer here*"
   ]
  },
  {
   "cell_type": "markdown",
   "id": "4482c5e5",
   "metadata": {},
   "source": [
    "**Q3.3** Quantify how much variance information a 2D PCA projection loses for this dataset."
   ]
  },
  {
   "cell_type": "markdown",
   "id": "2338a25d",
   "metadata": {},
   "source": [
    "*Your answer here*"
   ]
  },
  {
   "cell_type": "markdown",
   "id": "7da99ba5",
   "metadata": {},
   "source": [
    "**Q3.4** Plot a line graph where the y-axis is cumulative explained variance ratio and the x-axis is the number of PCA components."
   ]
  },
  {
   "cell_type": "code",
   "execution_count": null,
   "id": "e0cac8ff",
   "metadata": {
    "scrolled": false
   },
   "outputs": [],
   "source": [
    "# Set up PCA object with the desired number of components\n",
    "\n",
    "# fit transform one_hot_overview encodings\n",
    "labels_pca = ...\n",
    "# get explained variance ratio from object, store it in a list\n",
    "...\n",
    "\n",
    "plt.plot(...)\n",
    "# set up y label, x label, title \n",
    "plt.show()"
   ]
  },
  {
   "cell_type": "markdown",
   "id": "8b36c9b2",
   "metadata": {},
   "source": [
    "**Q3.5** How many principal components do you need in order to explain 80% of the total variance in the data?\n",
    "\n",
    "Note: don't just estimate it by eye, write some code to compute it for you."
   ]
  },
  {
   "cell_type": "code",
   "execution_count": null,
   "id": "95c44b2d",
   "metadata": {},
   "outputs": [],
   "source": [
    "# your code answer here"
   ]
  },
  {
   "cell_type": "markdown",
   "id": "b608db91",
   "metadata": {},
   "source": [
    "*Your text answer here*"
   ]
  },
  {
   "cell_type": "markdown",
   "id": "ee3b5c33",
   "metadata": {},
   "source": [
    "**Q3.6** Using the number of dimensions you found in Q3.5, fit and transform your overview encodings using PCA and add it to a new column called `overview_pca` in the dataframe."
   ]
  },
  {
   "cell_type": "code",
   "execution_count": null,
   "id": "8a6eb40b",
   "metadata": {},
   "outputs": [],
   "source": [
    "n_dims = ...\n",
    "pca = ...\n",
    "labels_pca = ...\n",
    "df[\"overview_pca\"] = ..."
   ]
  },
  {
   "cell_type": "markdown",
   "id": "309d3256",
   "metadata": {},
   "source": [
    "# Q4 K-Means Clustering\n",
    "\n",
    "**Q4.1** Cluster the movies based on the features that were extracted via PCA in the last step. Set $K=20$. Add the predicted cluster into the dataframe as a new column called `cluster_kmeans`. Print out the elements of cluster number 0 from the dataframe."
   ]
  },
  {
   "cell_type": "code",
   "execution_count": null,
   "id": "f5f5781e",
   "metadata": {},
   "outputs": [],
   "source": [
    "# import KMeans class\n",
    "from sklearn.cluster import KMeans\n",
    "\n",
    "# Perform K-means clustering\n",
    "kmeans = ...\n",
    "# fit model\n",
    "...\n",
    "\n",
    "y_preds = # get predictions\n",
    "df[\"cluster_kmeans\"] = ... # set predictions\n",
    "\n",
    "# print out elements of cluster 0\n",
    "..."
   ]
  },
  {
   "cell_type": "markdown",
   "id": "34334c6c",
   "metadata": {},
   "source": [
    "**Q4.2** Does this clustering seem alright to you (based on your movie watching history)? Are there movies that go well together and movies that don't?"
   ]
  },
  {
   "cell_type": "markdown",
   "id": "9f1d40cc",
   "metadata": {},
   "source": [
    "*Your text answer here*"
   ]
  },
  {
   "cell_type": "markdown",
   "id": "0407f9e4",
   "metadata": {},
   "source": [
    "**Q4.3** Now, we'll figure out whether using the elbow method is right for this dataset. Plot a loss (using `kmeans.inertia_`) versus cluster size plot. Is there an elbow that you see clearly? What cluster size would you choose?"
   ]
  },
  {
   "cell_type": "markdown",
   "id": "4984dcd9",
   "metadata": {},
   "source": [
    "*Your text answer here*"
   ]
  },
  {
   "cell_type": "code",
   "execution_count": null,
   "id": "cb3a37ee",
   "metadata": {},
   "outputs": [],
   "source": [
    "... # your code answer here"
   ]
  },
  {
   "cell_type": "markdown",
   "id": "3e89e224",
   "metadata": {},
   "source": [
    "# Q5 Gaussian Mixture Models\n",
    "\n",
    "**Q5.1** As with the K-means above, cluster the movies based on the features that were extracted via PCA in a previous step. Set $K=20$. Add the predicted cluster into the dataframe as a new column called `cluster_gmm`. Print out the elements of a single cluster of your choice from the dataframe."
   ]
  },
  {
   "cell_type": "code",
   "execution_count": null,
   "id": "86735028",
   "metadata": {},
   "outputs": [],
   "source": [
    "# Your code answer here"
   ]
  },
  {
   "cell_type": "markdown",
   "id": "95ed02d9",
   "metadata": {},
   "source": [
    "**Q4.2** Does this clustering seem alright to you (based on your movie watching history)? Are there movies that go well together and movies that don't? How does this compare to K-Means Clustering?"
   ]
  },
  {
   "cell_type": "markdown",
   "id": "c62e20dd",
   "metadata": {},
   "source": [
    "*Your text answer here*"
   ]
  },
  {
   "cell_type": "markdown",
   "id": "3b0064a1",
   "metadata": {},
   "source": [
    "**Q4.3** Let's check out the size of the clusters. Create a double bar plot (**as you did in the last assignment**) showing the different sizes of the clusters.\n",
    "\n",
    "*Hint: you may want to consider `df.value_counts()` if you're unfamiliar.*"
   ]
  },
  {
   "cell_type": "code",
   "execution_count": null,
   "id": "e775ad4f",
   "metadata": {},
   "outputs": [],
   "source": [
    "# Create an array for the x-axis positions\n",
    "# Plotting the bars\n",
    "# Add labels, title, and legend"
   ]
  },
  {
   "cell_type": "markdown",
   "id": "cfc124da",
   "metadata": {},
   "source": [
    "**Q4.4** Do you see a significant difference in the sizes of the clusters? Which is more uniform? Any thought on why?"
   ]
  },
  {
   "cell_type": "markdown",
   "id": "9f538519",
   "metadata": {},
   "source": [
    "*Your text answer here*"
   ]
  },
  {
   "cell_type": "markdown",
   "id": "aa60615d",
   "metadata": {},
   "source": [
    "# Q6: A very simple recommender system\n",
    "\n",
    "One useful thing that clustering is often used for (though at a much greater complexity) is in **recommender systems**. These are systems with users and items (movies, files, documents, etc.), where new items are shown to the user based on what they've previously interacted with, and possibly also on the behaviour of other users.\n",
    "\n",
    "**Q6.1** Assume your dentist has just watched the movie Avatar and asks you for a recommendation. Lucky for you, you just finished this assignment. Using the cluster indices of the movie Avatar for both the K-means and GMM methods, print out suggestions for new movies."
   ]
  },
  {
   "cell_type": "code",
   "execution_count": null,
   "id": "86a74f68",
   "metadata": {},
   "outputs": [],
   "source": [
    "prev_watch = \"Avatar\"\n",
    "\n",
    "cluster_kmeans = # find what cluster index Avatar falls into for k-means\n",
    "cluster_gmm = # find what cluster index Avatar falls into for gmm\n",
    "\n",
    "# print out similar movies\n",
    "..."
   ]
  },
  {
   "cell_type": "markdown",
   "id": "4ecec1ff",
   "metadata": {},
   "source": [
    "**Q6.2** Are any of the two recommender systems any good? Would you use them if your real dentist asks for a movie suggestion?"
   ]
  },
  {
   "cell_type": "markdown",
   "id": "aae96b8a",
   "metadata": {},
   "source": [
    "*Your text answer here*"
   ]
  },
  {
   "cell_type": "markdown",
   "id": "92b84753",
   "metadata": {},
   "source": [
    "**Q6.3** How would you try making the recommender systems better?"
   ]
  },
  {
   "cell_type": "markdown",
   "id": "40d3f6dd",
   "metadata": {},
   "source": [
    "*Your text answer here*"
   ]
  },
  {
   "cell_type": "markdown",
   "id": "7df2d34a",
   "metadata": {},
   "source": [
    "**Q6.4** Say your dentist likes the movies you suggested and has watched a few more since you met him last. How would you incorporate this fact (recommendation based on multiple movies) into your suggestions?"
   ]
  },
  {
   "cell_type": "markdown",
   "id": "b3549de4",
   "metadata": {},
   "source": [
    "*Your text answer here*"
   ]
  },
  {
   "cell_type": "markdown",
   "id": "f20b74ce",
   "metadata": {},
   "source": [
    "**Q6.5** An alternative method for recommendations is to use your encoded movie-feature vectors (in this case your overview+PCA vector) in order to find out what movie may be most similar to the current one. In the case of K-Means and GMMs, \"similarity\" referred to Euclidean distance. However, in this exercise, we will use *cosine similarity*, which is another very common similarity measure, and is related to the angle between two vectors. It is defined as:\n",
    "\n",
    "$$sim(v_1, v_2)=\\frac{v_1\\cdot v_2}{||v_1||\\cdot||v_2||}$$\n",
    "\n",
    "Where $v_1$ and $v_2$ are vectors and the operator $||\\cdot||$ is the norm of the vector. The function ranges from $[-1,1]$ (where 1 means that the vectors point in the same direction).\n",
    "\n",
    "Define an appropriate function `cosine_sim`. Add a column called `cos_sim_to_avatar` in the df and print out the head of the df, sorted by the similarity. What movies would you recommend now? Is this better than the clustering methods?"
   ]
  },
  {
   "cell_type": "code",
   "execution_count": null,
   "id": "cedf60f3",
   "metadata": {},
   "outputs": [],
   "source": [
    "def cosine_sim(v1, v2):\n",
    "    return ...\n",
    "\n",
    "# get overview_pca encoding of previously watched film\n",
    "prev_watch_enc = ...\n",
    "\n",
    "sims = [] # set up place to store similarities\n",
    "for i, row in df.iterrows():\n",
    "    sims.append(...)\n",
    "\n",
    "df[\"cos_sim_to_avatar\"] = ...\n",
    "df = df.sort_values(...) # sort df\n",
    "df # print to verify"
   ]
  },
  {
   "cell_type": "markdown",
   "id": "40391e82",
   "metadata": {},
   "source": [
    "*Your text answer here*"
   ]
  },
  {
   "cell_type": "markdown",
   "id": "a7b1e343",
   "metadata": {},
   "source": [
    "# Q7 Unsupervised Learning as a Tool\n",
    "\n",
    "At the end of this brief forey into natural language processing, we will end with an interesting task: can a machine predict the genre of a movie based purely on the first 10 words of its overview?\n",
    "\n",
    "First, the following cell shuffles the dataset and splits it into a training and test set. The random seed and random state ensure that the train and test samples are the same for you all the time, and *probably* your classmates too. You can verify this by printing out the dataframes and checking it for yourself."
   ]
  },
  {
   "cell_type": "code",
   "execution_count": null,
   "id": "f5b1bde1",
   "metadata": {},
   "outputs": [],
   "source": [
    "np.random.seed(0)\n",
    "n_train = int(0.8*len(df))\n",
    "df_shuffle = df.sample(frac=1, random_state=42).reset_index(drop=True)\n",
    "df_train = df_shuffle[:n_train].reset_index(drop=True)\n",
    "df_test = df_shuffle[n_train:].reset_index(drop=True)\n",
    "print(len(df_train), len(df_test))"
   ]
  },
  {
   "cell_type": "markdown",
   "id": "92f9d534",
   "metadata": {},
   "source": [
    "## Train, test, evaluate\n",
    "\n",
    "Using a supervised learning method of your choice, try predicting the genre of a movie from the overview. The way you preprocess your data is up to you, and you can take inspiration from the above exercises (e.g. PCA on the one-hot encodings as input, one-hot label encodings as output). There are a number of hyperparameters you can choose depending on your selected method (number of words in your overview, number of dimensions, number of clusters, hyperparameters of your supervised model...), thus, make sure to perform hyperparameter optimization in some way (grid-search, fine-tuning, etc). Once you are happy with how your model is performing, **print out the train_score (accuracy$\\in[0,1]$), test_score (accuracy$\\in[0,1]$), mean training time (in seconds), and mean inference time (in seconds) of your model**.\n",
    "\n",
    "If you are already excited about neural networks, you may also choose to use that as your supervised method. The easiest way to do it is with sklearn's `MLPClassifier` module. The main hyperparameter you would need to tune is the architecture of your model -- how many hidden layers, and how large is each one. For this task, in order to get best performance, you do not necessarily need an MLP (multi-layer perceptron) but feel free to experiment.\n",
    "\n",
    "*Hint: the `train_and_eval` function from the last assignment should be of great help here*"
   ]
  },
  {
   "cell_type": "code",
   "execution_count": null,
   "id": "e9ac379d",
   "metadata": {},
   "outputs": [],
   "source": [
    "# your code here: feel free to add extra cells"
   ]
  },
  {
   "cell_type": "markdown",
   "id": "5976997e",
   "metadata": {},
   "source": [
    "Write a paragraph of ~150 words about how you went about selecting and tuning your model, and how you may want to make improvements to your model if you were to continue working on this. Plots are very good but not strictly necessary (i.e. try to add plots if you can)."
   ]
  },
  {
   "cell_type": "markdown",
   "id": "54186a60",
   "metadata": {},
   "source": [
    "*Your text answer here*"
   ]
  },
  {
   "cell_type": "markdown",
   "id": "14b50007",
   "metadata": {},
   "source": [
    "# BONUS\n",
    "\n",
    "If you are happy with your score and wish to see how well it is doing with respect to other people (a sort of mini-competition), fill out the following form with the train_score (accuracy$\\in[0,1]$), test_score (accuracy$\\in[0,1]$), mean training time (in seconds), and mean inference time (in seconds) of your model, as well as what method you use. You can submit as many times before the deadline as you wish. Your final results will be correlated with your submission in order to validate your results (if we cannot validate them, they will be immediately disqualified).\n",
    "\n",
    "[FORM HERE](https://forms.gle/rXRtXScABH5oDLRWA)"
   ]
  }
 ],
 "metadata": {
  "kernelspec": {
   "display_name": "Python 3 (ipykernel)",
   "language": "python",
   "name": "python3"
  },
  "language_info": {
   "codemirror_mode": {
    "name": "ipython",
    "version": 3
   },
   "file_extension": ".py",
   "mimetype": "text/x-python",
   "name": "python",
   "nbconvert_exporter": "python",
   "pygments_lexer": "ipython3",
   "version": "3.10.7"
  }
 },
 "nbformat": 4,
 "nbformat_minor": 5
}
