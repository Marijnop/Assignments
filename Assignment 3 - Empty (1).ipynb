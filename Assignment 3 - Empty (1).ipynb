{
 "cells": [
  {
   "cell_type": "markdown",
   "id": "43554d37",
   "metadata": {},
   "source": [
    "# Turing Machine and Deep Learning 2023\n",
    "\n",
    "## Assignment Unupervised ML\n",
    "\n",
    "This notebook is meant for you to review and reflect on the content of Lecture 3, which was mainly about unsupervised learning problems. As with last week, this notebook should not be too much quantitative work (lines of code) but keep in mind that running this notebook may take a longer time than you may be used to for python programs (*training good models take time!*) \n",
    "\n",
    "### Handing in your Assignment\n",
    "\n",
    "Git is an invaluable resource to researchers and developers, and thus for this course, all course material will be (additionally) shared on GitHub. Though there is a tiny bit of a learning curve, this is worth the effort. To hand in your assignment (applicable to all weeks):\n",
    "\n",
    "1. Create a folder called \"Week 2\" and copy this notebook and any other files or data that may be needed.\n",
    "2. Finish the notebook and commit and push regularly. Your final commit before the deadline will be graded. \n",
    "\n",
    "\n",
    "### Grading\n",
    "\n",
    "Each one of the (sub-)questions below will be graded either 0 (insufficient), 1 (sufficient) or 2 (good). If $N$ is the number of sub-questions, and $p_i$ is your score for sub-question $i$, your total grade $G$ for this assignment is:\n",
    "$$G=\\frac{1}{2 N}\\sum_{i=0}^{N}p_i$$"
   ]
  },
  {
   "cell_type": "code",
   "execution_count": 1,
   "id": "52fbab8b",
   "metadata": {
    "ExecuteTime": {
     "end_time": "2024-03-20T19:11:48.425127300Z",
     "start_time": "2024-03-20T19:11:48.368217100Z"
    }
   },
   "outputs": [],
   "source": [
    "# load common libraries\n",
    "import numpy as np                 # maths\n",
    "import matplotlib.pyplot as plt    # plotting\n",
    "import pandas as pd                # data manipulation\n",
    "from tqdm import tqdm              # loading bar\n",
    "from time import perf_counter      # timer"
   ]
  },
  {
   "cell_type": "markdown",
   "id": "bf4c3a0a",
   "metadata": {},
   "source": [
    "# Q1 Loading and preprocessing data\n",
    "\n",
    "In this repository, you should find a file called `tmdb_5000_movies.csv` which is information from a subset of movies on The Movie Database."
   ]
  },
  {
   "cell_type": "markdown",
   "id": "40715541",
   "metadata": {},
   "source": [
    "### Q.1.1 \n",
    "Use pandas to read in the csv file (refer to [read_csv](https://pandas.pydata.org/docs/reference/api/pandas.read_csv.html) if you're unfamiliar)."
   ]
  },
  {
   "cell_type": "code",
   "execution_count": 3,
   "id": "c10a5202",
   "metadata": {
    "ExecuteTime": {
     "end_time": "2024-03-20T19:13:49.077995500Z",
     "start_time": "2024-03-20T19:13:48.836324900Z"
    }
   },
   "outputs": [
    {
     "data": {
      "text/plain": "         budget                                             genres  \\\n0     237000000  [{\"id\": 28, \"name\": \"Action\"}, {\"id\": 12, \"nam...   \n1     300000000  [{\"id\": 12, \"name\": \"Adventure\"}, {\"id\": 14, \"...   \n2     245000000  [{\"id\": 28, \"name\": \"Action\"}, {\"id\": 12, \"nam...   \n3     250000000  [{\"id\": 28, \"name\": \"Action\"}, {\"id\": 80, \"nam...   \n4     260000000  [{\"id\": 28, \"name\": \"Action\"}, {\"id\": 12, \"nam...   \n...         ...                                                ...   \n4798     220000  [{\"id\": 28, \"name\": \"Action\"}, {\"id\": 80, \"nam...   \n4799       9000  [{\"id\": 35, \"name\": \"Comedy\"}, {\"id\": 10749, \"...   \n4800          0  [{\"id\": 35, \"name\": \"Comedy\"}, {\"id\": 18, \"nam...   \n4801          0                                                 []   \n4802          0                [{\"id\": 99, \"name\": \"Documentary\"}]   \n\n                                               homepage      id  \\\n0                           http://www.avatarmovie.com/   19995   \n1          http://disney.go.com/disneypictures/pirates/     285   \n2           http://www.sonypictures.com/movies/spectre/  206647   \n3                    http://www.thedarkknightrises.com/   49026   \n4                  http://movies.disney.com/john-carter   49529   \n...                                                 ...     ...   \n4798                                                NaN    9367   \n4799                                                NaN   72766   \n4800  http://www.hallmarkchannel.com/signedsealeddel...  231617   \n4801                        http://shanghaicalling.com/  126186   \n4802                                                NaN   25975   \n\n                                               keywords original_language  \\\n0     [{\"id\": 1463, \"name\": \"culture clash\"}, {\"id\":...                en   \n1     [{\"id\": 270, \"name\": \"ocean\"}, {\"id\": 726, \"na...                en   \n2     [{\"id\": 470, \"name\": \"spy\"}, {\"id\": 818, \"name...                en   \n3     [{\"id\": 849, \"name\": \"dc comics\"}, {\"id\": 853,...                en   \n4     [{\"id\": 818, \"name\": \"based on novel\"}, {\"id\":...                en   \n...                                                 ...               ...   \n4798  [{\"id\": 5616, \"name\": \"united states\\u2013mexi...                es   \n4799                                                 []                en   \n4800  [{\"id\": 248, \"name\": \"date\"}, {\"id\": 699, \"nam...                en   \n4801                                                 []                en   \n4802  [{\"id\": 1523, \"name\": \"obsession\"}, {\"id\": 224...                en   \n\n                                original_title  \\\n0                                       Avatar   \n1     Pirates of the Caribbean: At World's End   \n2                                      Spectre   \n3                        The Dark Knight Rises   \n4                                  John Carter   \n...                                        ...   \n4798                               El Mariachi   \n4799                                 Newlyweds   \n4800                 Signed, Sealed, Delivered   \n4801                          Shanghai Calling   \n4802                         My Date with Drew   \n\n                                               overview  popularity  \\\n0     In the 22nd century, a paraplegic Marine is di...  150.437577   \n1     Captain Barbossa, long believed to be dead, ha...  139.082615   \n2     A cryptic message from Bond’s past sends him o...  107.376788   \n3     Following the death of District Attorney Harve...  112.312950   \n4     John Carter is a war-weary, former military ca...   43.926995   \n...                                                 ...         ...   \n4798  El Mariachi just wants to play his guitar and ...   14.269792   \n4799  A newlywed couple's honeymoon is upended by th...    0.642552   \n4800  \"Signed, Sealed, Delivered\" introduces a dedic...    1.444476   \n4801  When ambitious New York attorney Sam is sent t...    0.857008   \n4802  Ever since the second grade when he first saw ...    1.929883   \n\n                                   production_companies  \\\n0     [{\"name\": \"Ingenious Film Partners\", \"id\": 289...   \n1     [{\"name\": \"Walt Disney Pictures\", \"id\": 2}, {\"...   \n2     [{\"name\": \"Columbia Pictures\", \"id\": 5}, {\"nam...   \n3     [{\"name\": \"Legendary Pictures\", \"id\": 923}, {\"...   \n4           [{\"name\": \"Walt Disney Pictures\", \"id\": 2}]   \n...                                                 ...   \n4798           [{\"name\": \"Columbia Pictures\", \"id\": 5}]   \n4799                                                 []   \n4800  [{\"name\": \"Front Street Pictures\", \"id\": 3958}...   \n4801                                                 []   \n4802  [{\"name\": \"rusty bear entertainment\", \"id\": 87...   \n\n                                   production_countries release_date  \\\n0     [{\"iso_3166_1\": \"US\", \"name\": \"United States o...   2009-12-10   \n1     [{\"iso_3166_1\": \"US\", \"name\": \"United States o...   2007-05-19   \n2     [{\"iso_3166_1\": \"GB\", \"name\": \"United Kingdom\"...   2015-10-26   \n3     [{\"iso_3166_1\": \"US\", \"name\": \"United States o...   2012-07-16   \n4     [{\"iso_3166_1\": \"US\", \"name\": \"United States o...   2012-03-07   \n...                                                 ...          ...   \n4798  [{\"iso_3166_1\": \"MX\", \"name\": \"Mexico\"}, {\"iso...   1992-09-04   \n4799                                                 []   2011-12-26   \n4800  [{\"iso_3166_1\": \"US\", \"name\": \"United States o...   2013-10-13   \n4801  [{\"iso_3166_1\": \"US\", \"name\": \"United States o...   2012-05-03   \n4802  [{\"iso_3166_1\": \"US\", \"name\": \"United States o...   2005-08-05   \n\n         revenue  runtime                                   spoken_languages  \\\n0     2787965087    162.0  [{\"iso_639_1\": \"en\", \"name\": \"English\"}, {\"iso...   \n1      961000000    169.0           [{\"iso_639_1\": \"en\", \"name\": \"English\"}]   \n2      880674609    148.0  [{\"iso_639_1\": \"fr\", \"name\": \"Fran\\u00e7ais\"},...   \n3     1084939099    165.0           [{\"iso_639_1\": \"en\", \"name\": \"English\"}]   \n4      284139100    132.0           [{\"iso_639_1\": \"en\", \"name\": \"English\"}]   \n...          ...      ...                                                ...   \n4798     2040920     81.0      [{\"iso_639_1\": \"es\", \"name\": \"Espa\\u00f1ol\"}]   \n4799           0     85.0                                                 []   \n4800           0    120.0           [{\"iso_639_1\": \"en\", \"name\": \"English\"}]   \n4801           0     98.0           [{\"iso_639_1\": \"en\", \"name\": \"English\"}]   \n4802           0     90.0           [{\"iso_639_1\": \"en\", \"name\": \"English\"}]   \n\n        status                                            tagline  \\\n0     Released                        Enter the World of Pandora.   \n1     Released     At the end of the world, the adventure begins.   \n2     Released                              A Plan No One Escapes   \n3     Released                                    The Legend Ends   \n4     Released               Lost in our world, found in another.   \n...        ...                                                ...   \n4798  Released  He didn't come looking for trouble, but troubl...   \n4799  Released  A newlywed couple's honeymoon is upended by th...   \n4800  Released                                                NaN   \n4801  Released                           A New Yorker in Shanghai   \n4802  Released                                                NaN   \n\n                                         title  vote_average  vote_count  \n0                                       Avatar           7.2       11800  \n1     Pirates of the Caribbean: At World's End           6.9        4500  \n2                                      Spectre           6.3        4466  \n3                        The Dark Knight Rises           7.6        9106  \n4                                  John Carter           6.1        2124  \n...                                        ...           ...         ...  \n4798                               El Mariachi           6.6         238  \n4799                                 Newlyweds           5.9           5  \n4800                 Signed, Sealed, Delivered           7.0           6  \n4801                          Shanghai Calling           5.7           7  \n4802                         My Date with Drew           6.3          16  \n\n[4803 rows x 20 columns]",
      "text/html": "<div>\n<style scoped>\n    .dataframe tbody tr th:only-of-type {\n        vertical-align: middle;\n    }\n\n    .dataframe tbody tr th {\n        vertical-align: top;\n    }\n\n    .dataframe thead th {\n        text-align: right;\n    }\n</style>\n<table border=\"1\" class=\"dataframe\">\n  <thead>\n    <tr style=\"text-align: right;\">\n      <th></th>\n      <th>budget</th>\n      <th>genres</th>\n      <th>homepage</th>\n      <th>id</th>\n      <th>keywords</th>\n      <th>original_language</th>\n      <th>original_title</th>\n      <th>overview</th>\n      <th>popularity</th>\n      <th>production_companies</th>\n      <th>production_countries</th>\n      <th>release_date</th>\n      <th>revenue</th>\n      <th>runtime</th>\n      <th>spoken_languages</th>\n      <th>status</th>\n      <th>tagline</th>\n      <th>title</th>\n      <th>vote_average</th>\n      <th>vote_count</th>\n    </tr>\n  </thead>\n  <tbody>\n    <tr>\n      <th>0</th>\n      <td>237000000</td>\n      <td>[{\"id\": 28, \"name\": \"Action\"}, {\"id\": 12, \"nam...</td>\n      <td>http://www.avatarmovie.com/</td>\n      <td>19995</td>\n      <td>[{\"id\": 1463, \"name\": \"culture clash\"}, {\"id\":...</td>\n      <td>en</td>\n      <td>Avatar</td>\n      <td>In the 22nd century, a paraplegic Marine is di...</td>\n      <td>150.437577</td>\n      <td>[{\"name\": \"Ingenious Film Partners\", \"id\": 289...</td>\n      <td>[{\"iso_3166_1\": \"US\", \"name\": \"United States o...</td>\n      <td>2009-12-10</td>\n      <td>2787965087</td>\n      <td>162.0</td>\n      <td>[{\"iso_639_1\": \"en\", \"name\": \"English\"}, {\"iso...</td>\n      <td>Released</td>\n      <td>Enter the World of Pandora.</td>\n      <td>Avatar</td>\n      <td>7.2</td>\n      <td>11800</td>\n    </tr>\n    <tr>\n      <th>1</th>\n      <td>300000000</td>\n      <td>[{\"id\": 12, \"name\": \"Adventure\"}, {\"id\": 14, \"...</td>\n      <td>http://disney.go.com/disneypictures/pirates/</td>\n      <td>285</td>\n      <td>[{\"id\": 270, \"name\": \"ocean\"}, {\"id\": 726, \"na...</td>\n      <td>en</td>\n      <td>Pirates of the Caribbean: At World's End</td>\n      <td>Captain Barbossa, long believed to be dead, ha...</td>\n      <td>139.082615</td>\n      <td>[{\"name\": \"Walt Disney Pictures\", \"id\": 2}, {\"...</td>\n      <td>[{\"iso_3166_1\": \"US\", \"name\": \"United States o...</td>\n      <td>2007-05-19</td>\n      <td>961000000</td>\n      <td>169.0</td>\n      <td>[{\"iso_639_1\": \"en\", \"name\": \"English\"}]</td>\n      <td>Released</td>\n      <td>At the end of the world, the adventure begins.</td>\n      <td>Pirates of the Caribbean: At World's End</td>\n      <td>6.9</td>\n      <td>4500</td>\n    </tr>\n    <tr>\n      <th>2</th>\n      <td>245000000</td>\n      <td>[{\"id\": 28, \"name\": \"Action\"}, {\"id\": 12, \"nam...</td>\n      <td>http://www.sonypictures.com/movies/spectre/</td>\n      <td>206647</td>\n      <td>[{\"id\": 470, \"name\": \"spy\"}, {\"id\": 818, \"name...</td>\n      <td>en</td>\n      <td>Spectre</td>\n      <td>A cryptic message from Bond’s past sends him o...</td>\n      <td>107.376788</td>\n      <td>[{\"name\": \"Columbia Pictures\", \"id\": 5}, {\"nam...</td>\n      <td>[{\"iso_3166_1\": \"GB\", \"name\": \"United Kingdom\"...</td>\n      <td>2015-10-26</td>\n      <td>880674609</td>\n      <td>148.0</td>\n      <td>[{\"iso_639_1\": \"fr\", \"name\": \"Fran\\u00e7ais\"},...</td>\n      <td>Released</td>\n      <td>A Plan No One Escapes</td>\n      <td>Spectre</td>\n      <td>6.3</td>\n      <td>4466</td>\n    </tr>\n    <tr>\n      <th>3</th>\n      <td>250000000</td>\n      <td>[{\"id\": 28, \"name\": \"Action\"}, {\"id\": 80, \"nam...</td>\n      <td>http://www.thedarkknightrises.com/</td>\n      <td>49026</td>\n      <td>[{\"id\": 849, \"name\": \"dc comics\"}, {\"id\": 853,...</td>\n      <td>en</td>\n      <td>The Dark Knight Rises</td>\n      <td>Following the death of District Attorney Harve...</td>\n      <td>112.312950</td>\n      <td>[{\"name\": \"Legendary Pictures\", \"id\": 923}, {\"...</td>\n      <td>[{\"iso_3166_1\": \"US\", \"name\": \"United States o...</td>\n      <td>2012-07-16</td>\n      <td>1084939099</td>\n      <td>165.0</td>\n      <td>[{\"iso_639_1\": \"en\", \"name\": \"English\"}]</td>\n      <td>Released</td>\n      <td>The Legend Ends</td>\n      <td>The Dark Knight Rises</td>\n      <td>7.6</td>\n      <td>9106</td>\n    </tr>\n    <tr>\n      <th>4</th>\n      <td>260000000</td>\n      <td>[{\"id\": 28, \"name\": \"Action\"}, {\"id\": 12, \"nam...</td>\n      <td>http://movies.disney.com/john-carter</td>\n      <td>49529</td>\n      <td>[{\"id\": 818, \"name\": \"based on novel\"}, {\"id\":...</td>\n      <td>en</td>\n      <td>John Carter</td>\n      <td>John Carter is a war-weary, former military ca...</td>\n      <td>43.926995</td>\n      <td>[{\"name\": \"Walt Disney Pictures\", \"id\": 2}]</td>\n      <td>[{\"iso_3166_1\": \"US\", \"name\": \"United States o...</td>\n      <td>2012-03-07</td>\n      <td>284139100</td>\n      <td>132.0</td>\n      <td>[{\"iso_639_1\": \"en\", \"name\": \"English\"}]</td>\n      <td>Released</td>\n      <td>Lost in our world, found in another.</td>\n      <td>John Carter</td>\n      <td>6.1</td>\n      <td>2124</td>\n    </tr>\n    <tr>\n      <th>...</th>\n      <td>...</td>\n      <td>...</td>\n      <td>...</td>\n      <td>...</td>\n      <td>...</td>\n      <td>...</td>\n      <td>...</td>\n      <td>...</td>\n      <td>...</td>\n      <td>...</td>\n      <td>...</td>\n      <td>...</td>\n      <td>...</td>\n      <td>...</td>\n      <td>...</td>\n      <td>...</td>\n      <td>...</td>\n      <td>...</td>\n      <td>...</td>\n      <td>...</td>\n    </tr>\n    <tr>\n      <th>4798</th>\n      <td>220000</td>\n      <td>[{\"id\": 28, \"name\": \"Action\"}, {\"id\": 80, \"nam...</td>\n      <td>NaN</td>\n      <td>9367</td>\n      <td>[{\"id\": 5616, \"name\": \"united states\\u2013mexi...</td>\n      <td>es</td>\n      <td>El Mariachi</td>\n      <td>El Mariachi just wants to play his guitar and ...</td>\n      <td>14.269792</td>\n      <td>[{\"name\": \"Columbia Pictures\", \"id\": 5}]</td>\n      <td>[{\"iso_3166_1\": \"MX\", \"name\": \"Mexico\"}, {\"iso...</td>\n      <td>1992-09-04</td>\n      <td>2040920</td>\n      <td>81.0</td>\n      <td>[{\"iso_639_1\": \"es\", \"name\": \"Espa\\u00f1ol\"}]</td>\n      <td>Released</td>\n      <td>He didn't come looking for trouble, but troubl...</td>\n      <td>El Mariachi</td>\n      <td>6.6</td>\n      <td>238</td>\n    </tr>\n    <tr>\n      <th>4799</th>\n      <td>9000</td>\n      <td>[{\"id\": 35, \"name\": \"Comedy\"}, {\"id\": 10749, \"...</td>\n      <td>NaN</td>\n      <td>72766</td>\n      <td>[]</td>\n      <td>en</td>\n      <td>Newlyweds</td>\n      <td>A newlywed couple's honeymoon is upended by th...</td>\n      <td>0.642552</td>\n      <td>[]</td>\n      <td>[]</td>\n      <td>2011-12-26</td>\n      <td>0</td>\n      <td>85.0</td>\n      <td>[]</td>\n      <td>Released</td>\n      <td>A newlywed couple's honeymoon is upended by th...</td>\n      <td>Newlyweds</td>\n      <td>5.9</td>\n      <td>5</td>\n    </tr>\n    <tr>\n      <th>4800</th>\n      <td>0</td>\n      <td>[{\"id\": 35, \"name\": \"Comedy\"}, {\"id\": 18, \"nam...</td>\n      <td>http://www.hallmarkchannel.com/signedsealeddel...</td>\n      <td>231617</td>\n      <td>[{\"id\": 248, \"name\": \"date\"}, {\"id\": 699, \"nam...</td>\n      <td>en</td>\n      <td>Signed, Sealed, Delivered</td>\n      <td>\"Signed, Sealed, Delivered\" introduces a dedic...</td>\n      <td>1.444476</td>\n      <td>[{\"name\": \"Front Street Pictures\", \"id\": 3958}...</td>\n      <td>[{\"iso_3166_1\": \"US\", \"name\": \"United States o...</td>\n      <td>2013-10-13</td>\n      <td>0</td>\n      <td>120.0</td>\n      <td>[{\"iso_639_1\": \"en\", \"name\": \"English\"}]</td>\n      <td>Released</td>\n      <td>NaN</td>\n      <td>Signed, Sealed, Delivered</td>\n      <td>7.0</td>\n      <td>6</td>\n    </tr>\n    <tr>\n      <th>4801</th>\n      <td>0</td>\n      <td>[]</td>\n      <td>http://shanghaicalling.com/</td>\n      <td>126186</td>\n      <td>[]</td>\n      <td>en</td>\n      <td>Shanghai Calling</td>\n      <td>When ambitious New York attorney Sam is sent t...</td>\n      <td>0.857008</td>\n      <td>[]</td>\n      <td>[{\"iso_3166_1\": \"US\", \"name\": \"United States o...</td>\n      <td>2012-05-03</td>\n      <td>0</td>\n      <td>98.0</td>\n      <td>[{\"iso_639_1\": \"en\", \"name\": \"English\"}]</td>\n      <td>Released</td>\n      <td>A New Yorker in Shanghai</td>\n      <td>Shanghai Calling</td>\n      <td>5.7</td>\n      <td>7</td>\n    </tr>\n    <tr>\n      <th>4802</th>\n      <td>0</td>\n      <td>[{\"id\": 99, \"name\": \"Documentary\"}]</td>\n      <td>NaN</td>\n      <td>25975</td>\n      <td>[{\"id\": 1523, \"name\": \"obsession\"}, {\"id\": 224...</td>\n      <td>en</td>\n      <td>My Date with Drew</td>\n      <td>Ever since the second grade when he first saw ...</td>\n      <td>1.929883</td>\n      <td>[{\"name\": \"rusty bear entertainment\", \"id\": 87...</td>\n      <td>[{\"iso_3166_1\": \"US\", \"name\": \"United States o...</td>\n      <td>2005-08-05</td>\n      <td>0</td>\n      <td>90.0</td>\n      <td>[{\"iso_639_1\": \"en\", \"name\": \"English\"}]</td>\n      <td>Released</td>\n      <td>NaN</td>\n      <td>My Date with Drew</td>\n      <td>6.3</td>\n      <td>16</td>\n    </tr>\n  </tbody>\n</table>\n<p>4803 rows × 20 columns</p>\n</div>"
     },
     "execution_count": 3,
     "metadata": {},
     "output_type": "execute_result"
    }
   ],
   "source": [
    "df = pd.read_csv('tmdb_5000_movies TMDL 2024.csv')\n",
    "df"
   ]
  },
  {
   "cell_type": "markdown",
   "id": "1915f1f7",
   "metadata": {},
   "source": [
    "View information about the dataset including datatypes and null values"
   ]
  },
  {
   "cell_type": "code",
   "execution_count": 4,
   "id": "c173d066",
   "metadata": {
    "ExecuteTime": {
     "end_time": "2024-03-20T19:13:57.043502900Z",
     "start_time": "2024-03-20T19:13:56.994315100Z"
    }
   },
   "outputs": [
    {
     "name": "stdout",
     "output_type": "stream",
     "text": [
      "<class 'pandas.core.frame.DataFrame'>\n",
      "RangeIndex: 4803 entries, 0 to 4802\n",
      "Data columns (total 20 columns):\n",
      " #   Column                Non-Null Count  Dtype  \n",
      "---  ------                --------------  -----  \n",
      " 0   budget                4803 non-null   int64  \n",
      " 1   genres                4803 non-null   object \n",
      " 2   homepage              1712 non-null   object \n",
      " 3   id                    4803 non-null   int64  \n",
      " 4   keywords              4803 non-null   object \n",
      " 5   original_language     4803 non-null   object \n",
      " 6   original_title        4803 non-null   object \n",
      " 7   overview              4800 non-null   object \n",
      " 8   popularity            4803 non-null   float64\n",
      " 9   production_companies  4803 non-null   object \n",
      " 10  production_countries  4803 non-null   object \n",
      " 11  release_date          4802 non-null   object \n",
      " 12  revenue               4803 non-null   int64  \n",
      " 13  runtime               4801 non-null   float64\n",
      " 14  spoken_languages      4803 non-null   object \n",
      " 15  status                4803 non-null   object \n",
      " 16  tagline               3959 non-null   object \n",
      " 17  title                 4803 non-null   object \n",
      " 18  vote_average          4803 non-null   float64\n",
      " 19  vote_count            4803 non-null   int64  \n",
      "dtypes: float64(3), int64(4), object(13)\n",
      "memory usage: 750.6+ KB\n"
     ]
    }
   ],
   "source": [
    "df.info()"
   ]
  },
  {
   "cell_type": "markdown",
   "id": "4e64a24f",
   "metadata": {},
   "source": [
    "**Q.1.1.2** What columns have null values above? How would you be able to estimate the missing values?"
   ]
  },
  {
   "cell_type": "markdown",
   "id": "2660fe51",
   "metadata": {},
   "source": [
    "*Columns: \n",
    "2 homepage, this means there is no URL to the website.\n",
    "7 overview, has 3 null values, these could be added by hand, or removed\n",
    "11 release_date, since in this column there is only 1 null value, we might remove it\n",
    "13 runtime, only 2 null, so might do the same as with 11\n",
    "16 tagline, containing the tagline for the movie.\n",
    "\n",
    "Both 2 and 16 have enough missing values that plainly deleting it might be unjustified. But since both of them contain non-numerical values, (both objects are text and the first is a url) it does not make sense to estimate them. \n"
   ]
  },
  {
   "cell_type": "markdown",
   "id": "83863820",
   "metadata": {},
   "source": [
    "### Q1.2\n",
    "For this notebook, we're only interested in a few columns, specifically title, overview and genres. Set df to only contain those columns."
   ]
  },
  {
   "cell_type": "code",
   "execution_count": 7,
   "id": "4e3f0439",
   "metadata": {
    "ExecuteTime": {
     "end_time": "2024-03-20T19:25:45.305012700Z",
     "start_time": "2024-03-20T19:25:45.257455700Z"
    }
   },
   "outputs": [
    {
     "name": "stdout",
     "output_type": "stream",
     "text": [
      "<class 'pandas.core.frame.DataFrame'>\n",
      "RangeIndex: 4803 entries, 0 to 4802\n",
      "Data columns (total 3 columns):\n",
      " #   Column    Non-Null Count  Dtype \n",
      "---  ------    --------------  ----- \n",
      " 0   title     4803 non-null   object\n",
      " 1   overview  4800 non-null   object\n",
      " 2   genres    4803 non-null   object\n",
      "dtypes: object(3)\n",
      "memory usage: 112.7+ KB\n"
     ]
    }
   ],
   "source": [
    "df = df[[\"title\", \"overview\", \"genres\"]]\n",
    "df.info() # print out df info to verify"
   ]
  },
  {
   "cell_type": "markdown",
   "id": "b596e86b",
   "metadata": {},
   "source": [
    "### Q1.3\n",
    "We see that some movies do not have an overview. Drop them from the table and reset the index (set `drop=True`)."
   ]
  },
  {
   "cell_type": "code",
   "execution_count": 8,
   "id": "a06e4f6a",
   "metadata": {
    "ExecuteTime": {
     "end_time": "2024-03-20T19:28:49.246687100Z",
     "start_time": "2024-03-20T19:28:49.215355300Z"
    }
   },
   "outputs": [],
   "source": [
    "df = df.dropna(subset=[\"overview\"]).reset_index(drop=True)"
   ]
  },
  {
   "cell_type": "markdown",
   "id": "759df3a2",
   "metadata": {},
   "source": [
    "# Q2 One-hot encodings\n",
    "The following code processes the genres (which you see above are list of dictionaries) and encodes them into one-hot labels.\n",
    "\n",
    "Remember, since we cannot do maths on text strings, we must change these words to numbers. Here, we create one-hot encodings for the genres. Assume we have three genres $[G_1, G_2, G_3]$. If a movie $M_1$ is tagged with genre $G_1$, the encoding is $[1,0,0]$. If another movie $M_2$ is tagged with $G2$, the encoding becomes $[0,1,0]$. Other encodings are possible as well, but one-hot encoding quite common and useful for many other tasks. In this case, if a movie is tagged with more than one genre, we'll just take a random one and encode that into a one-hot label.\n",
    "\n",
    "### Q2.1 Processing genres\n",
    "\n",
    "Finish the following code that processes genres into one-hot encodings."
   ]
  },
  {
   "cell_type": "code",
   "execution_count": 9,
   "id": "dba05feb",
   "metadata": {
    "ExecuteTime": {
     "end_time": "2024-03-20T19:39:26.133852600Z",
     "start_time": "2024-03-20T19:39:25.008754200Z"
    }
   },
   "outputs": [
    {
     "name": "stderr",
     "output_type": "stream",
     "text": [
      "100%|██████████| 4800/4800 [00:00<00:00, 21211.30it/s]\n"
     ]
    }
   ],
   "source": [
    "np.random.seed(0)\n",
    "\n",
    "def process_genre_string(gs):\n",
    "    \"\"\" Processes genres into a single item from a list\"\"\"\n",
    "    gs = eval(gs)\n",
    "    gs = [x['name'] for x in gs]\n",
    "    genre = \"Unknown\"\n",
    "    if gs:\n",
    "        genre = np.random.choice(gs) # choose random entry\n",
    "    return genre\n",
    "\n",
    "# TODO: Fill in\n",
    "def encode_labels(label, unique_labels):\n",
    "    \"\"\" Encodes text labels into a one-hot encoded list\n",
    "        with possibly more than one one-hot per list.\n",
    "        :param label: the label you want to one-hot encode\n",
    "        :unique_labels: the vocabulary\n",
    "    \"\"\"\n",
    "    out = np.zeros(len(unique_labels))\n",
    "    if label in unique_labels:\n",
    "        out[unique_labels.index(label)] = 1\n",
    "    return out\n",
    "\n",
    "# save genres\n",
    "processed_genres = []\n",
    "for index, row in df.iterrows():\n",
    "    processed_genres.append(process_genre_string(row['genres']))\n",
    "\n",
    "# sort and remove duplicates to get vocabulary\n",
    "unique_genres = sorted(list(set(processed_genres)))\n",
    "\n",
    "# add to dataframe as new column\n",
    "df[\"proc_genres\"] = processed_genres\n",
    "\n",
    "# one-hot encode genres\n",
    "encoded_labels = []\n",
    "for index, row in tqdm(df.iterrows(), total=len(df)):\n",
    "    encoded_labels.append(encode_labels(row['proc_genres'], unique_genres))\n",
    "\n",
    "# Add one-hot encoded genres to dataframe\n",
    "df[\"one_hot_genres\"] = encoded_labels"
   ]
  },
  {
   "cell_type": "markdown",
   "id": "d17501a9",
   "metadata": {},
   "source": [
    "Verify that one-hot encodings are indeed as expected"
   ]
  },
  {
   "cell_type": "code",
   "execution_count": 10,
   "id": "3b64854b",
   "metadata": {
    "ExecuteTime": {
     "end_time": "2024-03-20T19:39:32.290253100Z",
     "start_time": "2024-03-20T19:39:32.252873200Z"
    }
   },
   "outputs": [
    {
     "data": {
      "text/plain": "array([1., 0., 0., 0., 0., 0., 0., 0., 0., 0., 0., 0., 0., 0., 0., 0., 0.,\n       0., 0., 0., 0.])"
     },
     "execution_count": 10,
     "metadata": {},
     "output_type": "execute_result"
    }
   ],
   "source": [
    "df[\"one_hot_genres\"][0]"
   ]
  },
  {
   "cell_type": "markdown",
   "id": "b0a83ece",
   "metadata": {},
   "source": [
    "### Q2.2 Processing Overviews\n",
    "Next, we process the overviews. First, we remove all punctuation for the sake of simplicity and change each overview to use only lowercase. Then we need to see how long the overviews are in terms of numbers of words. We can do this with a histogram.\n",
    "\n",
    "**Q2.2.1** Finish the following code"
   ]
  },
  {
   "cell_type": "code",
   "execution_count": 11,
   "id": "bfd51c53",
   "metadata": {
    "ExecuteTime": {
     "end_time": "2024-03-20T19:42:22.179868900Z",
     "start_time": "2024-03-20T19:42:21.646169300Z"
    }
   },
   "outputs": [
    {
     "data": {
      "text/plain": "<Figure size 640x480 with 1 Axes>",
      "image/png": "[encoded data removed]"
     },
     "metadata": {},
     "output_type": "display_data"
    }
   ],
   "source": [
    "import re\n",
    "def remove_punctuation(text):\n",
    "    \"\"\" Only retains letters, numbers, underscores and whitespace \"\"\"\n",
    "    pattern = r'[^\\w\\s]'\n",
    "    return re.sub(pattern, '', text)\n",
    "\n",
    "processed_overviews = []\n",
    "\n",
    "# Loop over df, remove punctuation, make words lowercase, and add it to a new column\n",
    "for index, row in df.iterrows():\n",
    "    overview = row['overview']\n",
    "    processed_overview = remove_punctuation(overview).lower()\n",
    "    processed_overviews.append(processed_overview)\n",
    "\n",
    "df[\"proc_overview\"] = processed_overviews\n",
    "\n",
    "# Get the word lengths of each overview and store it in a list\n",
    "overview_lens = [len(overview.split()) for overview in processed_overviews]\n",
    "\n",
    "# For the sake of simplicity, add these values as a column to the df\n",
    "df[\"overview_len\"] = overview_lens\n",
    "\n",
    "# Plot a histogram of the word lengths\n",
    "plt.hist(overview_lens, bins=30, color='blue', edgecolor='black')\n",
    "plt.xlabel('Words')\n",
    "plt.ylabel('Frequency')\n",
    "plt.title('Histogram of Overview Word Lengths')\n",
    "plt.grid(True)\n",
    "plt.show()"
   ]
  },
  {
   "cell_type": "markdown",
   "id": "58138594",
   "metadata": {},
   "source": [
    "**Q2.2.2** What is the shortest overview? What is the longest? In the next step, we need to decide on a standard length of all overviews -- this means dropping overviews less than some value, and truncating longer ones. What length would you choose to minimize the number of movies dropped and maximize the information (words) stored in the overviews?"
   ]
  },
  {
   "cell_type": "markdown",
   "id": "3b87f1af",
   "metadata": {},
   "source": [
    "I would choose the mean, which seems to be around 50 "
   ]
  },
  {
   "cell_type": "markdown",
   "id": "54e6cb90",
   "metadata": {},
   "source": [
    "### Q2.2.3\n",
    "Let's choose overviews of length 15 words. What this means is we need to discard movies that have overviews less than 15 (there are other ways of dealing with it, but this should be fine for now) and truncate the higher ones to the first 15 words."
   ]
  },
  {
   "cell_type": "code",
   "execution_count": 13,
   "id": "70854211",
   "metadata": {
    "ExecuteTime": {
     "end_time": "2024-03-20T19:48:13.102784300Z",
     "start_time": "2024-03-20T19:48:13.029900500Z"
    }
   },
   "outputs": [
    {
     "data": {
      "text/plain": "                                         title  \\\n0                                       Avatar   \n1     Pirates of the Caribbean: At World's End   \n2                                      Spectre   \n3                        The Dark Knight Rises   \n4                                  John Carter   \n...                                        ...   \n4794                                    Cavite   \n4795                               El Mariachi   \n4797                 Signed, Sealed, Delivered   \n4798                          Shanghai Calling   \n4799                         My Date with Drew   \n\n                                               overview  \\\n0     In the 22nd century, a paraplegic Marine is di...   \n1     Captain Barbossa, long believed to be dead, ha...   \n2     A cryptic message from Bond’s past sends him o...   \n3     Following the death of District Attorney Harve...   \n4     John Carter is a war-weary, former military ca...   \n...                                                 ...   \n4794  Adam, a security guard, travels from Californi...   \n4795  El Mariachi just wants to play his guitar and ...   \n4797  \"Signed, Sealed, Delivered\" introduces a dedic...   \n4798  When ambitious New York attorney Sam is sent t...   \n4799  Ever since the second grade when he first saw ...   \n\n                                                 genres  proc_genres  \\\n0     [{\"id\": 28, \"name\": \"Action\"}, {\"id\": 12, \"nam...       Action   \n1     [{\"id\": 12, \"name\": \"Adventure\"}, {\"id\": 14, \"...      Fantasy   \n2     [{\"id\": 28, \"name\": \"Action\"}, {\"id\": 12, \"nam...       Action   \n3     [{\"id\": 28, \"name\": \"Action\"}, {\"id\": 80, \"nam...     Thriller   \n4     [{\"id\": 28, \"name\": \"Action\"}, {\"id\": 12, \"nam...    Adventure   \n...                                                 ...          ...   \n4794  [{\"id\": 10769, \"name\": \"Foreign\"}, {\"id\": 53, ...     Thriller   \n4795  [{\"id\": 28, \"name\": \"Action\"}, {\"id\": 80, \"nam...        Crime   \n4797  [{\"id\": 35, \"name\": \"Comedy\"}, {\"id\": 18, \"nam...     TV Movie   \n4798                                                 []      Unknown   \n4799                [{\"id\": 99, \"name\": \"Documentary\"}]  Documentary   \n\n                                         one_hot_genres  \\\n0     [1.0, 0.0, 0.0, 0.0, 0.0, 0.0, 0.0, 0.0, 0.0, ...   \n1     [0.0, 0.0, 0.0, 0.0, 0.0, 0.0, 0.0, 0.0, 1.0, ...   \n2     [1.0, 0.0, 0.0, 0.0, 0.0, 0.0, 0.0, 0.0, 0.0, ...   \n3     [0.0, 0.0, 0.0, 0.0, 0.0, 0.0, 0.0, 0.0, 0.0, ...   \n4     [0.0, 1.0, 0.0, 0.0, 0.0, 0.0, 0.0, 0.0, 0.0, ...   \n...                                                 ...   \n4794  [0.0, 0.0, 0.0, 0.0, 0.0, 0.0, 0.0, 0.0, 0.0, ...   \n4795  [0.0, 0.0, 0.0, 0.0, 1.0, 0.0, 0.0, 0.0, 0.0, ...   \n4797  [0.0, 0.0, 0.0, 0.0, 0.0, 0.0, 0.0, 0.0, 0.0, ...   \n4798  [0.0, 0.0, 0.0, 0.0, 0.0, 0.0, 0.0, 0.0, 0.0, ...   \n4799  [0.0, 0.0, 0.0, 0.0, 0.0, 1.0, 0.0, 0.0, 0.0, ...   \n\n                                          proc_overview  overview_len  \n0     in the 22nd century a paraplegic marine is dis...            28  \n1     captain barbossa long believed to be dead has ...            34  \n2     a cryptic message from bonds past sends him on...            41  \n3     following the death of district attorney harve...            65  \n4     john carter is a warweary former military capt...            55  \n...                                                 ...           ...  \n4794  adam a security guard travels from california ...           115  \n4795  el mariachi just wants to play his guitar and ...            62  \n4797  signed sealed delivered introduces a dedicated...            73  \n4798  when ambitious new york attorney sam is sent t...            65  \n4799  ever since the second grade when he first saw ...            62  \n\n[4707 rows x 7 columns]",
      "text/html": "<div>\n<style scoped>\n    .dataframe tbody tr th:only-of-type {\n        vertical-align: middle;\n    }\n\n    .dataframe tbody tr th {\n        vertical-align: top;\n    }\n\n    .dataframe thead th {\n        text-align: right;\n    }\n</style>\n<table border=\"1\" class=\"dataframe\">\n  <thead>\n    <tr style=\"text-align: right;\">\n      <th></th>\n      <th>title</th>\n      <th>overview</th>\n      <th>genres</th>\n      <th>proc_genres</th>\n      <th>one_hot_genres</th>\n      <th>proc_overview</th>\n      <th>overview_len</th>\n    </tr>\n  </thead>\n  <tbody>\n    <tr>\n      <th>0</th>\n      <td>Avatar</td>\n      <td>In the 22nd century, a paraplegic Marine is di...</td>\n      <td>[{\"id\": 28, \"name\": \"Action\"}, {\"id\": 12, \"nam...</td>\n      <td>Action</td>\n      <td>[1.0, 0.0, 0.0, 0.0, 0.0, 0.0, 0.0, 0.0, 0.0, ...</td>\n      <td>in the 22nd century a paraplegic marine is dis...</td>\n      <td>28</td>\n    </tr>\n    <tr>\n      <th>1</th>\n      <td>Pirates of the Caribbean: At World's End</td>\n      <td>Captain Barbossa, long believed to be dead, ha...</td>\n      <td>[{\"id\": 12, \"name\": \"Adventure\"}, {\"id\": 14, \"...</td>\n      <td>Fantasy</td>\n      <td>[0.0, 0.0, 0.0, 0.0, 0.0, 0.0, 0.0, 0.0, 1.0, ...</td>\n      <td>captain barbossa long believed to be dead has ...</td>\n      <td>34</td>\n    </tr>\n    <tr>\n      <th>2</th>\n      <td>Spectre</td>\n      <td>A cryptic message from Bond’s past sends him o...</td>\n      <td>[{\"id\": 28, \"name\": \"Action\"}, {\"id\": 12, \"nam...</td>\n      <td>Action</td>\n      <td>[1.0, 0.0, 0.0, 0.0, 0.0, 0.0, 0.0, 0.0, 0.0, ...</td>\n      <td>a cryptic message from bonds past sends him on...</td>\n      <td>41</td>\n    </tr>\n    <tr>\n      <th>3</th>\n      <td>The Dark Knight Rises</td>\n      <td>Following the death of District Attorney Harve...</td>\n      <td>[{\"id\": 28, \"name\": \"Action\"}, {\"id\": 80, \"nam...</td>\n      <td>Thriller</td>\n      <td>[0.0, 0.0, 0.0, 0.0, 0.0, 0.0, 0.0, 0.0, 0.0, ...</td>\n      <td>following the death of district attorney harve...</td>\n      <td>65</td>\n    </tr>\n    <tr>\n      <th>4</th>\n      <td>John Carter</td>\n      <td>John Carter is a war-weary, former military ca...</td>\n      <td>[{\"id\": 28, \"name\": \"Action\"}, {\"id\": 12, \"nam...</td>\n      <td>Adventure</td>\n      <td>[0.0, 1.0, 0.0, 0.0, 0.0, 0.0, 0.0, 0.0, 0.0, ...</td>\n      <td>john carter is a warweary former military capt...</td>\n      <td>55</td>\n    </tr>\n    <tr>\n      <th>...</th>\n      <td>...</td>\n      <td>...</td>\n      <td>...</td>\n      <td>...</td>\n      <td>...</td>\n      <td>...</td>\n      <td>...</td>\n    </tr>\n    <tr>\n      <th>4794</th>\n      <td>Cavite</td>\n      <td>Adam, a security guard, travels from Californi...</td>\n      <td>[{\"id\": 10769, \"name\": \"Foreign\"}, {\"id\": 53, ...</td>\n      <td>Thriller</td>\n      <td>[0.0, 0.0, 0.0, 0.0, 0.0, 0.0, 0.0, 0.0, 0.0, ...</td>\n      <td>adam a security guard travels from california ...</td>\n      <td>115</td>\n    </tr>\n    <tr>\n      <th>4795</th>\n      <td>El Mariachi</td>\n      <td>El Mariachi just wants to play his guitar and ...</td>\n      <td>[{\"id\": 28, \"name\": \"Action\"}, {\"id\": 80, \"nam...</td>\n      <td>Crime</td>\n      <td>[0.0, 0.0, 0.0, 0.0, 1.0, 0.0, 0.0, 0.0, 0.0, ...</td>\n      <td>el mariachi just wants to play his guitar and ...</td>\n      <td>62</td>\n    </tr>\n    <tr>\n      <th>4797</th>\n      <td>Signed, Sealed, Delivered</td>\n      <td>\"Signed, Sealed, Delivered\" introduces a dedic...</td>\n      <td>[{\"id\": 35, \"name\": \"Comedy\"}, {\"id\": 18, \"nam...</td>\n      <td>TV Movie</td>\n      <td>[0.0, 0.0, 0.0, 0.0, 0.0, 0.0, 0.0, 0.0, 0.0, ...</td>\n      <td>signed sealed delivered introduces a dedicated...</td>\n      <td>73</td>\n    </tr>\n    <tr>\n      <th>4798</th>\n      <td>Shanghai Calling</td>\n      <td>When ambitious New York attorney Sam is sent t...</td>\n      <td>[]</td>\n      <td>Unknown</td>\n      <td>[0.0, 0.0, 0.0, 0.0, 0.0, 0.0, 0.0, 0.0, 0.0, ...</td>\n      <td>when ambitious new york attorney sam is sent t...</td>\n      <td>65</td>\n    </tr>\n    <tr>\n      <th>4799</th>\n      <td>My Date with Drew</td>\n      <td>Ever since the second grade when he first saw ...</td>\n      <td>[{\"id\": 99, \"name\": \"Documentary\"}]</td>\n      <td>Documentary</td>\n      <td>[0.0, 0.0, 0.0, 0.0, 0.0, 1.0, 0.0, 0.0, 0.0, ...</td>\n      <td>ever since the second grade when he first saw ...</td>\n      <td>62</td>\n    </tr>\n  </tbody>\n</table>\n<p>4707 rows × 7 columns</p>\n</div>"
     },
     "execution_count": 13,
     "metadata": {},
     "output_type": "execute_result"
    }
   ],
   "source": [
    "token_len = 15 # number of words\n",
    "# only select rows where overview len is more than or equal to token_len\n",
    "df = df[df['overview_len'] >= token_len]\n",
    "\n",
    "\n",
    "# split each proc_overview into a list of words, select the first token_len words, \n",
    "# and add the list of words back into df[\"proc_overview\"]\n",
    "df[\"proc_overview\"] = df[\"proc_overview\"].apply(lambda x: ' '.join(x.split()[:token_len]))\n",
    "\n",
    "\n",
    "# print to verify\n",
    "df"
   ]
  },
  {
   "cell_type": "markdown",
   "id": "26e092dd",
   "metadata": {},
   "source": [
    "### Q2.2.3 Finding the vocabulary length\n",
    "\n",
    "In order to one-hot encode words, we need to find how many words there are in total, just like in the case of genres. Get all the words, remove duplicates, and sort. Find and print the length of your vocabulary."
   ]
  },
  {
   "cell_type": "code",
   "execution_count": 15,
   "id": "a71a750b",
   "metadata": {
    "ExecuteTime": {
     "end_time": "2024-03-20T19:52:04.684243600Z",
     "start_time": "2024-03-20T19:52:04.644030300Z"
    }
   },
   "outputs": [
    {
     "name": "stdout",
     "output_type": "stream",
     "text": [
      "12493\n"
     ]
    }
   ],
   "source": [
    "# hint: store all words for all movies in a set, change it to a list and sort\n",
    "all_words = set()\n",
    "\n",
    "for overview in df[\"proc_overview\"]:\n",
    "    words = overview.split()\n",
    "    all_words.update(words)\n",
    "    \n",
    "words_list = sorted(list(all_words))\n",
    "\n",
    "vocab_len = len(words_list)\n",
    "print(vocab_len)"
   ]
  },
  {
   "cell_type": "markdown",
   "id": "f276b825",
   "metadata": {},
   "source": [
    "### Q2.2.4 Encoding the labels\n",
    "\n",
    "In the case of genres, we one-hot encoded the outputs by taking a single random genre. However, an alternative method is to add up the one-hot encodings to form some kind of histogram. For example, if we have an overview \"a brown dog\", and our vocab is \\[a brown, big, cabbage, dog, goat, cow, turkey\\], the one-hot vector would be \\[1,1,0,0,1,0,0,0\\]. If our overview is \"a big brown dog\", the one-hot vector would be \\[1,1,1,0,1,0,0,0\\]. If our overview is \"a big big brown dog\", the one-hot vector would be \\[1,1,2,0,1,0,0,0\\]. You can use the `encode_labels` function that you defined earlier."
   ]
  },
  {
   "cell_type": "code",
   "execution_count": 17,
   "id": "d212192f",
   "metadata": {
    "ExecuteTime": {
     "end_time": "2024-03-20T19:55:08.693889Z",
     "start_time": "2024-03-20T19:54:52.264691Z"
    }
   },
   "outputs": [
    {
     "name": "stderr",
     "output_type": "stream",
     "text": [
      "100%|██████████| 4707/4707 [00:16<00:00, 287.00it/s]"
     ]
    },
    {
     "name": "stdout",
     "output_type": "stream",
     "text": [
      "0       [0.0, 0.0, 0.0, 0.0, 0.0, 0.0, 0.0, 0.0, 0.0, ...\n",
      "1       [0.0, 0.0, 0.0, 0.0, 0.0, 0.0, 0.0, 0.0, 0.0, ...\n",
      "2       [0.0, 0.0, 0.0, 0.0, 0.0, 0.0, 0.0, 0.0, 0.0, ...\n",
      "3       [0.0, 0.0, 0.0, 0.0, 0.0, 0.0, 0.0, 0.0, 0.0, ...\n",
      "4       [0.0, 0.0, 0.0, 0.0, 0.0, 0.0, 0.0, 0.0, 0.0, ...\n",
      "                              ...                        \n",
      "4794    [0.0, 0.0, 0.0, 0.0, 0.0, 0.0, 0.0, 0.0, 0.0, ...\n",
      "4795    [0.0, 0.0, 0.0, 0.0, 0.0, 0.0, 0.0, 0.0, 0.0, ...\n",
      "4797    [0.0, 0.0, 0.0, 0.0, 0.0, 0.0, 0.0, 0.0, 0.0, ...\n",
      "4798    [0.0, 0.0, 0.0, 0.0, 0.0, 0.0, 0.0, 0.0, 0.0, ...\n",
      "4799    [0.0, 0.0, 0.0, 0.0, 0.0, 0.0, 0.0, 0.0, 0.0, ...\n",
      "Name: one_hot_overview, Length: 4707, dtype: object\n"
     ]
    },
    {
     "name": "stderr",
     "output_type": "stream",
     "text": [
      "\n"
     ]
    }
   ],
   "source": [
    "# this code is just a hint, if you want you can do it as you please\n",
    "# as long as the output remains the same\n",
    "encoded_labels = []\n",
    "for index, row in tqdm(df.iterrows(), total=len(df)):\n",
    "    sentence_encode = []  # Set of encodings for this overview\n",
    "    for word in row[\"proc_overview\"].split():\n",
    "        # Get encoding for this word\n",
    "        word_encode = encode_labels(word, words_list)\n",
    "        sentence_encode.append(word_encode)\n",
    "    # Sum over axis=0 to form histogram\n",
    "    sentence_encode = np.sum(sentence_encode, axis=0)\n",
    "    encoded_labels.append(sentence_encode)\n",
    "\n",
    "df[\"one_hot_overview\"] = encoded_labels\n",
    "\n",
    "# Print to verify\n",
    "print(df['one_hot_overview'])"
   ]
  },
  {
   "cell_type": "markdown",
   "id": "7c62e127",
   "metadata": {},
   "source": [
    "**Q2.2.5** Each vector is a vector of floating point (64-bit) numbers. Assuming each float takes up exactly 16-bytes, how many bytes does this take to store (theoretically)?"
   ]
  },
  {
   "cell_type": "markdown",
   "id": "193b8235",
   "metadata": {},
   "source": [
    "this will be vocab_len * 16 * 4707 = 12493 * 16 * 4707 = 940872816 bytes"
   ]
  },
  {
   "cell_type": "code",
   "outputs": [],
   "source": [],
   "metadata": {
    "collapsed": false
   },
   "id": "f6813242fed32c02"
  },
  {
   "cell_type": "markdown",
   "id": "1f3b3700",
   "metadata": {},
   "source": [
    "# Q3 Principal Component Analysis\n",
    "\n",
    "**Q3.1** Using the overview encoded into one-hot encodings, perform PCA and plot this into a 2-D image as a scatter plot."
   ]
  },
  {
   "cell_type": "code",
   "execution_count": 21,
   "id": "832f2be7",
   "metadata": {
    "ExecuteTime": {
     "end_time": "2024-03-20T20:06:58.755164700Z",
     "start_time": "2024-03-20T20:06:57.262893100Z"
    }
   },
   "outputs": [
    {
     "data": {
      "text/plain": "<Figure size 1000x600 with 1 Axes>",
      "image/png": "[encoded data removed]"
     },
     "metadata": {},
     "output_type": "display_data"
    }
   ],
   "source": [
    "# import PCA decomposition class from sklearn\n",
    "from sklearn.decomposition import PCA\n",
    "pca = PCA(n_components=2)  # Set the desired number of components\n",
    "overview_pca = pca.fit_transform(df['one_hot_overview'].tolist())\n",
    "\n",
    "# Extract PCA components\n",
    "pc1 = overview_pca[:, 0]\n",
    "pc2 = overview_pca[:, 1]\n",
    "\n",
    "# Plot the PCA components as a scatter plot\n",
    "plt.figure(figsize=(10, 6))\n",
    "plt.scatter(pc1, pc2, alpha=0.5)\n",
    "plt.title('PCA of One-Hot Encoded Overviews')\n",
    "plt.xlabel('Principal Component 1')\n",
    "plt.ylabel('Principal Component 2')\n",
    "plt.grid(True)\n",
    "plt.show()\n",
    "\n",
    "\n",
    "# we did exactly this in the lecture notebook"
   ]
  },
  {
   "cell_type": "markdown",
   "id": "a63054b6",
   "metadata": {},
   "source": [
    "**Q3.2** Do you see any interpretable structure in the above plot (\"interpretable\" $\\rightarrow$ the patterns are explainable)."
   ]
  },
  {
   "cell_type": "markdown",
   "id": "a9409e7b",
   "metadata": {},
   "source": [
    "We see what seems like a collection of 5 linear dependencies: 5 different intercepts for the PC2 = a + bPC1 + e regression. this suggests there might be 5 different clusters with their own means"
   ]
  },
  {
   "cell_type": "markdown",
   "id": "4482c5e5",
   "metadata": {},
   "source": [
    "**Q3.3** Quantify how much variance information a 2D PCA projection loses for this dataset."
   ]
  },
  {
   "cell_type": "code",
   "outputs": [],
   "source": [],
   "metadata": {
    "collapsed": false
   },
   "id": "a3fc8047f4002315"
  },
  {
   "cell_type": "code",
   "outputs": [
    {
     "name": "stdout",
     "output_type": "stream",
     "text": [
      "Explained variance ratio for each component: [0.0699188  0.04296571]\n",
      "Cumulative explained variance ratio: [0.0699188  0.11288451]\n",
      "Variance information lost in 2D PCA projection: 0.8871154913246893\n"
     ]
    }
   ],
   "source": [
    "# Calculate explained variance ratio\n",
    "explained_variance_ratio = pca.explained_variance_ratio_\n",
    "\n",
    "# Print explained variance ratio for each component\n",
    "print(\"Explained variance ratio for each component:\", explained_variance_ratio)\n",
    "\n",
    "# Calculate cumulative explained variance ratio\n",
    "cumulative_explained_variance_ratio = explained_variance_ratio.cumsum()\n",
    "\n",
    "# Print cumulative explained variance ratio\n",
    "print(\"Cumulative explained variance ratio:\", cumulative_explained_variance_ratio)\n",
    "\n",
    "# Calculate variance information lost\n",
    "variance_lost = 1 - cumulative_explained_variance_ratio[-1]\n",
    "\n",
    "# Print variance information lost\n",
    "print(\"Variance information lost in 2D PCA projection:\", variance_lost)"
   ],
   "metadata": {
    "collapsed": false,
    "ExecuteTime": {
     "end_time": "2024-03-20T20:13:19.059583300Z",
     "start_time": "2024-03-20T20:13:19.046166800Z"
    }
   },
   "id": "cd024575122336d",
   "execution_count": 22
  },
  {
   "cell_type": "markdown",
   "id": "2338a25d",
   "metadata": {},
   "source": [
    "*See output of added code block."
   ]
  },
  {
   "cell_type": "markdown",
   "id": "7da99ba5",
   "metadata": {},
   "source": [
    "**Q3.4** Plot a line graph where the y-axis is cumulative explained variance ratio and the x-axis is the number of PCA components."
   ]
  },
  {
   "cell_type": "code",
   "execution_count": 50,
   "id": "e0cac8ff",
   "metadata": {
    "scrolled": false,
    "ExecuteTime": {
     "end_time": "2024-03-21T10:56:01.759482700Z",
     "start_time": "2024-03-21T10:55:22.523580500Z"
    }
   },
   "outputs": [
    {
     "data": {
      "text/plain": "<Figure size 640x480 with 1 Axes>",
      "image/png": "[encoded data removed]"
     },
     "metadata": {},
     "output_type": "display_data"
    }
   ],
   "source": [
    "pca = PCA(n_components=2000)  # Set the desired number of components\n",
    "overview_pca = pca.fit_transform(df['one_hot_overview'].tolist())\n",
    "explained_variance_ratio = pca.explained_variance_ratio_\n",
    "cumulative_explained_variance_ratio = explained_variance_ratio.cumsum()\n",
    "\n",
    "plt.plot(range(1, len(cumulative_explained_variance_ratio) + 1), cumulative_explained_variance_ratio, marker='o', linestyle='-')\n",
    "\n",
    "# Set up labels and title\n",
    "plt.xlabel('Number of PCA Components')\n",
    "plt.ylabel('Cumulative Explained Variance Ratio')\n",
    "plt.title('Cumulative Explained Variance Ratio vs. Number of PCA Components')\n",
    "\n",
    "# Show plot\n",
    "plt.grid(True)\n",
    "plt.show()"
   ]
  },
  {
   "cell_type": "markdown",
   "id": "8b36c9b2",
   "metadata": {},
   "source": [
    "**Q3.5** How many principal components do you need in order to explain 80% of the total variance in the data?\n",
    "\n",
    "Note: don't just estimate it by eye, write some code to compute it for you."
   ]
  },
  {
   "cell_type": "code",
   "execution_count": 51,
   "id": "95c44b2d",
   "metadata": {
    "ExecuteTime": {
     "end_time": "2024-03-21T10:56:53.729631100Z",
     "start_time": "2024-03-21T10:56:53.712991700Z"
    }
   },
   "outputs": [
    {
     "name": "stdout",
     "output_type": "stream",
     "text": [
      "Number of principal components needed to explain 80% of the total variance: 1227\n"
     ]
    }
   ],
   "source": [
    "# your code answer here\n",
    "num_components_80_percent_variance =1\n",
    "for i, cumulative_variance in enumerate(cumulative_explained_variance_ratio):\n",
    "    if cumulative_variance >= 0.8:\n",
    "        num_components_80_percent_variance = i + 1\n",
    "        break\n",
    "\n",
    "print(\"Number of principal components needed to explain 80% of the total variance:\", num_components_80_percent_variance)"
   ]
  },
  {
   "cell_type": "markdown",
   "id": "b608db91",
   "metadata": {},
   "source": [
    "*Your text answer here*"
   ]
  },
  {
   "cell_type": "markdown",
   "id": "ee3b5c33",
   "metadata": {},
   "source": [
    "**Q3.6** Using the number of dimensions you found in Q3.5, fit and transform your overview encodings using PCA and add it to a new column called `overview_pca` in the dataframe."
   ]
  },
  {
   "cell_type": "code",
   "execution_count": 52,
   "id": "8a6eb40b",
   "metadata": {
    "ExecuteTime": {
     "end_time": "2024-03-21T10:57:34.937407100Z",
     "start_time": "2024-03-21T10:57:12.823644700Z"
    }
   },
   "outputs": [
    {
     "data": {
      "text/plain": "                                         title  \\\n0                                       Avatar   \n1     Pirates of the Caribbean: At World's End   \n2                                      Spectre   \n3                        The Dark Knight Rises   \n4                                  John Carter   \n...                                        ...   \n4794                                    Cavite   \n4795                               El Mariachi   \n4797                 Signed, Sealed, Delivered   \n4798                          Shanghai Calling   \n4799                         My Date with Drew   \n\n                                               overview  \\\n0     In the 22nd century, a paraplegic Marine is di...   \n1     Captain Barbossa, long believed to be dead, ha...   \n2     A cryptic message from Bond’s past sends him o...   \n3     Following the death of District Attorney Harve...   \n4     John Carter is a war-weary, former military ca...   \n...                                                 ...   \n4794  Adam, a security guard, travels from Californi...   \n4795  El Mariachi just wants to play his guitar and ...   \n4797  \"Signed, Sealed, Delivered\" introduces a dedic...   \n4798  When ambitious New York attorney Sam is sent t...   \n4799  Ever since the second grade when he first saw ...   \n\n                                                 genres  proc_genres  \\\n0     [{\"id\": 28, \"name\": \"Action\"}, {\"id\": 12, \"nam...       Action   \n1     [{\"id\": 12, \"name\": \"Adventure\"}, {\"id\": 14, \"...      Fantasy   \n2     [{\"id\": 28, \"name\": \"Action\"}, {\"id\": 12, \"nam...       Action   \n3     [{\"id\": 28, \"name\": \"Action\"}, {\"id\": 80, \"nam...     Thriller   \n4     [{\"id\": 28, \"name\": \"Action\"}, {\"id\": 12, \"nam...    Adventure   \n...                                                 ...          ...   \n4794  [{\"id\": 10769, \"name\": \"Foreign\"}, {\"id\": 53, ...     Thriller   \n4795  [{\"id\": 28, \"name\": \"Action\"}, {\"id\": 80, \"nam...        Crime   \n4797  [{\"id\": 35, \"name\": \"Comedy\"}, {\"id\": 18, \"nam...     TV Movie   \n4798                                                 []      Unknown   \n4799                [{\"id\": 99, \"name\": \"Documentary\"}]  Documentary   \n\n                                         one_hot_genres  \\\n0     [1.0, 0.0, 0.0, 0.0, 0.0, 0.0, 0.0, 0.0, 0.0, ...   \n1     [0.0, 0.0, 0.0, 0.0, 0.0, 0.0, 0.0, 0.0, 1.0, ...   \n2     [1.0, 0.0, 0.0, 0.0, 0.0, 0.0, 0.0, 0.0, 0.0, ...   \n3     [0.0, 0.0, 0.0, 0.0, 0.0, 0.0, 0.0, 0.0, 0.0, ...   \n4     [0.0, 1.0, 0.0, 0.0, 0.0, 0.0, 0.0, 0.0, 0.0, ...   \n...                                                 ...   \n4794  [0.0, 0.0, 0.0, 0.0, 0.0, 0.0, 0.0, 0.0, 0.0, ...   \n4795  [0.0, 0.0, 0.0, 0.0, 1.0, 0.0, 0.0, 0.0, 0.0, ...   \n4797  [0.0, 0.0, 0.0, 0.0, 0.0, 0.0, 0.0, 0.0, 0.0, ...   \n4798  [0.0, 0.0, 0.0, 0.0, 0.0, 0.0, 0.0, 0.0, 0.0, ...   \n4799  [0.0, 0.0, 0.0, 0.0, 0.0, 1.0, 0.0, 0.0, 0.0, ...   \n\n                                          proc_overview  overview_len  \\\n0     in the 22nd century a paraplegic marine is dis...            28   \n1     captain barbossa long believed to be dead has ...            34   \n2     a cryptic message from bonds past sends him on...            41   \n3     following the death of district attorney harve...            65   \n4     john carter is a warweary former military capt...            55   \n...                                                 ...           ...   \n4794  adam a security guard travels from california ...           115   \n4795  el mariachi just wants to play his guitar and ...            62   \n4797  signed sealed delivered introduces a dedicated...            73   \n4798  when ambitious new york attorney sam is sent t...            65   \n4799  ever since the second grade when he first saw ...            62   \n\n                                       one_hot_overview  \\\n0     [0.0, 0.0, 0.0, 0.0, 0.0, 0.0, 0.0, 0.0, 0.0, ...   \n1     [0.0, 0.0, 0.0, 0.0, 0.0, 0.0, 0.0, 0.0, 0.0, ...   \n2     [0.0, 0.0, 0.0, 0.0, 0.0, 0.0, 0.0, 0.0, 0.0, ...   \n3     [0.0, 0.0, 0.0, 0.0, 0.0, 0.0, 0.0, 0.0, 0.0, ...   \n4     [0.0, 0.0, 0.0, 0.0, 0.0, 0.0, 0.0, 0.0, 0.0, ...   \n...                                                 ...   \n4794  [0.0, 0.0, 0.0, 0.0, 0.0, 0.0, 0.0, 0.0, 0.0, ...   \n4795  [0.0, 0.0, 0.0, 0.0, 0.0, 0.0, 0.0, 0.0, 0.0, ...   \n4797  [0.0, 0.0, 0.0, 0.0, 0.0, 0.0, 0.0, 0.0, 0.0, ...   \n4798  [0.0, 0.0, 0.0, 0.0, 0.0, 0.0, 0.0, 0.0, 0.0, ...   \n4799  [0.0, 0.0, 0.0, 0.0, 0.0, 0.0, 0.0, 0.0, 0.0, ...   \n\n                                           overview_pca  cluster_kmeans  \\\n0     [0.17130556275116166, 1.2545637565427674, 1.06...               2   \n1     [-0.378072930058912, -1.5934718497724252, 0.93...              13   \n2     [-1.912881049062202, 1.1768562611981288, 0.806...               4   \n3     [0.8229543741730555, -0.4484862837347775, 0.59...              10   \n4     [-0.10117960365987827, -0.22882078000626924, 0...              19   \n...                                                 ...             ...   \n4794  [-0.1645291710186342, -0.35828760782363006, 0....               6   \n4795  [0.439616851207752, -1.1329578847993336, 0.369...              15   \n4797  [0.39072083347918657, 0.5742052146661918, -0.2...              15   \n4798  [-0.3015446623294267, -1.1754163046969563, 0.7...               6   \n4799  [1.3368062836309222, -0.2727533757528476, 0.22...               9   \n\n      cluster_gmm  \n0               2  \n1              13  \n2               4  \n3              10  \n4              19  \n...           ...  \n4794            6  \n4795           15  \n4797           15  \n4798            6  \n4799            9  \n\n[4707 rows x 11 columns]",
      "text/html": "<div>\n<style scoped>\n    .dataframe tbody tr th:only-of-type {\n        vertical-align: middle;\n    }\n\n    .dataframe tbody tr th {\n        vertical-align: top;\n    }\n\n    .dataframe thead th {\n        text-align: right;\n    }\n</style>\n<table border=\"1\" class=\"dataframe\">\n  <thead>\n    <tr style=\"text-align: right;\">\n      <th></th>\n      <th>title</th>\n      <th>overview</th>\n      <th>genres</th>\n      <th>proc_genres</th>\n      <th>one_hot_genres</th>\n      <th>proc_overview</th>\n      <th>overview_len</th>\n      <th>one_hot_overview</th>\n      <th>overview_pca</th>\n      <th>cluster_kmeans</th>\n      <th>cluster_gmm</th>\n    </tr>\n  </thead>\n  <tbody>\n    <tr>\n      <th>0</th>\n      <td>Avatar</td>\n      <td>In the 22nd century, a paraplegic Marine is di...</td>\n      <td>[{\"id\": 28, \"name\": \"Action\"}, {\"id\": 12, \"nam...</td>\n      <td>Action</td>\n      <td>[1.0, 0.0, 0.0, 0.0, 0.0, 0.0, 0.0, 0.0, 0.0, ...</td>\n      <td>in the 22nd century a paraplegic marine is dis...</td>\n      <td>28</td>\n      <td>[0.0, 0.0, 0.0, 0.0, 0.0, 0.0, 0.0, 0.0, 0.0, ...</td>\n      <td>[0.17130556275116166, 1.2545637565427674, 1.06...</td>\n      <td>2</td>\n      <td>2</td>\n    </tr>\n    <tr>\n      <th>1</th>\n      <td>Pirates of the Caribbean: At World's End</td>\n      <td>Captain Barbossa, long believed to be dead, ha...</td>\n      <td>[{\"id\": 12, \"name\": \"Adventure\"}, {\"id\": 14, \"...</td>\n      <td>Fantasy</td>\n      <td>[0.0, 0.0, 0.0, 0.0, 0.0, 0.0, 0.0, 0.0, 1.0, ...</td>\n      <td>captain barbossa long believed to be dead has ...</td>\n      <td>34</td>\n      <td>[0.0, 0.0, 0.0, 0.0, 0.0, 0.0, 0.0, 0.0, 0.0, ...</td>\n      <td>[-0.378072930058912, -1.5934718497724252, 0.93...</td>\n      <td>13</td>\n      <td>13</td>\n    </tr>\n    <tr>\n      <th>2</th>\n      <td>Spectre</td>\n      <td>A cryptic message from Bond’s past sends him o...</td>\n      <td>[{\"id\": 28, \"name\": \"Action\"}, {\"id\": 12, \"nam...</td>\n      <td>Action</td>\n      <td>[1.0, 0.0, 0.0, 0.0, 0.0, 0.0, 0.0, 0.0, 0.0, ...</td>\n      <td>a cryptic message from bonds past sends him on...</td>\n      <td>41</td>\n      <td>[0.0, 0.0, 0.0, 0.0, 0.0, 0.0, 0.0, 0.0, 0.0, ...</td>\n      <td>[-1.912881049062202, 1.1768562611981288, 0.806...</td>\n      <td>4</td>\n      <td>4</td>\n    </tr>\n    <tr>\n      <th>3</th>\n      <td>The Dark Knight Rises</td>\n      <td>Following the death of District Attorney Harve...</td>\n      <td>[{\"id\": 28, \"name\": \"Action\"}, {\"id\": 80, \"nam...</td>\n      <td>Thriller</td>\n      <td>[0.0, 0.0, 0.0, 0.0, 0.0, 0.0, 0.0, 0.0, 0.0, ...</td>\n      <td>following the death of district attorney harve...</td>\n      <td>65</td>\n      <td>[0.0, 0.0, 0.0, 0.0, 0.0, 0.0, 0.0, 0.0, 0.0, ...</td>\n      <td>[0.8229543741730555, -0.4484862837347775, 0.59...</td>\n      <td>10</td>\n      <td>10</td>\n    </tr>\n    <tr>\n      <th>4</th>\n      <td>John Carter</td>\n      <td>John Carter is a war-weary, former military ca...</td>\n      <td>[{\"id\": 28, \"name\": \"Action\"}, {\"id\": 12, \"nam...</td>\n      <td>Adventure</td>\n      <td>[0.0, 1.0, 0.0, 0.0, 0.0, 0.0, 0.0, 0.0, 0.0, ...</td>\n      <td>john carter is a warweary former military capt...</td>\n      <td>55</td>\n      <td>[0.0, 0.0, 0.0, 0.0, 0.0, 0.0, 0.0, 0.0, 0.0, ...</td>\n      <td>[-0.10117960365987827, -0.22882078000626924, 0...</td>\n      <td>19</td>\n      <td>19</td>\n    </tr>\n    <tr>\n      <th>...</th>\n      <td>...</td>\n      <td>...</td>\n      <td>...</td>\n      <td>...</td>\n      <td>...</td>\n      <td>...</td>\n      <td>...</td>\n      <td>...</td>\n      <td>...</td>\n      <td>...</td>\n      <td>...</td>\n    </tr>\n    <tr>\n      <th>4794</th>\n      <td>Cavite</td>\n      <td>Adam, a security guard, travels from Californi...</td>\n      <td>[{\"id\": 10769, \"name\": \"Foreign\"}, {\"id\": 53, ...</td>\n      <td>Thriller</td>\n      <td>[0.0, 0.0, 0.0, 0.0, 0.0, 0.0, 0.0, 0.0, 0.0, ...</td>\n      <td>adam a security guard travels from california ...</td>\n      <td>115</td>\n      <td>[0.0, 0.0, 0.0, 0.0, 0.0, 0.0, 0.0, 0.0, 0.0, ...</td>\n      <td>[-0.1645291710186342, -0.35828760782363006, 0....</td>\n      <td>6</td>\n      <td>6</td>\n    </tr>\n    <tr>\n      <th>4795</th>\n      <td>El Mariachi</td>\n      <td>El Mariachi just wants to play his guitar and ...</td>\n      <td>[{\"id\": 28, \"name\": \"Action\"}, {\"id\": 80, \"nam...</td>\n      <td>Crime</td>\n      <td>[0.0, 0.0, 0.0, 0.0, 1.0, 0.0, 0.0, 0.0, 0.0, ...</td>\n      <td>el mariachi just wants to play his guitar and ...</td>\n      <td>62</td>\n      <td>[0.0, 0.0, 0.0, 0.0, 0.0, 0.0, 0.0, 0.0, 0.0, ...</td>\n      <td>[0.439616851207752, -1.1329578847993336, 0.369...</td>\n      <td>15</td>\n      <td>15</td>\n    </tr>\n    <tr>\n      <th>4797</th>\n      <td>Signed, Sealed, Delivered</td>\n      <td>\"Signed, Sealed, Delivered\" introduces a dedic...</td>\n      <td>[{\"id\": 35, \"name\": \"Comedy\"}, {\"id\": 18, \"nam...</td>\n      <td>TV Movie</td>\n      <td>[0.0, 0.0, 0.0, 0.0, 0.0, 0.0, 0.0, 0.0, 0.0, ...</td>\n      <td>signed sealed delivered introduces a dedicated...</td>\n      <td>73</td>\n      <td>[0.0, 0.0, 0.0, 0.0, 0.0, 0.0, 0.0, 0.0, 0.0, ...</td>\n      <td>[0.39072083347918657, 0.5742052146661918, -0.2...</td>\n      <td>15</td>\n      <td>15</td>\n    </tr>\n    <tr>\n      <th>4798</th>\n      <td>Shanghai Calling</td>\n      <td>When ambitious New York attorney Sam is sent t...</td>\n      <td>[]</td>\n      <td>Unknown</td>\n      <td>[0.0, 0.0, 0.0, 0.0, 0.0, 0.0, 0.0, 0.0, 0.0, ...</td>\n      <td>when ambitious new york attorney sam is sent t...</td>\n      <td>65</td>\n      <td>[0.0, 0.0, 0.0, 0.0, 0.0, 0.0, 0.0, 0.0, 0.0, ...</td>\n      <td>[-0.3015446623294267, -1.1754163046969563, 0.7...</td>\n      <td>6</td>\n      <td>6</td>\n    </tr>\n    <tr>\n      <th>4799</th>\n      <td>My Date with Drew</td>\n      <td>Ever since the second grade when he first saw ...</td>\n      <td>[{\"id\": 99, \"name\": \"Documentary\"}]</td>\n      <td>Documentary</td>\n      <td>[0.0, 0.0, 0.0, 0.0, 0.0, 1.0, 0.0, 0.0, 0.0, ...</td>\n      <td>ever since the second grade when he first saw ...</td>\n      <td>62</td>\n      <td>[0.0, 0.0, 0.0, 0.0, 0.0, 0.0, 0.0, 0.0, 0.0, ...</td>\n      <td>[1.3368062836309222, -0.2727533757528476, 0.22...</td>\n      <td>9</td>\n      <td>9</td>\n    </tr>\n  </tbody>\n</table>\n<p>4707 rows × 11 columns</p>\n</div>"
     },
     "execution_count": 52,
     "metadata": {},
     "output_type": "execute_result"
    }
   ],
   "source": [
    "n_dims = 1227\n",
    "pca = PCA(n_components=n_dims)\n",
    "labels_pca = pca.fit_transform(df['one_hot_overview'].tolist())\n",
    "df[\"overview_pca\"] = labels_pca.tolist()\n",
    "df"
   ]
  },
  {
   "cell_type": "markdown",
   "id": "309d3256",
   "metadata": {},
   "source": [
    "# Q4 K-Means Clustering\n",
    "\n",
    "**Q4.1** Cluster the movies based on the features that were extracted via PCA in the last step. Set $K=20$. Add the predicted cluster into the dataframe as a new column called `cluster_kmeans`. Print out the elements of cluster number 0 from the dataframe."
   ]
  },
  {
   "cell_type": "code",
   "execution_count": 59,
   "id": "f5f5781e",
   "metadata": {
    "ExecuteTime": {
     "end_time": "2024-03-21T11:17:08.858258800Z",
     "start_time": "2024-03-21T11:17:07.226207300Z"
    }
   },
   "outputs": [
    {
     "name": "stdout",
     "output_type": "stream",
     "text": [
      "                     title                                           overview  \\\n",
      "23      The Golden Compass  After overhearing a shocking secret, precociou...   \n",
      "124                 Frozen  Young princess Anna of Arendelle dreams about ...   \n",
      "188                   Salt  As a CIA officer, Evelyn Salt swore an oath to...   \n",
      "226        How Do You Know  After being cut from the USA softball team and...   \n",
      "239                Gravity  Dr. Ryan Stone, a brilliant medical engineer o...   \n",
      "...                    ...                                                ...   \n",
      "4714  Your Sister's Sister  Iris invites her friend Jack to stay at her fa...   \n",
      "4741       Happy Christmas  After a breakup with her boyfriend, a young wo...   \n",
      "4745              Absentia  Tricia's husband Daniel has been missing for s...   \n",
      "4778             Dry Spell  Sasha tries to get her soon-to-be ex husband K...   \n",
      "4786                 Clean  After losing her husband to a heroin overdose,...   \n",
      "\n",
      "                                                 genres proc_genres  \\\n",
      "23    [{\"id\": 12, \"name\": \"Adventure\"}, {\"id\": 14, \"...   Adventure   \n",
      "124   [{\"id\": 16, \"name\": \"Animation\"}, {\"id\": 12, \"...      Family   \n",
      "188   [{\"id\": 28, \"name\": \"Action\"}, {\"id\": 9648, \"n...      Action   \n",
      "226   [{\"id\": 35, \"name\": \"Comedy\"}, {\"id\": 18, \"nam...     Romance   \n",
      "239   [{\"id\": 878, \"name\": \"Science Fiction\"}, {\"id\"...       Drama   \n",
      "...                                                 ...         ...   \n",
      "4714  [{\"id\": 18, \"name\": \"Drama\"}, {\"id\": 35, \"name...       Drama   \n",
      "4741  [{\"id\": 35, \"name\": \"Comedy\"}, {\"id\": 18, \"nam...       Drama   \n",
      "4745  [{\"id\": 9648, \"name\": \"Mystery\"}, {\"id\": 27, \"...      Horror   \n",
      "4778  [{\"id\": 35, \"name\": \"Comedy\"}, {\"id\": 10749, \"...      Comedy   \n",
      "4786                      [{\"id\": 18, \"name\": \"Drama\"}]       Drama   \n",
      "\n",
      "                                         one_hot_genres  \\\n",
      "23    [0.0, 1.0, 0.0, 0.0, 0.0, 0.0, 0.0, 0.0, 0.0, ...   \n",
      "124   [0.0, 0.0, 0.0, 0.0, 0.0, 0.0, 0.0, 1.0, 0.0, ...   \n",
      "188   [1.0, 0.0, 0.0, 0.0, 0.0, 0.0, 0.0, 0.0, 0.0, ...   \n",
      "226   [0.0, 0.0, 0.0, 0.0, 0.0, 0.0, 0.0, 0.0, 0.0, ...   \n",
      "239   [0.0, 0.0, 0.0, 0.0, 0.0, 0.0, 1.0, 0.0, 0.0, ...   \n",
      "...                                                 ...   \n",
      "4714  [0.0, 0.0, 0.0, 0.0, 0.0, 0.0, 1.0, 0.0, 0.0, ...   \n",
      "4741  [0.0, 0.0, 0.0, 0.0, 0.0, 0.0, 1.0, 0.0, 0.0, ...   \n",
      "4745  [0.0, 0.0, 0.0, 0.0, 0.0, 0.0, 0.0, 0.0, 0.0, ...   \n",
      "4778  [0.0, 0.0, 0.0, 1.0, 0.0, 0.0, 0.0, 0.0, 0.0, ...   \n",
      "4786  [0.0, 0.0, 0.0, 0.0, 0.0, 0.0, 1.0, 0.0, 0.0, ...   \n",
      "\n",
      "                                          proc_overview  overview_len  \\\n",
      "23    after overhearing a shocking secret precocious...            34   \n",
      "124   young princess anna of arendelle dreams about ...            66   \n",
      "188   as a cia officer evelyn salt swore an oath to ...            81   \n",
      "226   after being cut from the usa softball team and...            41   \n",
      "239   dr ryan stone a brilliant medical engineer on ...           107   \n",
      "...                                                 ...           ...   \n",
      "4714  iris invites her friend jack to stay at her fa...            36   \n",
      "4741  after a breakup with her boyfriend a young wom...            21   \n",
      "4745  tricias husband daniel has been missing for se...           107   \n",
      "4778  sasha tries to get her soontobe ex husband kyl...            20   \n",
      "4786  after losing her husband to a heroin overdose ...            24   \n",
      "\n",
      "                                       one_hot_overview  \\\n",
      "23    [0.0, 0.0, 0.0, 0.0, 0.0, 0.0, 0.0, 0.0, 0.0, ...   \n",
      "124   [0.0, 0.0, 0.0, 0.0, 0.0, 0.0, 0.0, 0.0, 0.0, ...   \n",
      "188   [0.0, 0.0, 0.0, 0.0, 0.0, 0.0, 0.0, 0.0, 0.0, ...   \n",
      "226   [0.0, 0.0, 0.0, 0.0, 0.0, 0.0, 0.0, 0.0, 0.0, ...   \n",
      "239   [0.0, 0.0, 0.0, 0.0, 0.0, 0.0, 0.0, 0.0, 0.0, ...   \n",
      "...                                                 ...   \n",
      "4714  [0.0, 0.0, 0.0, 0.0, 0.0, 0.0, 0.0, 0.0, 0.0, ...   \n",
      "4741  [0.0, 0.0, 0.0, 0.0, 0.0, 0.0, 0.0, 0.0, 0.0, ...   \n",
      "4745  [0.0, 0.0, 0.0, 0.0, 0.0, 0.0, 0.0, 0.0, 0.0, ...   \n",
      "4778  [0.0, 0.0, 0.0, 0.0, 0.0, 0.0, 0.0, 0.0, 0.0, ...   \n",
      "4786  [0.0, 0.0, 0.0, 0.0, 0.0, 0.0, 0.0, 0.0, 0.0, ...   \n",
      "\n",
      "                                           overview_pca  cluster_kmeans  \\\n",
      "23    [0.006254056929843327, 0.11102352118324593, 0....               0   \n",
      "124   [0.10973629630088504, -0.643392727144001, -0.3...               0   \n",
      "188   [-0.875417977237408, -0.74283570252883, 0.1348...               0   \n",
      "226   [-0.020511909733644165, -0.12652519376580373, ...               0   \n",
      "239   [-0.7597499718070135, -0.24783905842125548, -0...               0   \n",
      "...                                                 ...             ...   \n",
      "4714  [0.4482773796932839, -0.8958590127318329, 0.87...               0   \n",
      "4741  [-1.4455905256977524, 0.5088177737889175, -0.1...               0   \n",
      "4745  [-0.27706637244146554, -1.2976941010575884, 0....               0   \n",
      "4778  [-0.27659243170081715, -1.215811198853974, 0.7...               0   \n",
      "4786  [-0.9613109084872133, -0.6947676705847738, 1.4...               0   \n",
      "\n",
      "      cluster_gmm  \n",
      "23             12  \n",
      "124             8  \n",
      "188             8  \n",
      "226             8  \n",
      "239             8  \n",
      "...           ...  \n",
      "4714            8  \n",
      "4741            8  \n",
      "4745            8  \n",
      "4778            8  \n",
      "4786            8  \n",
      "\n",
      "[173 rows x 11 columns]\n"
     ]
    }
   ],
   "source": [
    "# import KMeans class\n",
    "from sklearn.cluster import KMeans\n",
    "\n",
    "# Perform K-means clustering\n",
    "kmeans = KMeans(n_clusters=20)\n",
    "\n",
    "# Reshape overview_pca data to 2D array\n",
    "overview_pca_2d = df['overview_pca'].tolist()\n",
    "\n",
    "# Fit the KMeans model\n",
    "kmeans.fit(overview_pca_2d)\n",
    "\n",
    "# Get cluster predictions\n",
    "y_preds = kmeans.predict(overview_pca_2d)\n",
    "\n",
    "# Add predicted cluster into the dataframe as a new column\n",
    "df[\"cluster_kmeans\"] = y_preds\n",
    "\n",
    "# Print out elements of cluster 0\n",
    "cluster_0 = df[df[\"cluster_kmeans\"] == 0]\n",
    "print(cluster_0)"
   ]
  },
  {
   "cell_type": "markdown",
   "id": "34334c6c",
   "metadata": {},
   "source": [
    "**Q4.2** Does this clustering seem alright to you (based on your movie watching history)? Are there movies that go well together and movies that don't?"
   ]
  },
  {
   "cell_type": "markdown",
   "id": "9f1d40cc",
   "metadata": {},
   "source": [
    "lets take 15, 53, 76"
   ]
  },
  {
   "cell_type": "code",
   "outputs": [],
   "source": [],
   "metadata": {
    "collapsed": false,
    "ExecuteTime": {
     "end_time": "2024-03-20T20:30:58.147043Z",
     "start_time": "2024-03-20T20:30:58.130972600Z"
    }
   },
   "id": "f467a60f206bd938",
   "execution_count": 31
  },
  {
   "cell_type": "markdown",
   "source": [
    "The movies are Narnia, Indiana Jones and GI Joe, these seem to fit together. since they are all action adventure movies. Also, 12 Angry men does not fit, since this is a classical movie about jury-morality."
   ],
   "metadata": {
    "collapsed": false
   },
   "id": "57a8d4928db4f5e7"
  },
  {
   "cell_type": "code",
   "outputs": [],
   "source": [],
   "metadata": {
    "collapsed": false
   },
   "id": "7531e624acf797d"
  },
  {
   "cell_type": "markdown",
   "id": "0407f9e4",
   "metadata": {},
   "source": [
    "**Q4.3** Now, we'll figure out whether using the elbow method is right for this dataset. Plot a loss (using `kmeans.inertia_`) versus cluster size plot. Is there an elbow that you see clearly? What cluster size would you choose?"
   ]
  },
  {
   "cell_type": "markdown",
   "id": "4984dcd9",
   "metadata": {},
   "source": [
    "There is no clear elbow shape. I would, however, set it somewhere between 8 and 11"
   ]
  },
  {
   "cell_type": "code",
   "execution_count": 56,
   "id": "cb3a37ee",
   "metadata": {
    "ExecuteTime": {
     "end_time": "2024-03-21T11:11:17.692761400Z",
     "start_time": "2024-03-21T11:11:02.948235800Z"
    }
   },
   "outputs": [
    {
     "data": {
      "text/plain": "<Figure size 640x480 with 1 Axes>",
      "image/png": "[encoded data removed]"
     },
     "metadata": {},
     "output_type": "display_data"
    }
   ],
   "source": [
    "# List to store inertia values\n",
    "inertia_values = []\n",
    "\n",
    "# Perform K-means clustering for different cluster sizes\n",
    "for k in range(1, 21):\n",
    "    kmeans = KMeans(n_clusters=k)\n",
    "    overview_pca_2d = df['overview_pca'].tolist()\n",
    "    kmeans.fit(overview_pca_2d)\n",
    "    inertia_values.append(kmeans.inertia_)\n",
    "\n",
    "# Plot loss (inertia) versus cluster size\n",
    "plt.plot(range(1, 21), inertia_values, marker='o')\n",
    "plt.xlabel('Number of Clusters')\n",
    "plt.ylabel('Loss')\n",
    "plt.title('Loss versus Cluster Size')\n",
    "plt.grid(True)\n",
    "plt.show()"
   ]
  },
  {
   "cell_type": "markdown",
   "id": "3e89e224",
   "metadata": {},
   "source": [
    "# Q5 Gaussian Mixture Models\n",
    "\n",
    "**Q5.1** As with the K-means above, cluster the movies based on the features that were extracted via PCA in a previous step. Set $K=20$. Add the predicted cluster into the dataframe as a new column called `cluster_gmm`. Print out the elements of a single cluster of your choice from the dataframe."
   ]
  },
  {
   "cell_type": "code",
   "execution_count": 57,
   "id": "86735028",
   "metadata": {
    "ExecuteTime": {
     "end_time": "2024-03-21T11:11:23.844934400Z",
     "start_time": "2024-03-21T11:11:22.402962300Z"
    }
   },
   "outputs": [
    {
     "name": "stdout",
     "output_type": "stream",
     "text": [
      "                                                  title  \\\n",
      "34                                  Monsters University   \n",
      "109   The Chronicles of Narnia: The Voyage of the Da...   \n",
      "134                  Mission: Impossible - Rogue Nation   \n",
      "202                                               Rio 2   \n",
      "231                                      Monsters, Inc.   \n",
      "...                                                 ...   \n",
      "4636                                               Cube   \n",
      "4719                                  Facing the Giants   \n",
      "4730                                        Open Secret   \n",
      "4756                               The Image Revolution   \n",
      "4758                                       A True Story   \n",
      "\n",
      "                                               overview  \\\n",
      "34    A look at the relationship between Mike and Su...   \n",
      "109   This time around Edmund and Lucy Pevensie, alo...   \n",
      "134   Ethan and team take on their most impossible m...   \n",
      "202   It's a jungle out there for Blu, Jewel and the...   \n",
      "231   James Sullivan and Mike Wazowski are monsters,...   \n",
      "...                                                 ...   \n",
      "4636  Seven strangers are taken out of their daily l...   \n",
      "4719  A losing coach with an underdog football team ...   \n",
      "4730  A couple discovers that their friend has gone ...   \n",
      "4756  Twenty years ago, seven superstar artists left...   \n",
      "4758  Mike and Matt own nothing and share everything...   \n",
      "\n",
      "                                                 genres  proc_genres  \\\n",
      "34    [{\"id\": 16, \"name\": \"Animation\"}, {\"id\": 10751...       Family   \n",
      "109   [{\"id\": 12, \"name\": \"Adventure\"}, {\"id\": 10751...    Adventure   \n",
      "134   [{\"id\": 28, \"name\": \"Action\"}, {\"id\": 12, \"nam...     Thriller   \n",
      "202   [{\"id\": 16, \"name\": \"Animation\"}, {\"id\": 12, \"...    Animation   \n",
      "231   [{\"id\": 16, \"name\": \"Animation\"}, {\"id\": 35, \"...       Family   \n",
      "...                                                 ...          ...   \n",
      "4636  [{\"id\": 53, \"name\": \"Thriller\"}, {\"id\": 878, \"...     Thriller   \n",
      "4719                      [{\"id\": 18, \"name\": \"Drama\"}]        Drama   \n",
      "4730  [{\"id\": 80, \"name\": \"Crime\"}, {\"id\": 9648, \"na...        Crime   \n",
      "4756                [{\"id\": 99, \"name\": \"Documentary\"}]  Documentary   \n",
      "4758                     [{\"id\": 35, \"name\": \"Comedy\"}]       Comedy   \n",
      "\n",
      "                                         one_hot_genres  \\\n",
      "34    [0.0, 0.0, 0.0, 0.0, 0.0, 0.0, 0.0, 1.0, 0.0, ...   \n",
      "109   [0.0, 1.0, 0.0, 0.0, 0.0, 0.0, 0.0, 0.0, 0.0, ...   \n",
      "134   [0.0, 0.0, 0.0, 0.0, 0.0, 0.0, 0.0, 0.0, 0.0, ...   \n",
      "202   [0.0, 0.0, 1.0, 0.0, 0.0, 0.0, 0.0, 0.0, 0.0, ...   \n",
      "231   [0.0, 0.0, 0.0, 0.0, 0.0, 0.0, 0.0, 1.0, 0.0, ...   \n",
      "...                                                 ...   \n",
      "4636  [0.0, 0.0, 0.0, 0.0, 0.0, 0.0, 0.0, 0.0, 0.0, ...   \n",
      "4719  [0.0, 0.0, 0.0, 0.0, 0.0, 0.0, 1.0, 0.0, 0.0, ...   \n",
      "4730  [0.0, 0.0, 0.0, 0.0, 1.0, 0.0, 0.0, 0.0, 0.0, ...   \n",
      "4756  [0.0, 0.0, 0.0, 0.0, 0.0, 1.0, 0.0, 0.0, 0.0, ...   \n",
      "4758  [0.0, 0.0, 0.0, 1.0, 0.0, 0.0, 0.0, 0.0, 0.0, ...   \n",
      "\n",
      "                                          proc_overview  overview_len  \\\n",
      "34    a look at the relationship between mike and su...            23   \n",
      "109   this time around edmund and lucy pevensie alon...            35   \n",
      "134   ethan and team take on their most impossible m...            28   \n",
      "202   its a jungle out there for blu jewel and their...            48   \n",
      "231   james sullivan and mike wazowski are monsters ...            66   \n",
      "...                                                 ...           ...   \n",
      "4636  seven strangers are taken out of their daily l...            26   \n",
      "4719  a losing coach with an underdog football team ...            23   \n",
      "4730  a couple discovers that their friend has gone ...            21   \n",
      "4756  twenty years ago seven superstar artists left ...           107   \n",
      "4758  mike and matt own nothing and share everything...            30   \n",
      "\n",
      "                                       one_hot_overview  \\\n",
      "34    [0.0, 0.0, 0.0, 0.0, 0.0, 0.0, 0.0, 0.0, 0.0, ...   \n",
      "109   [0.0, 0.0, 0.0, 0.0, 0.0, 0.0, 0.0, 0.0, 0.0, ...   \n",
      "134   [0.0, 0.0, 0.0, 0.0, 0.0, 0.0, 0.0, 0.0, 0.0, ...   \n",
      "202   [0.0, 0.0, 0.0, 0.0, 0.0, 0.0, 0.0, 0.0, 0.0, ...   \n",
      "231   [0.0, 0.0, 0.0, 0.0, 0.0, 0.0, 0.0, 0.0, 0.0, ...   \n",
      "...                                                 ...   \n",
      "4636  [0.0, 0.0, 0.0, 0.0, 0.0, 0.0, 0.0, 0.0, 0.0, ...   \n",
      "4719  [0.0, 0.0, 0.0, 0.0, 0.0, 0.0, 0.0, 0.0, 0.0, ...   \n",
      "4730  [0.0, 0.0, 0.0, 0.0, 0.0, 0.0, 0.0, 0.0, 0.0, ...   \n",
      "4756  [0.0, 0.0, 0.0, 0.0, 0.0, 0.0, 0.0, 0.0, 0.0, ...   \n",
      "4758  [0.0, 0.0, 0.0, 0.0, 0.0, 0.0, 0.0, 0.0, 0.0, ...   \n",
      "\n",
      "                                           overview_pca  cluster_kmeans  \\\n",
      "34    [0.04523506092994684, -0.09129146040242336, -0...               6   \n",
      "109   [-0.2018965760523701, -1.2889166682410824, -0....              19   \n",
      "134   [0.5936676762820118, -0.9335923026865689, -0.4...               6   \n",
      "202   [-0.7436397929680391, -0.5345926660055652, -0....              19   \n",
      "231   [-0.1888159576049129, -1.5884297235462297, -1....              19   \n",
      "...                                                 ...             ...   \n",
      "4636  [-0.38719180615380755, -0.1298298677888436, -1...              19   \n",
      "4719  [-0.46294628721860837, -0.2357601337058584, -0...              10   \n",
      "4730  [-0.8189521123898033, -0.5176268470856343, 0.5...               2   \n",
      "4756  [-0.2256726334171765, -1.2460721623579785, 0.5...               1   \n",
      "4758  [-0.7654008198886969, -0.7250495372065188, -1....              19   \n",
      "\n",
      "      cluster_gmm  \n",
      "34              0  \n",
      "109             0  \n",
      "134             0  \n",
      "202             0  \n",
      "231             0  \n",
      "...           ...  \n",
      "4636            0  \n",
      "4719            0  \n",
      "4730            0  \n",
      "4756            0  \n",
      "4758            0  \n",
      "\n",
      "[124 rows x 11 columns]\n"
     ]
    }
   ],
   "source": [
    "means = KMeans(n_clusters=20)\n",
    "\n",
    "# Fit the KMeans model\n",
    "overview_pca_2d = df['overview_pca'].tolist()\n",
    "kmeans.fit(overview_pca_2d)\n",
    "\n",
    "# Get cluster predictions\n",
    "y_preds = kmeans.predict(overview_pca_2d)\n",
    "\n",
    "# Add predicted cluster into the dataframe as a new column\n",
    "df[\"cluster_gmm\"] = y_preds\n",
    "\n",
    "# Print out elements of a single cluster (e.g., cluster 0) from the dataframe\n",
    "cluster_0 = df[df[\"cluster_gmm\"] == 0]\n",
    "print(cluster_0)"
   ]
  },
  {
   "cell_type": "markdown",
   "id": "95ed02d9",
   "metadata": {},
   "source": [
    "**Q4.2** Does this clustering seem alright to you (based on your movie watching history)? Are there movies that go well together and movies that don't? How does this compare to K-Means Clustering?"
   ]
  },
  {
   "cell_type": "markdown",
   "id": "c62e20dd",
   "metadata": {},
   "source": [
    "The cluster does not look good. Monsters University, Narnia and Mission impossible seem like rather different movies."
   ]
  },
  {
   "cell_type": "markdown",
   "id": "3b0064a1",
   "metadata": {},
   "source": [
    "**Q4.3** Let's check out the size of the clusters. Create a double bar plot (**as you did in the last assignment**) showing the different sizes of the clusters.\n",
    "\n",
    "*Hint: you may want to consider `df.value_counts()` if you're unfamiliar.*"
   ]
  },
  {
   "cell_type": "code",
   "execution_count": 62,
   "id": "e775ad4f",
   "metadata": {
    "ExecuteTime": {
     "end_time": "2024-03-23T19:49:30.889588900Z",
     "start_time": "2024-03-23T19:49:29.385988Z"
    }
   },
   "outputs": [
    {
     "data": {
      "text/plain": "<Figure size 640x480 with 1 Axes>",
      "image/png": "[encoded data removed]"
     },
     "metadata": {},
     "output_type": "display_data"
    }
   ],
   "source": [
    "# Create an array for the x-axis positions\n",
    "# Plotting the bars\n",
    "# Add labels, title, and legend\n",
    "cluster_counts = df['cluster_kmeans'].value_counts()\n",
    "cluster_counts_gmm = df['cluster_gmm'].value_counts()\n",
    "x = np.arange(len(cluster_counts))\n",
    "fig, ax = plt.subplots()\n",
    "width = 0.35\n",
    "\n",
    "bars1 = ax.bar(x - width/2, cluster_counts.values, width, label='KMeans')\n",
    "bars2 = ax.bar(x + width/2, cluster_counts_gmm.values, width, label='GMM')\n",
    "\n",
    "# Add labels, title, and legend\n",
    "ax.set_xlabel('Cluster')\n",
    "ax.set_ylabel('Number of Movies')\n",
    "ax.set_title('Cluster Sizes')\n",
    "ax.set_xticks(x)\n",
    "ax.set_xticklabels(cluster_counts.index)\n",
    "ax.legend()\n",
    "\n",
    "plt.show()"
   ]
  },
  {
   "cell_type": "markdown",
   "id": "cfc124da",
   "metadata": {},
   "source": [
    "**Q4.4** Do you see a significant difference in the sizes of the clusters? Which is more uniform? Any thought on why?"
   ]
  },
  {
   "cell_type": "markdown",
   "id": "9f538519",
   "metadata": {},
   "source": [
    "The size of Kmeans is larger in the first and final 7 except the last one. The GMM seems more uniform, this could be because it allows for probabilistic assignments of data points to clusters, accommodating clusters with varying shapes and sizes, while KMeans assumes spherical clusters of equal variance."
   ]
  },
  {
   "cell_type": "markdown",
   "id": "aa60615d",
   "metadata": {},
   "source": [
    "# Q6: A very simple recommender system\n",
    "\n",
    "One useful thing that clustering is often used for (though at a much greater complexity) is in **recommender systems**. These are systems with users and items (movies, files, documents, etc.), where new items are shown to the user based on what they've previously interacted with, and possibly also on the behaviour of other users.\n",
    "\n",
    "**Q6.1** Assume your dentist has just watched the movie Avatar and asks you for a recommendation. Lucky for you, you just finished this assignment. Using the cluster indices of the movie Avatar for both the K-means and GMM methods, print out suggestions for new movies."
   ]
  },
  {
   "cell_type": "code",
   "execution_count": 65,
   "id": "86a74f68",
   "metadata": {
    "ExecuteTime": {
     "end_time": "2024-03-23T19:55:30.458093700Z",
     "start_time": "2024-03-23T19:55:30.398163200Z"
    }
   },
   "outputs": [
    {
     "name": "stdout",
     "output_type": "stream",
     "text": [
      "Similar movies to Avatar  based on K-means clustering:\n",
      "- Tangled\n",
      "- Jupiter Ascending\n",
      "- The Jungle Book\n",
      "- Shin Godzilla\n",
      "- Charlie and the Chocolate Factory\n",
      "- Flushed Away\n",
      "- Sahara\n",
      "- Pirates of the Caribbean: The Curse of the Black Pearl\n",
      "- Star Wars: Episode I - The Phantom Menace\n",
      "- The Croods\n",
      "- Real Steel\n",
      "- Minority Report\n",
      "- True Lies\n",
      "- The Taking of Pelham 1 2 3\n",
      "- Starship Troopers\n",
      "- Hercules\n",
      "- Cloudy with a Chance of Meatballs\n",
      "- Mulan\n",
      "- Bicentennial Man\n",
      "- Hotel Transylvania\n",
      "- Safe House\n",
      "- Open Season\n",
      "- Enemy at the Gates\n",
      "- Battlefield Earth\n",
      "- Exorcist: The Beginning\n",
      "- Jarhead\n",
      "- The Simpsons Movie\n",
      "- Lady in the Water\n",
      "- Death Race\n",
      "- Man on Fire\n",
      "- The Sentinel\n",
      "- Mercury Rising\n",
      "- Supernova\n",
      "- Resident Evil: Afterlife\n",
      "- DragonHeart\n",
      "- The Pacifier\n",
      "- Chain Reaction\n",
      "- The Phantom of the Opera\n",
      "- Blade II\n",
      "- Mamma Mia!\n",
      "- Crazy, Stupid, Love.\n",
      "- Garfield\n",
      "- The Peacemaker\n",
      "- Free State of Jones\n",
      "- Miss Congeniality\n",
      "- Training Day\n",
      "- Aliens in the Attic\n",
      "- All the Pretty Horses\n",
      "- Sleepers\n",
      "- Notting Hill\n",
      "- Spy Kids 3-D: Game Over\n",
      "- Apocalypto\n",
      "- The Living Daylights\n",
      "- Paul\n",
      "- Fantastic Mr. Fox\n",
      "- Amélie\n",
      "- Duplex\n",
      "- Snowpiercer\n",
      "- Baahubali: The Beginning\n",
      "- Snow Falling on Cedars\n",
      "- Species\n",
      "- Must Love Dogs\n",
      "- Blast from the Past\n",
      "- The Four Feathers\n",
      "- Bait\n",
      "- Bandidas\n",
      "- A History of Violence\n",
      "- Ace Ventura: When Nature Calls\n",
      "- Babe\n",
      "- Midnight in Paris\n",
      "- A View to a Kill\n",
      "- Glory Road\n",
      "- Southpaw\n",
      "- The Cabin in the Woods\n",
      "- Virtuosity\n",
      "- Sausage Party\n",
      "- The Borrowers\n",
      "- Cry Freedom\n",
      "- The Jacket\n",
      "- Miracle\n",
      "- Ghosts of Mars\n",
      "- Our Brand Is Crisis\n",
      "- The NeverEnding Story\n",
      "- Return to Oz\n",
      "- Cloverfield\n",
      "- Undercover Brother\n",
      "- Bride of Chucky\n",
      "- Eddie the Eagle\n",
      "- The 33\n",
      "- The Possession\n",
      "- Tank Girl\n",
      "- A Turtle's Tale: Sammy's Adventures\n",
      "- Think Like a Man Too\n",
      "- The Waterboy\n",
      "- Pitch Black\n",
      "- Her\n",
      "- Cheri\n",
      "- I Heart Huckabees\n",
      "- Black Book\n",
      "- Sorcerer\n",
      "- Firefox\n",
      "- eXistenZ\n",
      "- 12 Years a Slave\n",
      "- Babel\n",
      "- Daybreakers\n",
      "- Reign Over Me\n",
      "- Lockout\n",
      "- 3 Ninjas Kick Back\n",
      "- Mrs Henderson Presents\n",
      "- Code Name: The Cleaner\n",
      "- The Exorcism of Emily Rose\n",
      "- Mean Girls\n",
      "- Youth in Revolt\n",
      "- Roar\n",
      "- See Spot Run\n",
      "- Vicky Cristina Barcelona\n",
      "- Big Fat Liar\n",
      "- Krampus\n",
      "- The Skulls\n",
      "- New York Stories\n",
      "- Raise Your Voice\n",
      "- The Company\n",
      "- Urban Legend\n",
      "- Jason X\n",
      "- Black Swan\n",
      "- Baby Geniuses\n",
      "- Ex Machina\n",
      "- Crazy/Beautiful\n",
      "- The Perks of Being a Wallflower\n",
      "- In the Land of Blood and Honey\n",
      "- The Prisoner of Zenda\n",
      "- Paper Towns\n",
      "- Just Wright\n",
      "- Rachel Getting Married\n",
      "- Das Boot\n",
      "- Sorority Boys\n",
      "- House of Flying Daggers\n",
      "- For Your Consideration\n",
      "- Married Life\n",
      "- Cypher\n",
      "- 10 Days in a Madhouse\n",
      "- A Tale of Three Cities\n",
      "- Recess: School's Out\n",
      "- Roll Bounce\n",
      "- Rushmore\n",
      "- The Second Best Exotic Marigold Hotel\n",
      "- Drop Dead Gorgeous\n",
      "- Malone\n",
      "- Blood Done Sign My Name\n",
      "- Cinco de Mayo: La Batalla\n",
      "- Plastic\n",
      "- Detention\n",
      "- Sicko\n",
      "- Glee: The Concert Movie\n",
      "- The Girl on the Train\n",
      "- Crocodile Dundee\n",
      "- Barbarella\n",
      "- Election\n",
      "- Club Dread\n",
      "- Brooklyn Rules\n",
      "- Restless\n",
      "- Fido\n",
      "- The Rocket: The Legend of Rocket Richard\n",
      "- Far from Men\n",
      "- Witless Protection\n",
      "- Code 46\n",
      "- The Man with the Golden Gun\n",
      "- In Too Deep\n",
      "- Warlock\n",
      "- Split Second\n",
      "- Auto Focus\n",
      "- The Mighty Macs\n",
      "- Z Storm\n",
      "- Criminal Activities\n",
      "- The Terminator\n",
      "- Shattered Glass\n",
      "- Our Idiot Brother\n",
      "- Bottle Rocket\n",
      "- The Texas Chainsaw Massacre 2\n",
      "- Moby Dick\n",
      "- Salvador\n",
      "- Airlift\n",
      "- Topaz\n",
      "- Zipper\n",
      "- Among Giants\n",
      "- Inescapable\n",
      "- Defendor\n",
      "- Margin Call\n",
      "- Dave Chappelle's Block Party\n",
      "- Tsotsi\n",
      "- Evil Words\n",
      "- The Spectacular Now\n",
      "- Christmas Mail\n",
      "- Go for It!\n",
      "- Full Frontal\n",
      "- The Square\n",
      "- Dr. Strangelove or: How I Learned to Stop Worrying and Love the Bomb\n",
      "- Beasts of the Southern Wild\n",
      "- Hang 'em High\n",
      "- Waitress\n",
      "- Reservoir Dogs\n",
      "- Shine a Light\n",
      "- 20 Feet from Stardom\n",
      "- The House of the Devil\n",
      "- In Her Line of Fire\n",
      "- Zombie Hunter\n",
      "- Hard Candy\n",
      "- Live-In Maid\n",
      "- All the Boys Love Mandy Lane\n",
      "- Beyond the Mat\n",
      "- The Living Wake\n",
      "- America Is Still the Place\n",
      "- The Toxic Avenger\n",
      "- Straight Out of Brooklyn\n",
      "- Rotor DR1\n",
      "- Exam\n",
      "- The Beast from 20,000 Fathoms\n",
      "- Reality Show\n",
      "- When the Lights Went Out\n",
      "- Pi\n",
      "- The Dirties\n",
      "- The Naked Ape\n",
      "- The Signal\n",
      "\n",
      "Similar movies to  Avatar  based on GMM clustering:\n",
      "- Iron Man 3\n",
      "- Star Trek Into Darkness\n",
      "- Jack the Giant Slayer\n",
      "- Brave\n",
      "- The Lovers\n",
      "- Wreck-It Ralph\n",
      "- I Am Legend\n",
      "- Kung Fu Panda 2\n",
      "- Flushed Away\n",
      "- The BFG\n",
      "- The Bourne Ultimatum\n",
      "- Kung Fu Panda\n",
      "- Home\n",
      "- RoboCop\n",
      "- Speed Racer\n",
      "- Star Wars: Episode I - The Phantom Menace\n",
      "- The Croods\n",
      "- Real Steel\n",
      "- Ender's Game\n",
      "- Atlantis: The Lost Empire\n",
      "- Contact\n",
      "- Spy Game\n",
      "- Mission to Mars\n",
      "- Enchanted\n",
      "- Enemy at the Gates\n",
      "- Collateral Damage\n",
      "- Dredd\n",
      "- The Pink Panther\n",
      "- Battlefield Earth\n",
      "- The Last Witch Hunter\n",
      "- Hidalgo\n",
      "- The Secret Life of Pets\n",
      "- Immortals\n",
      "- Soldier\n",
      "- The SpongeBob Movie: Sponge Out of Water\n",
      "- Lady in the Water\n",
      "- Olympus Has Fallen\n",
      "- Dracula Untold\n",
      "- Red Dawn\n",
      "- Lucky Numbers\n",
      "- Clear and Present Danger\n",
      "- The General's Daughter\n",
      "- The Truman Show\n",
      "- Any Given Sunday\n",
      "- ParaNorman\n",
      "- State of Play\n",
      "- The Sentinel\n",
      "- Beyond Borders\n",
      "- The Great Raid\n",
      "- The Pacifier\n",
      "- Semi-Pro\n",
      "- The Pirates! In an Adventure with Scientists!\n",
      "- Gigli\n",
      "- The Twilight Saga: New Moon\n",
      "- Stepmom\n",
      "- Non-Stop\n",
      "- Don't Say a Word\n",
      "- Syriana\n",
      "- The Replacements\n",
      "- Resident Evil: Apocalypse\n",
      "- Drive Angry\n",
      "- The Boat That Rocked\n",
      "- 16 Blocks\n",
      "- Shadow Conspiracy\n",
      "- Heaven's Gate\n",
      "- Lord of War\n",
      "- 8 Mile\n",
      "- Scary Movie 4\n",
      "- Vantage Point\n",
      "- The Deep End of the Ocean\n",
      "- Sunshine\n",
      "- Nomad: The Warrior\n",
      "- Joe Somebody\n",
      "- The Town\n",
      "- How to Be Single\n",
      "- Star Trek: The Motion Picture\n",
      "- Must Love Dogs\n",
      "- The Pianist\n",
      "- Zoom\n",
      "- The Fountain\n",
      "- Nacho Libre\n",
      "- A History of Violence\n",
      "- Apocalypse Now\n",
      "- 30 Days of Night\n",
      "- The Next Three Days\n",
      "- Hoodwinked Too! Hood VS. Evil\n",
      "- Sausage Party\n",
      "- The Wedding Planner\n",
      "- Pride & Prejudice\n",
      "- Our Brand Is Crisis\n",
      "- Divine Secrets of the Ya-Ya Sisterhood\n",
      "- Lake Placid\n",
      "- Lucky Number Slevin\n",
      "- Pain & Gain\n",
      "- Snow White: A Tale of Terror\n",
      "- Finding Neverland\n",
      "- GoodFellas\n",
      "- Undercover Brother\n",
      "- The Hours\n",
      "- Dance Flick\n",
      "- Eddie the Eagle\n",
      "- Don Juan DeMarco\n",
      "- Hot Rod\n",
      "- The Conspirator\n",
      "- Double Take\n",
      "- I Don't Know How She Does It\n",
      "- The Bridge of San Luis Rey\n",
      "- Vanity Fair\n",
      "- Ghost\n",
      "- Diary of a Wimpy Kid: Dog Days\n",
      "- Dudley Do-Right\n",
      "- Jackass 3D\n",
      "- Street Kings\n",
      "- Appaloosa\n",
      "- Pooh's Heffalump Movie\n",
      "- 21 Grams\n",
      "- Undisputed\n",
      "- Doogal\n",
      "- Machete Kills\n",
      "- Kansas City\n",
      "- Land of the Dead\n",
      "- Prom Night\n",
      "- Mean Girls\n",
      "- Soul Surfer\n",
      "- The Legend of the Lone Ranger\n",
      "- Metallica: Through the Never\n",
      "- Dickie Roberts: Former Child Star\n",
      "- Running Scared\n",
      "- Dragon Hunters\n",
      "- Varsity Blues\n",
      "- Hot Fuzz\n",
      "- Duets\n",
      "- Juwanna Mann\n",
      "- Why Did I Get Married?\n",
      "- Malibu's Most Wanted\n",
      "- Disturbing Behavior\n",
      "- New York Stories\n",
      "- Whatever It Takes\n",
      "- Buffalo Soldiers\n",
      "- The Son of No One\n",
      "- Bathory: Countess of Blood\n",
      "- Khumba\n",
      "- Slumdog Millionaire\n",
      "- Cool Runnings\n",
      "- I Think I Love My Wife\n",
      "- A Walk on the Moon\n",
      "- Hot Tub Time Machine 2\n",
      "- Black Swan\n",
      "- Being John Malkovich\n",
      "- The Killer Inside Me\n",
      "- Think Like a Man\n",
      "- Star Trek II: The Wrath of Khan\n",
      "- Jackie Brown\n",
      "- Heaven is for Real\n",
      "- Doctor Zhivago\n",
      "- The Fighter\n",
      "- If I Stay\n",
      "- History of the World: Part I\n",
      "- Corky Romano\n",
      "- Quartet\n",
      "- Kinsey\n",
      "- Romance & Cigarettes\n",
      "- Jindabyne\n",
      "- E.T. the Extra-Terrestrial\n",
      "- The Bélier Family\n",
      "- Recess: School's Out\n",
      "- Roll Bounce\n",
      "- The Goods: Live Hard, Sell Hard\n",
      "- Movie 43\n",
      "- War, Inc.\n",
      "- Gunless\n",
      "- Kites\n",
      "- Loose Cannons\n",
      "- Sicko\n",
      "- Gracie\n",
      "- The Girl on the Train\n",
      "- Barbarella\n",
      "- Glitter\n",
      "- The Inkwell\n",
      "- Woman on Top\n",
      "- The Last Temptation of Christ\n",
      "- March or Die\n",
      "- The Chumscrubber\n",
      "- A Home at the End of the World\n",
      "- Control\n",
      "- Butch Cassidy and the Sundance Kid\n",
      "- Best in Show\n",
      "- Stiff Upper Lips\n",
      "- Bend It Like Beckham\n",
      "- Galaxina\n",
      "- Somewhere in Time\n",
      "- Saw II\n",
      "- The Robe\n",
      "- Billy Elliot\n",
      "- Our Idiot Brother\n",
      "- Eve's Bayou\n",
      "- Lone Star\n",
      "- The Beastmaster\n",
      "- Solomon and Sheba\n",
      "- The Machinist\n",
      "- Out of the Blue\n",
      "- Sleep Tight\n",
      "- Sling Blade\n",
      "- The Awakening\n",
      "- Character\n",
      "- Fugly\n",
      "- 3 Strikes\n",
      "- Samsara\n",
      "- Zipper\n",
      "- The Pirate\n",
      "- Menace II Society\n",
      "- Harper\n",
      "- The Secret\n",
      "- City of God\n",
      "- Jason Goes to Hell: The Final Friday\n",
      "- Krush Groove\n",
      "- My Big Fat Independent Movie\n",
      "- Tanner Hall\n",
      "- Blazing Saddles\n",
      "- Escape from the Planet of the Apes\n",
      "- Fantasia\n",
      "- The Last Sin Eater\n",
      "- Do You Believe?\n",
      "- From Russia with Love\n",
      "- Captive\n",
      "- Dinner Rush\n",
      "- It's All Gone Pete Tong\n",
      "- Roadside Romeo\n",
      "- Highway\n",
      "- ABCD (Any Body Can Dance)\n",
      "- Mr. Smith Goes to Washington\n",
      "- The Holy Girl\n",
      "- Sex, Lies, and Videotape\n",
      "- Beyond the Black Rainbow\n",
      "- Sands of Iwo Jima\n",
      "- Frozen River\n",
      "- In Her Line of Fire\n",
      "- 4 Months, 3 Weeks and 2 Days\n",
      "- Live-In Maid\n",
      "- Starsuckers\n",
      "- Walter\n",
      "- Light from the Darkroom\n",
      "- Beyond the Mat\n",
      "- The Toxic Avenger\n",
      "- Rise of the Entrepreneur: The Search for a Better Way\n",
      "- Blue Ruin\n",
      "- Quinceañera\n",
      "- Rotor DR1\n",
      "- Compliance\n",
      "- November\n",
      "- Teeth and Blood\n",
      "- The Beast from 20,000 Fathoms\n",
      "- Call + Response\n",
      "- Reality Show\n",
      "- She's Gotta Have It\n",
      "- Indie Game: The Movie\n",
      "- Rampage\n",
      "- Cure\n"
     ]
    }
   ],
   "source": [
    "prev_watch = \"Avatar\"\n",
    "\n",
    "# Find what cluster index Avatar falls into for K-means\n",
    "cluster_kmeans = df.loc[df['title'] == prev_watch, 'cluster_kmeans'].values[0]\n",
    "\n",
    "# Find what cluster index Avatar falls into for GMM\n",
    "cluster_gmm = df.loc[df['title'] == prev_watch, 'cluster_gmm'].values[0]\n",
    "\n",
    "# Print out similar movies based on K-means clustering\n",
    "print(\"Similar movies to\", prev_watch, \" based on K-means clustering:\")\n",
    "similar_movies_kmeans = df[df['cluster_kmeans'] == cluster_kmeans]['title'].values\n",
    "for movie in similar_movies_kmeans:\n",
    "    if movie != prev_watch:\n",
    "        print(\"-\", movie)\n",
    "\n",
    "# Print out similar movies based on GMM clustering\n",
    "print(\"\\nSimilar movies to \",prev_watch, \" based on GMM clustering:\")\n",
    "similar_movies_gmm = df[df['cluster_gmm'] == cluster_gmm]['title'].values\n",
    "for movie in similar_movies_gmm:\n",
    "    if movie != prev_watch:\n",
    "        print(\"-\", movie)"
   ]
  },
  {
   "cell_type": "markdown",
   "id": "4ecec1ff",
   "metadata": {},
   "source": [
    "**Q6.2** Are any of the two recommender systems any good? Would you use them if your real dentist asks for a movie suggestion?"
   ]
  },
  {
   "cell_type": "markdown",
   "id": "aae96b8a",
   "metadata": {},
   "source": [
    "The first one is quite bad, as the movies, according to my cinematographic knowledge, seem quite dissimilar. For the GMM clustering it seems slightly better, however, the list contains some strange recommendations. SO I do not think either is particularly good. \n",
    " "
   ]
  },
  {
   "cell_type": "markdown",
   "id": "92b84753",
   "metadata": {},
   "source": [
    "**Q6.3** How would you try making the recommender systems better?"
   ]
  },
  {
   "cell_type": "markdown",
   "id": "40d3f6dd",
   "metadata": {},
   "source": [
    "A representative frame from the movie could be analysed and compared for simularity with other ones. Also, the age ratings could be added, also the overview length could be varied and adjusted per movie, and the length should subsequently be added as variable: it matters if a movie can ve overviewed in one or ten sentences."
   ]
  },
  {
   "cell_type": "markdown",
   "id": "7df2d34a",
   "metadata": {},
   "source": [
    "**Q6.4** Say your dentist likes the movies you suggested and has watched a few more since you met him last. How would you incorporate this fact (recommendation based on multiple movies) into your suggestions?"
   ]
  },
  {
   "cell_type": "markdown",
   "id": "b3549de4",
   "metadata": {},
   "source": [
    "One could make a \"taste profile\" and use the Kmeans of the movies in his profile to see which movie could be in the average of its personal set."
   ]
  },
  {
   "cell_type": "markdown",
   "id": "f20b74ce",
   "metadata": {},
   "source": [
    "**Q6.5** An alternative method for recommendations is to use your encoded movie-feature vectors (in this case your overview+PCA vector) in order to find out what movie may be most similar to the current one. In the case of K-Means and GMMs, \"similarity\" referred to Euclidean distance. However, in this exercise, we will use *cosine similarity*, which is another very common similarity measure, and is related to the angle between two vectors. It is defined as:\n",
    "\n",
    "$$sim(v_1, v_2)=\\frac{v_1\\cdot v_2}{||v_1||\\cdot||v_2||}$$\n",
    "\n",
    "Where $v_1$ and $v_2$ are vectors and the operator $||\\cdot||$ is the norm of the vector. The function ranges from $[-1,1]$ (where 1 means that the vectors point in the same direction).\n",
    "\n",
    "Define an appropriate function `cosine_sim`. Add a column called `cos_sim_to_avatar` in the df and print out the head of the df, sorted by the similarity. What movies would you recommend now? Is this better than the clustering methods?"
   ]
  },
  {
   "cell_type": "code",
   "execution_count": 68,
   "id": "cedf60f3",
   "metadata": {
    "ExecuteTime": {
     "end_time": "2024-03-23T20:20:23.656983600Z",
     "start_time": "2024-03-23T20:20:21.773965600Z"
    }
   },
   "outputs": [
    {
     "name": "stdout",
     "output_type": "stream",
     "text": [
      "                            title  \\\n",
      "2859                     Das Boot   \n",
      "411   Scott Pilgrim vs. the World   \n",
      "4017                   Evil Words   \n",
      "485         Babe: Pig in the City   \n",
      "4396             Creative Control   \n",
      "\n",
      "                                               overview  \\\n",
      "2859  A German submarine hunts allied ships during t...   \n",
      "411   Scott Pilgrim is a film adaptation of the crit...   \n",
      "4017  One day, for no apparent reason, a cop kills 1...   \n",
      "485   Babe, fresh from his victory in the sheepherdi...   \n",
      "4396  Smooth advertising executive David is in a rel...   \n",
      "\n",
      "                                                 genres proc_genres  \\\n",
      "2859  [{\"id\": 28, \"name\": \"Action\"}, {\"id\": 18, \"nam...       Drama   \n",
      "411   [{\"id\": 28, \"name\": \"Action\"}, {\"id\": 12, \"nam...   Adventure   \n",
      "4017  [{\"id\": 27, \"name\": \"Horror\"}, {\"id\": 9648, \"n...    Thriller   \n",
      "485   [{\"id\": 12, \"name\": \"Adventure\"}, {\"id\": 35, \"...      Family   \n",
      "4396  [{\"id\": 18, \"name\": \"Drama\"}, {\"id\": 878, \"nam...       Drama   \n",
      "\n",
      "                                         one_hot_genres  \\\n",
      "2859  [0.0, 0.0, 0.0, 0.0, 0.0, 0.0, 1.0, 0.0, 0.0, ...   \n",
      "411   [0.0, 1.0, 0.0, 0.0, 0.0, 0.0, 0.0, 0.0, 0.0, ...   \n",
      "4017  [0.0, 0.0, 0.0, 0.0, 0.0, 0.0, 0.0, 0.0, 0.0, ...   \n",
      "485   [0.0, 0.0, 0.0, 0.0, 0.0, 0.0, 0.0, 1.0, 0.0, ...   \n",
      "4396  [0.0, 0.0, 0.0, 0.0, 0.0, 0.0, 1.0, 0.0, 0.0, ...   \n",
      "\n",
      "                                          proc_overview  overview_len  \\\n",
      "2859  a german submarine hunts allied ships during t...            35   \n",
      "411   scott pilgrim is a film adaptation of the crit...            62   \n",
      "4017  one day for no apparent reason a cop kills 11 ...           116   \n",
      "485   babe fresh from his victory in the sheepherdin...            36   \n",
      "4396  smooth advertising executive david is in a rel...            51   \n",
      "\n",
      "                                       one_hot_overview  \\\n",
      "2859  [0.0, 0.0, 0.0, 0.0, 0.0, 0.0, 0.0, 0.0, 0.0, ...   \n",
      "411   [0.0, 0.0, 0.0, 0.0, 0.0, 0.0, 0.0, 0.0, 0.0, ...   \n",
      "4017  [0.0, 0.0, 0.0, 0.0, 0.0, 0.0, 0.0, 0.0, 0.0, ...   \n",
      "485   [0.0, 0.0, 0.0, 0.0, 0.0, 0.0, 0.0, 0.0, 0.0, ...   \n",
      "4396  [0.0, 0.0, 0.0, 0.0, 0.0, 0.0, 0.0, 0.0, 0.0, ...   \n",
      "\n",
      "                                           overview_pca  cluster_kmeans  \\\n",
      "2859  [0.06502787274123446, 0.1687479886848253, 0.14...              16   \n",
      "411   [0.6668207855087522, 0.8857554537509151, -0.31...              12   \n",
      "4017  [0.04744144462326264, 0.14368632320095062, 0.1...              16   \n",
      "485   [0.4858981701987119, -0.9094847373436145, 0.80...               2   \n",
      "4396  [-0.8005990594374454, -0.3129259546547099, -0....              18   \n",
      "\n",
      "      cluster_gmm  cos_sim_to_avatar  \n",
      "2859           12           0.000011  \n",
      "411             4           0.000020  \n",
      "4017           12           0.000139  \n",
      "485             1           0.000183  \n",
      "4396           13           0.000254  \n"
     ]
    },
    {
     "data": {
      "text/plain": "                            title  \\\n2859                     Das Boot   \n411   Scott Pilgrim vs. the World   \n4017                   Evil Words   \n485         Babe: Pig in the City   \n4396             Creative Control   \n...                           ...   \n415                         Dredd   \n1285           Nomad: The Warrior   \n3778                       Zipper   \n3363                      Warlock   \n0                          Avatar   \n\n                                               overview  \\\n2859  A German submarine hunts allied ships during t...   \n411   Scott Pilgrim is a film adaptation of the crit...   \n4017  One day, for no apparent reason, a cop kills 1...   \n485   Babe, fresh from his victory in the sheepherdi...   \n4396  Smooth advertising executive David is in a rel...   \n...                                                 ...   \n415   In the future, America is a dystopian wastelan...   \n1285  The Nomad is a historical epic set in 18th-cen...   \n3778  Sam Ellis is a man on the rise — a hot-shot fe...   \n3363  A warlock flees from the 17th to the 20th cent...   \n0     In the 22nd century, a paraplegic Marine is di...   \n\n                                                 genres proc_genres  \\\n2859  [{\"id\": 28, \"name\": \"Action\"}, {\"id\": 18, \"nam...       Drama   \n411   [{\"id\": 28, \"name\": \"Action\"}, {\"id\": 12, \"nam...   Adventure   \n4017  [{\"id\": 27, \"name\": \"Horror\"}, {\"id\": 9648, \"n...    Thriller   \n485   [{\"id\": 12, \"name\": \"Adventure\"}, {\"id\": 35, \"...      Family   \n4396  [{\"id\": 18, \"name\": \"Drama\"}, {\"id\": 878, \"nam...       Drama   \n...                                                 ...         ...   \n415   [{\"id\": 28, \"name\": \"Action\"}, {\"id\": 878, \"na...      Action   \n1285  [{\"id\": 28, \"name\": \"Action\"}, {\"id\": 36, \"nam...      Action   \n3778  [{\"id\": 53, \"name\": \"Thriller\"}, {\"id\": 18, \"n...    Thriller   \n3363  [{\"id\": 12, \"name\": \"Adventure\"}, {\"id\": 35, \"...     Fantasy   \n0     [{\"id\": 28, \"name\": \"Action\"}, {\"id\": 12, \"nam...      Action   \n\n                                         one_hot_genres  \\\n2859  [0.0, 0.0, 0.0, 0.0, 0.0, 0.0, 1.0, 0.0, 0.0, ...   \n411   [0.0, 1.0, 0.0, 0.0, 0.0, 0.0, 0.0, 0.0, 0.0, ...   \n4017  [0.0, 0.0, 0.0, 0.0, 0.0, 0.0, 0.0, 0.0, 0.0, ...   \n485   [0.0, 0.0, 0.0, 0.0, 0.0, 0.0, 0.0, 1.0, 0.0, ...   \n4396  [0.0, 0.0, 0.0, 0.0, 0.0, 0.0, 1.0, 0.0, 0.0, ...   \n...                                                 ...   \n415   [1.0, 0.0, 0.0, 0.0, 0.0, 0.0, 0.0, 0.0, 0.0, ...   \n1285  [1.0, 0.0, 0.0, 0.0, 0.0, 0.0, 0.0, 0.0, 0.0, ...   \n3778  [0.0, 0.0, 0.0, 0.0, 0.0, 0.0, 0.0, 0.0, 0.0, ...   \n3363  [0.0, 0.0, 0.0, 0.0, 0.0, 0.0, 0.0, 0.0, 1.0, ...   \n0     [1.0, 0.0, 0.0, 0.0, 0.0, 0.0, 0.0, 0.0, 0.0, ...   \n\n                                          proc_overview  overview_len  \\\n2859  a german submarine hunts allied ships during t...            35   \n411   scott pilgrim is a film adaptation of the crit...            62   \n4017  one day for no apparent reason a cop kills 11 ...           116   \n485   babe fresh from his victory in the sheepherdin...            36   \n4396  smooth advertising executive david is in a rel...            51   \n...                                                 ...           ...   \n415   in the future america is a dystopian wasteland...            87   \n1285  the nomad is a historical epic set in 18thcent...            39   \n3778  sam ellis is a man on the rise a hotshot feder...            48   \n3363  a warlock flees from the 17th to the 20th cent...           122   \n0     in the 22nd century a paraplegic marine is dis...            28   \n\n                                       one_hot_overview  \\\n2859  [0.0, 0.0, 0.0, 0.0, 0.0, 0.0, 0.0, 0.0, 0.0, ...   \n411   [0.0, 0.0, 0.0, 0.0, 0.0, 0.0, 0.0, 0.0, 0.0, ...   \n4017  [0.0, 0.0, 0.0, 0.0, 0.0, 0.0, 0.0, 0.0, 0.0, ...   \n485   [0.0, 0.0, 0.0, 0.0, 0.0, 0.0, 0.0, 0.0, 0.0, ...   \n4396  [0.0, 0.0, 0.0, 0.0, 0.0, 0.0, 0.0, 0.0, 0.0, ...   \n...                                                 ...   \n415   [0.0, 0.0, 0.0, 0.0, 0.0, 0.0, 0.0, 0.0, 0.0, ...   \n1285  [0.0, 0.0, 0.0, 0.0, 0.0, 0.0, 0.0, 0.0, 0.0, ...   \n3778  [0.0, 0.0, 0.0, 0.0, 0.0, 0.0, 0.0, 0.0, 0.0, ...   \n3363  [0.0, 0.0, 0.0, 0.0, 0.0, 0.0, 0.0, 0.0, 0.0, ...   \n0     [0.0, 0.0, 0.0, 0.0, 0.0, 0.0, 0.0, 0.0, 0.0, ...   \n\n                                           overview_pca  cluster_kmeans  \\\n2859  [0.06502787274123446, 0.1687479886848253, 0.14...              16   \n411   [0.6668207855087522, 0.8857554537509151, -0.31...              12   \n4017  [0.04744144462326264, 0.14368632320095062, 0.1...              16   \n485   [0.4858981701987119, -0.9094847373436145, 0.80...               2   \n4396  [-0.8005990594374454, -0.3129259546547099, -0....              18   \n...                                                 ...             ...   \n415   [0.23152067361940043, 1.4016470372923668, 0.35...              12   \n1285  [0.25023301021237593, 1.4192751540292194, 0.33...              12   \n3778  [0.214975615219796, 1.408547801772845, 0.51474...              16   \n3363  [0.14285163674538193, 1.1940360295716, 1.00924...              16   \n0     [0.17130556275116166, 1.2545637565427674, 1.06...              16   \n\n      cluster_gmm  cos_sim_to_avatar  \n2859           12           0.000011  \n411             4           0.000020  \n4017           12           0.000139  \n485             1           0.000183  \n4396           13           0.000254  \n...           ...                ...  \n415             5           0.457812  \n1285            5           0.469117  \n3778            5           0.471236  \n3363           16           0.528300  \n0               5           1.000000  \n\n[4707 rows x 12 columns]",
      "text/html": "<div>\n<style scoped>\n    .dataframe tbody tr th:only-of-type {\n        vertical-align: middle;\n    }\n\n    .dataframe tbody tr th {\n        vertical-align: top;\n    }\n\n    .dataframe thead th {\n        text-align: right;\n    }\n</style>\n<table border=\"1\" class=\"dataframe\">\n  <thead>\n    <tr style=\"text-align: right;\">\n      <th></th>\n      <th>title</th>\n      <th>overview</th>\n      <th>genres</th>\n      <th>proc_genres</th>\n      <th>one_hot_genres</th>\n      <th>proc_overview</th>\n      <th>overview_len</th>\n      <th>one_hot_overview</th>\n      <th>overview_pca</th>\n      <th>cluster_kmeans</th>\n      <th>cluster_gmm</th>\n      <th>cos_sim_to_avatar</th>\n    </tr>\n  </thead>\n  <tbody>\n    <tr>\n      <th>2859</th>\n      <td>Das Boot</td>\n      <td>A German submarine hunts allied ships during t...</td>\n      <td>[{\"id\": 28, \"name\": \"Action\"}, {\"id\": 18, \"nam...</td>\n      <td>Drama</td>\n      <td>[0.0, 0.0, 0.0, 0.0, 0.0, 0.0, 1.0, 0.0, 0.0, ...</td>\n      <td>a german submarine hunts allied ships during t...</td>\n      <td>35</td>\n      <td>[0.0, 0.0, 0.0, 0.0, 0.0, 0.0, 0.0, 0.0, 0.0, ...</td>\n      <td>[0.06502787274123446, 0.1687479886848253, 0.14...</td>\n      <td>16</td>\n      <td>12</td>\n      <td>0.000011</td>\n    </tr>\n    <tr>\n      <th>411</th>\n      <td>Scott Pilgrim vs. the World</td>\n      <td>Scott Pilgrim is a film adaptation of the crit...</td>\n      <td>[{\"id\": 28, \"name\": \"Action\"}, {\"id\": 12, \"nam...</td>\n      <td>Adventure</td>\n      <td>[0.0, 1.0, 0.0, 0.0, 0.0, 0.0, 0.0, 0.0, 0.0, ...</td>\n      <td>scott pilgrim is a film adaptation of the crit...</td>\n      <td>62</td>\n      <td>[0.0, 0.0, 0.0, 0.0, 0.0, 0.0, 0.0, 0.0, 0.0, ...</td>\n      <td>[0.6668207855087522, 0.8857554537509151, -0.31...</td>\n      <td>12</td>\n      <td>4</td>\n      <td>0.000020</td>\n    </tr>\n    <tr>\n      <th>4017</th>\n      <td>Evil Words</td>\n      <td>One day, for no apparent reason, a cop kills 1...</td>\n      <td>[{\"id\": 27, \"name\": \"Horror\"}, {\"id\": 9648, \"n...</td>\n      <td>Thriller</td>\n      <td>[0.0, 0.0, 0.0, 0.0, 0.0, 0.0, 0.0, 0.0, 0.0, ...</td>\n      <td>one day for no apparent reason a cop kills 11 ...</td>\n      <td>116</td>\n      <td>[0.0, 0.0, 0.0, 0.0, 0.0, 0.0, 0.0, 0.0, 0.0, ...</td>\n      <td>[0.04744144462326264, 0.14368632320095062, 0.1...</td>\n      <td>16</td>\n      <td>12</td>\n      <td>0.000139</td>\n    </tr>\n    <tr>\n      <th>485</th>\n      <td>Babe: Pig in the City</td>\n      <td>Babe, fresh from his victory in the sheepherdi...</td>\n      <td>[{\"id\": 12, \"name\": \"Adventure\"}, {\"id\": 35, \"...</td>\n      <td>Family</td>\n      <td>[0.0, 0.0, 0.0, 0.0, 0.0, 0.0, 0.0, 1.0, 0.0, ...</td>\n      <td>babe fresh from his victory in the sheepherdin...</td>\n      <td>36</td>\n      <td>[0.0, 0.0, 0.0, 0.0, 0.0, 0.0, 0.0, 0.0, 0.0, ...</td>\n      <td>[0.4858981701987119, -0.9094847373436145, 0.80...</td>\n      <td>2</td>\n      <td>1</td>\n      <td>0.000183</td>\n    </tr>\n    <tr>\n      <th>4396</th>\n      <td>Creative Control</td>\n      <td>Smooth advertising executive David is in a rel...</td>\n      <td>[{\"id\": 18, \"name\": \"Drama\"}, {\"id\": 878, \"nam...</td>\n      <td>Drama</td>\n      <td>[0.0, 0.0, 0.0, 0.0, 0.0, 0.0, 1.0, 0.0, 0.0, ...</td>\n      <td>smooth advertising executive david is in a rel...</td>\n      <td>51</td>\n      <td>[0.0, 0.0, 0.0, 0.0, 0.0, 0.0, 0.0, 0.0, 0.0, ...</td>\n      <td>[-0.8005990594374454, -0.3129259546547099, -0....</td>\n      <td>18</td>\n      <td>13</td>\n      <td>0.000254</td>\n    </tr>\n    <tr>\n      <th>...</th>\n      <td>...</td>\n      <td>...</td>\n      <td>...</td>\n      <td>...</td>\n      <td>...</td>\n      <td>...</td>\n      <td>...</td>\n      <td>...</td>\n      <td>...</td>\n      <td>...</td>\n      <td>...</td>\n      <td>...</td>\n    </tr>\n    <tr>\n      <th>415</th>\n      <td>Dredd</td>\n      <td>In the future, America is a dystopian wastelan...</td>\n      <td>[{\"id\": 28, \"name\": \"Action\"}, {\"id\": 878, \"na...</td>\n      <td>Action</td>\n      <td>[1.0, 0.0, 0.0, 0.0, 0.0, 0.0, 0.0, 0.0, 0.0, ...</td>\n      <td>in the future america is a dystopian wasteland...</td>\n      <td>87</td>\n      <td>[0.0, 0.0, 0.0, 0.0, 0.0, 0.0, 0.0, 0.0, 0.0, ...</td>\n      <td>[0.23152067361940043, 1.4016470372923668, 0.35...</td>\n      <td>12</td>\n      <td>5</td>\n      <td>0.457812</td>\n    </tr>\n    <tr>\n      <th>1285</th>\n      <td>Nomad: The Warrior</td>\n      <td>The Nomad is a historical epic set in 18th-cen...</td>\n      <td>[{\"id\": 28, \"name\": \"Action\"}, {\"id\": 36, \"nam...</td>\n      <td>Action</td>\n      <td>[1.0, 0.0, 0.0, 0.0, 0.0, 0.0, 0.0, 0.0, 0.0, ...</td>\n      <td>the nomad is a historical epic set in 18thcent...</td>\n      <td>39</td>\n      <td>[0.0, 0.0, 0.0, 0.0, 0.0, 0.0, 0.0, 0.0, 0.0, ...</td>\n      <td>[0.25023301021237593, 1.4192751540292194, 0.33...</td>\n      <td>12</td>\n      <td>5</td>\n      <td>0.469117</td>\n    </tr>\n    <tr>\n      <th>3778</th>\n      <td>Zipper</td>\n      <td>Sam Ellis is a man on the rise — a hot-shot fe...</td>\n      <td>[{\"id\": 53, \"name\": \"Thriller\"}, {\"id\": 18, \"n...</td>\n      <td>Thriller</td>\n      <td>[0.0, 0.0, 0.0, 0.0, 0.0, 0.0, 0.0, 0.0, 0.0, ...</td>\n      <td>sam ellis is a man on the rise a hotshot feder...</td>\n      <td>48</td>\n      <td>[0.0, 0.0, 0.0, 0.0, 0.0, 0.0, 0.0, 0.0, 0.0, ...</td>\n      <td>[0.214975615219796, 1.408547801772845, 0.51474...</td>\n      <td>16</td>\n      <td>5</td>\n      <td>0.471236</td>\n    </tr>\n    <tr>\n      <th>3363</th>\n      <td>Warlock</td>\n      <td>A warlock flees from the 17th to the 20th cent...</td>\n      <td>[{\"id\": 12, \"name\": \"Adventure\"}, {\"id\": 35, \"...</td>\n      <td>Fantasy</td>\n      <td>[0.0, 0.0, 0.0, 0.0, 0.0, 0.0, 0.0, 0.0, 1.0, ...</td>\n      <td>a warlock flees from the 17th to the 20th cent...</td>\n      <td>122</td>\n      <td>[0.0, 0.0, 0.0, 0.0, 0.0, 0.0, 0.0, 0.0, 0.0, ...</td>\n      <td>[0.14285163674538193, 1.1940360295716, 1.00924...</td>\n      <td>16</td>\n      <td>16</td>\n      <td>0.528300</td>\n    </tr>\n    <tr>\n      <th>0</th>\n      <td>Avatar</td>\n      <td>In the 22nd century, a paraplegic Marine is di...</td>\n      <td>[{\"id\": 28, \"name\": \"Action\"}, {\"id\": 12, \"nam...</td>\n      <td>Action</td>\n      <td>[1.0, 0.0, 0.0, 0.0, 0.0, 0.0, 0.0, 0.0, 0.0, ...</td>\n      <td>in the 22nd century a paraplegic marine is dis...</td>\n      <td>28</td>\n      <td>[0.0, 0.0, 0.0, 0.0, 0.0, 0.0, 0.0, 0.0, 0.0, ...</td>\n      <td>[0.17130556275116166, 1.2545637565427674, 1.06...</td>\n      <td>16</td>\n      <td>5</td>\n      <td>1.000000</td>\n    </tr>\n  </tbody>\n</table>\n<p>4707 rows × 12 columns</p>\n</div>"
     },
     "execution_count": 68,
     "metadata": {},
     "output_type": "execute_result"
    }
   ],
   "source": [
    "# Define cosine similarity function\n",
    "def cosine_sim(v1, v2):\n",
    "    norm_v1 = np.linalg.norm(v1)\n",
    "    norm_v2 = np.linalg.norm(v2)\n",
    "    return np.dot(v1, v2) / (norm_v1 * norm_v2)\n",
    "\n",
    "# Get overview_pca encoding of previously watched film\n",
    "prev_watch_enc = df.loc[df['title'] == prev_watch, 'overview_pca'].values[0]\n",
    "\n",
    "# Calculate cosine similarity between the feature vector of the previously watched film and all other feature vectors\n",
    "sims = []\n",
    "for i, row in df.iterrows():\n",
    "    sim = cosine_sim(prev_watch_enc, row['overview_pca'])\n",
    "    sims.append(np.abs(sim))  # Make the similarity values absolute\n",
    "\n",
    "# Add cosine similarity column to the DataFrame\n",
    "df[\"cos_sim_to_avatar\"] = sims\n",
    "\n",
    "# Sort DataFrame by cosine similarity\n",
    "df = df.sort_values(by='cos_sim_to_avatar')\n",
    "\n",
    "# Print the head of the DataFrame sorted by cosine similarity\n",
    "print(df.head())\n",
    "\n",
    "df"
   ]
  },
  {
   "cell_type": "markdown",
   "id": "40391e82",
   "metadata": {},
   "source": [
    "I dont think this is a particularly good recommendation system, as the movies are all quite different from avatar."
   ]
  },
  {
   "cell_type": "markdown",
   "id": "a7b1e343",
   "metadata": {},
   "source": [
    "# Q7 Unsupervised Learning as a Tool\n",
    "\n",
    "At the end of this brief forey into natural language processing, we will end with an interesting task: can a machine predict the genre of a movie based purely on the first 10 words of its overview?\n",
    "\n",
    "First, the following cell shuffles the dataset and splits it into a training and test set. The random seed and random state ensure that the train and test samples are the same for you all the time, and *probably* your classmates too. You can verify this by printing out the dataframes and checking it for yourself."
   ]
  },
  {
   "cell_type": "code",
   "execution_count": 69,
   "id": "f5b1bde1",
   "metadata": {
    "ExecuteTime": {
     "end_time": "2024-03-23T20:28:35.491419800Z",
     "start_time": "2024-03-23T20:28:35.438437200Z"
    }
   },
   "outputs": [
    {
     "name": "stdout",
     "output_type": "stream",
     "text": [
      "3765 942\n"
     ]
    }
   ],
   "source": [
    "np.random.seed(0)\n",
    "n_train = int(0.8*len(df))\n",
    "df_shuffle = df.sample(frac=1, random_state=42).reset_index(drop=True)\n",
    "df_train = df_shuffle[:n_train].reset_index(drop=True)\n",
    "df_test = df_shuffle[n_train:].reset_index(drop=True)\n",
    "print(len(df_train), len(df_test))"
   ]
  },
  {
   "cell_type": "markdown",
   "id": "92f9d534",
   "metadata": {},
   "source": [
    "## Train, test, evaluate\n",
    "\n",
    "Using a supervised learning method of your choice, try predicting the genre of a movie from the overview. The way you preprocess your data is up to you, and you can take inspiration from the above exercises (e.g. PCA on the one-hot encodings as input, one-hot label encodings as output). There are a number of hyperparameters you can choose depending on your selected method (number of words in your overview, number of dimensions, number of clusters, hyperparameters of your supervised model...), thus, make sure to perform hyperparameter optimization in some way (grid-search, fine-tuning, etc). Once you are happy with how your model is performing, **print out the train_score (accuracy$\\in[0,1]$), test_score (accuracy$\\in[0,1]$), mean training time (in seconds), and mean inference time (in seconds) of your model**.\n",
    "\n",
    "If you are already excited about neural networks, you may also choose to use that as your supervised method. The easiest way to do it is with sklearn's `MLPClassifier` module. The main hyperparameter you would need to tune is the architecture of your model -- how many hidden layers, and how large is each one. For this task, in order to get best performance, you do not necessarily need an MLP (multi-layer perceptron) but feel free to experiment.\n",
    "\n",
    "*Hint: the `train_and_eval` function from the last assignment should be of great help here*"
   ]
  },
  {
   "cell_type": "code",
   "execution_count": 70,
   "id": "e9ac379d",
   "metadata": {
    "ExecuteTime": {
     "end_time": "2024-03-23T20:30:12.684536200Z",
     "start_time": "2024-03-23T20:29:07.528542500Z"
    }
   },
   "outputs": [
    {
     "name": "stdout",
     "output_type": "stream",
     "text": [
      "Train Score: 0.2244355909694555\n",
      "Test Score: 0.10084925690021232\n",
      "Mean Training Time (s): 0.0025964439944283738\n",
      "Mean Inference Time (s): 0.05828112427089877\n"
     ]
    }
   ],
   "source": [
    "from sklearn.feature_extraction.text import TfidfVectorizer\n",
    "from sklearn.svm import SVC\n",
    "from sklearn.metrics import accuracy_score\n",
    "from time import time\n",
    "\n",
    "# Preprocessing\n",
    "tfidf_vectorizer = TfidfVectorizer(max_features=1000, stop_words='english')\n",
    "X_train = tfidf_vectorizer.fit_transform(df_train['overview'].apply(lambda x: ' '.join(x.split()[:10])))\n",
    "y_train = df_train['genres']\n",
    "X_test = tfidf_vectorizer.transform(df_test['overview'].apply(lambda x: ' '.join(x.split()[:10])))\n",
    "y_test = df_test['genres']\n",
    "\n",
    "# Model Selection and Hyperparameter Tuning\n",
    "svm = SVC(kernel='linear', C=1.0)\n",
    "# You can perform hyperparameter tuning here\n",
    "\n",
    "# Train and Evaluate\n",
    "start_train = time()\n",
    "svm.fit(X_train, y_train)\n",
    "end_train = time()\n",
    "train_time = end_train - start_train\n",
    "\n",
    "start_inference = time()\n",
    "train_score = svm.score(X_train, y_train)\n",
    "test_score = svm.score(X_test, y_test)\n",
    "end_inference = time()\n",
    "inference_time = end_inference - start_inference\n",
    "\n",
    "# Print Results\n",
    "print(\"Train Score:\", train_score)\n",
    "print(\"Test Score:\", test_score)\n",
    "print(\"Mean Training Time (s):\", train_time / len(df_train))\n",
    "print(\"Mean Inference Time (s):\", inference_time / len(df_test))"
   ]
  },
  {
   "cell_type": "markdown",
   "id": "5976997e",
   "metadata": {},
   "source": [
    "Write a paragraph of ~150 words about how you went about selecting and tuning your model, and how you may want to make improvements to your model if you were to continue working on this. Plots are very good but not strictly necessary (i.e. try to add plots if you can)."
   ]
  },
  {
   "cell_type": "markdown",
   "id": "54186a60",
   "metadata": {},
   "source": [
    "In het selecteren en afstemmen van het model voor het voorspellen van filmgenres op basis van filmoverzichten, begon ik met het voorbewerken van de gegevens door TF-IDF-vectorisatie te gebruiken om de tekst om te zetten in numerieke kenmerken, waarbij ik alleen rekening hield met de eerste 10 woorden van elk overzicht om de computationele complexiteit te beperken.\n",
    "\n",
    "TF-IDF-vectorisatie meet de relevantie van woorden in een document door hun frequentie te wegen ten opzichte van de frequentie in het gehele corpus, waardoor belangrijke woorden worden benadrukt en minder belangrijke worden afgezwakt. Dit wordt gebruikt om unieke en informatieve kenmerken te identificeren voor tekstanalyse en classificatie. (https://en.wikipedia.org/wiki/Tf%E2%80%93idf)\n",
    " \n",
    "Voor de modelselectie koos ik voor een Support Vector Machine (SVM) met een lineaire kernel vanwege zijn effectiviteit in het omgaan met hoog-dimensionale gegevens en potentiële non-lineaire relaties. Hyperparameterafstemming werd handmatig uitgevoerd door de regularisatieparameter C aan te passen. Het trainings- en evaluatieproces verliep eenvoudig, waarbij ik het SVM-model trainde op de trainingsgegevens en de prestaties ervan op de testgegevens evalueerde met behulp van nauwkeurigheid als de evaluatiemeting.\n",
    "\n",
    "De verkregen resultaten tonen een trainingscore van ongeveer 22,4% en een testscore van ongeveer 10,1%. De gemiddelde trainingstijd per monster is ongeveer 0,0026 seconden, terwijl de gemiddelde inferentietijd per monster ongeveer 0,058 seconden is. Hoewel het model beter presteert dan willekeurig raden, is er nog steeds aanzienlijke ruimte voor verbetering. Toekomstige iteraties van het model zouden alternatieve kenmerkrepresentaties kunnen verkennen, zoals woordembeddings of kenmerken op karakterniveau, experimenteren met verschillende machine learning-algoritmen of zelfs dieper ingaan op complexere modellen zoals neurale netwerken. Daarnaast zou het uitvoeren van een uitgebreider hyperparameteronderzoek met behulp van technieken zoals grid-zoeken of random zoeken kunnen helpen bij het optimaliseren van de prestaties van het model. Visualisaties zoals leerkrommen of verwarringsmatrices zouden dieper inzicht kunnen bieden in het gedrag van het model en kunnen helpen bij het identificeren van verbeterpunten."
   ]
  },
  {
   "cell_type": "markdown",
   "id": "14b50007",
   "metadata": {},
   "source": [
    "# BONUS\n",
    "\n",
    "If you are happy with your score and wish to see how well it is doing with respect to other people (a sort of mini-competition), fill out the following form with the train_score (accuracy$\\in[0,1]$), test_score (accuracy$\\in[0,1]$), mean training time (in seconds), and mean inference time (in seconds) of your model, as well as what method you use. You can submit as many times before the deadline as you wish. Your final results will be correlated with your submission in order to validate your results (if we cannot validate them, they will be immediately disqualified).\n",
    "\n",
    "[FORM HERE](https://forms.gle/rXRtXScABH5oDLRWA)"
   ]
  }
 ],
 "metadata": {
  "kernelspec": {
   "display_name": "Python 3 (ipykernel)",
   "language": "python",
   "name": "python3"
  },
  "language_info": {
   "codemirror_mode": {
    "name": "ipython",
    "version": 3
   },
   "file_extension": ".py",
   "mimetype": "text/x-python",
   "name": "python",
   "nbconvert_exporter": "python",
   "pygments_lexer": "ipython3",
   "version": "3.10.7"
  }
 },
 "nbformat": 4,
 "nbformat_minor": 5
}
